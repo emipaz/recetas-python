{
 "cells": [
  {
   "cell_type": "markdown",
   "metadata": {},
   "source": [
    "# Iteradores y Generadores"
   ]
  },
  {
   "cell_type": "markdown",
   "metadata": {},
   "source": [
    "La iteración es una de las características más sólidas de Python. En un nivel alto, simplemente puede ver\n",
    "iteración como una forma de procesar elementos en una secuencia. Sin embargo, hay mucho más que\n",
    "es posible, como crear sus propios objetos de iterador, aplicar patrones de iteración útiles\n",
    "en el módulo itertools, haciendo que el generador funcione"
   ]
  },
  {
   "cell_type": "markdown",
   "metadata": {},
   "source": [
    "# Consumir manualmente un iterador\n",
    "\n",
    "4.1\n",
    "\n",
    "- Problema\n",
    "        \n",
    "        Necesita procesar elementos de forma iterable, pero por el motivo que sea, no puede o no quiere utilizar un bucle for.  \n",
    "        \n",
    "        \n",
    "- Solución\n",
    "        \n",
    "        Para consumir manualmente un iterable, use la función next () y escriba su código para capturar la excepción StopIteration.   \n",
    "        \n",
    "Por ejemplo, este ejemplo lee manualmente las líneas de un archivo:"
   ]
  },
  {
   "cell_type": "code",
   "execution_count": null,
   "metadata": {},
   "outputs": [],
   "source": [
    "with open('/etc/passwd') as f:\n",
    "    try:\n",
    "        while True:\n",
    "            line = next(f)\n",
    "            print(line, end='')\n",
    "    except StopIteration:\n",
    "        pass"
   ]
  },
  {
   "cell_type": "markdown",
   "metadata": {},
   "source": [
    "Normalmente, StopIteration se usa para señalar el final de la iteración. Sin embargo, si está utilizando next () manualmente (como se muestra), también puede indicarle que devuelva un valor de terminación, como None, en su lugar.   \n",
    "Por ejemplo:"
   ]
  },
  {
   "cell_type": "code",
   "execution_count": null,
   "metadata": {},
   "outputs": [],
   "source": [
    "with open('/etc/passwd') as f:\n",
    "    while True:\n",
    "        line = next(f, None)\n",
    "        if line is None:\n",
    "            break\n",
    "        print(line, end='')"
   ]
  },
  {
   "cell_type": "markdown",
   "metadata": {},
   "source": [
    "En la mayoría de los casos, la instrucción for se usa para consumir un iterable. Sin embargo, un problema requiere un control más preciso sobre el mecanismo de iteración subyacente. Por tanto, es útil saber qué sucede realmente.\n",
    "El siguiente ejemplo interactivo ilustra la mecánica básica de lo que sucede durante la iteración:"
   ]
  },
  {
   "cell_type": "code",
   "execution_count": 15,
   "metadata": {},
   "outputs": [],
   "source": [
    "items = [1, 2]"
   ]
  },
  {
   "cell_type": "code",
   "execution_count": 16,
   "metadata": {},
   "outputs": [],
   "source": [
    "it = iter(items)"
   ]
  },
  {
   "cell_type": "code",
   "execution_count": null,
   "metadata": {},
   "outputs": [],
   "source": [
    "next(it)"
   ]
  },
  {
   "cell_type": "code",
   "execution_count": null,
   "metadata": {},
   "outputs": [],
   "source": [
    "next(it)"
   ]
  },
  {
   "cell_type": "code",
   "execution_count": null,
   "metadata": {},
   "outputs": [],
   "source": [
    "next(it)"
   ]
  },
  {
   "cell_type": "markdown",
   "metadata": {},
   "source": [
    "Las siguientes recetas de este capítulo amplían las técnicas de iteración y el conocimiento de se asume el protocolo de iterador básico. Asegúrese de guardar esta primera receta en su memoria."
   ]
  },
  {
   "cell_type": "markdown",
   "metadata": {},
   "source": [
    "# Delegar iteración\n",
    "\n",
    "4.2\n",
    "\n",
    "- Problema\n",
    "        \n",
    "        Ha creado un objeto contenedor personalizado que contiene internamente una lista, tupla o alguna otra iterable. Le gustaría que la iteración funcione con su nuevo contenedor.  \n",
    "        \n",
    "        \n",
    "- Solución\n",
    "        \n",
    "        Normalmente, todo lo que necesita hacer es definir un método __iter__() que delegue la iteración a el contenedor interno.   \n",
    "        \n",
    "Por ejemplo:"
   ]
  },
  {
   "cell_type": "code",
   "execution_count": 1,
   "metadata": {},
   "outputs": [],
   "source": [
    "class Node:\n",
    "    \n",
    "    def __init__(self, value):\n",
    "        self._value    = value\n",
    "        self._children = []\n",
    "    \n",
    "    def __repr__(self):\n",
    "        return 'Node({!r})'.format(self._value)\n",
    "    \n",
    "    def add_child(self, node):\n",
    "        self._children.append(node)\n",
    "    \n",
    "    def __iter__(self):\n",
    "        return iter(self._children)"
   ]
  },
  {
   "cell_type": "code",
   "execution_count": 2,
   "metadata": {},
   "outputs": [],
   "source": [
    "root = Node(0)\n",
    "child1 = Node(1)\n",
    "child2 = Node(2)\n",
    "root.add_child(child1)\n",
    "root.add_child(child2)"
   ]
  },
  {
   "cell_type": "code",
   "execution_count": null,
   "metadata": {},
   "outputs": [],
   "source": [
    "for ch in root:\n",
    "    print(ch)"
   ]
  },
  {
   "cell_type": "code",
   "execution_count": null,
   "metadata": {},
   "outputs": [],
   "source": [
    "root"
   ]
  },
  {
   "cell_type": "markdown",
   "metadata": {},
   "source": [
    "En este código, el método __iter __ () simplemente reenvía la solicitud de iteración al atributo _children retenido internamente."
   ]
  },
  {
   "cell_type": "markdown",
   "metadata": {},
   "source": [
    "El protocolo iterador de Python requiere que __ iter __ () devuelva un objeto iterador especial que implementa un método __ next __ () para llevar a cabo la iteración real. Si todo lo que estas haciendo está iterando sobre el contenido de otro contenedor, realmente no necesita preocuparse por los detalles subyacentes de cómo funciona. Todo lo que necesita hacer es reenviar la solicitud de iteracion.  \n",
    "El uso de la función iter() aquí es un atajo que limpia el código. iter(s) simplemente devuelve el iterador subyacente llamando a s.__ iter __ (), de la misma manera\n",
    "que len (s) invoca s.__ len __ ()."
   ]
  },
  {
   "cell_type": "markdown",
   "metadata": {},
   "source": [
    "# Creación de nuevos patrones de iteración con generadores\n",
    "\n",
    "4.3\n",
    "\n",
    "- Problema\n",
    "        \n",
    "        Desea implementar un patrón de iteración personalizado que sea diferente al habitual en funciones (por ejemplo, rango (), invertido (), etc.).  \n",
    "        \n",
    "- Solución\n",
    "        \n",
    "        Si desea implementar un nuevo tipo de patrón de iteración, defínalo usando un generador función. Aquí hay un generador que produce un rango de números de punto flotante:"
   ]
  },
  {
   "cell_type": "code",
   "execution_count": 5,
   "metadata": {},
   "outputs": [],
   "source": [
    "def frange(start, stop, increment):\n",
    "    x = start\n",
    "    while x < stop:\n",
    "        yield x\n",
    "        x += increment"
   ]
  },
  {
   "cell_type": "markdown",
   "metadata": {},
   "source": [
    "Para usar una función de este tipo, itera sobre ella usando un bucle for o úsala con algún otra función que consume un iterable (por ejemplo, sum (), list (), etc.).   \n",
    "Por ejemplo:"
   ]
  },
  {
   "cell_type": "code",
   "execution_count": null,
   "metadata": {},
   "outputs": [],
   "source": [
    "for n in frange(0, 4, 0.5):\n",
    "    print(n)"
   ]
  },
  {
   "cell_type": "code",
   "execution_count": null,
   "metadata": {},
   "outputs": [],
   "source": [
    "list(frange(0, 1, 0.125))"
   ]
  },
  {
   "cell_type": "code",
   "execution_count": null,
   "metadata": {},
   "outputs": [],
   "source": [
    "sum(frange(0, 1, 0.125))"
   ]
  },
  {
   "cell_type": "markdown",
   "metadata": {},
   "source": [
    "La mera presencia de la declaración ```yield``` en una función la convierte en un generador. diferente a una función normal, un generador solo se ejecuta en respuesta a la iteración. Aquí tienes un experimento\n",
    "puede intentar ver la mecánica subyacente de cómo funciona dicha función:"
   ]
  },
  {
   "cell_type": "code",
   "execution_count": 23,
   "metadata": {},
   "outputs": [],
   "source": [
    "def countdown(n):\n",
    "    print('Empezamos a contar desde', n)\n",
    "    while n > 0:\n",
    "        yield n\n",
    "        n -= 1\n",
    "    else:\n",
    "        print('Listo!')"
   ]
  },
  {
   "cell_type": "code",
   "execution_count": 37,
   "metadata": {},
   "outputs": [],
   "source": [
    "cinco=countdown(2)"
   ]
  },
  {
   "cell_type": "code",
   "execution_count": 38,
   "metadata": {},
   "outputs": [
    {
     "name": "stdout",
     "output_type": "stream",
     "text": [
      "Empezamos a contar desde 2\n"
     ]
    },
    {
     "data": {
      "text/plain": [
       "2"
      ]
     },
     "execution_count": 38,
     "metadata": {},
     "output_type": "execute_result"
    }
   ],
   "source": [
    "next(cinco)"
   ]
  },
  {
   "cell_type": "code",
   "execution_count": 39,
   "metadata": {},
   "outputs": [
    {
     "data": {
      "text/plain": [
       "1"
      ]
     },
     "execution_count": 39,
     "metadata": {},
     "output_type": "execute_result"
    }
   ],
   "source": [
    "next(cinco)"
   ]
  },
  {
   "cell_type": "code",
   "execution_count": 40,
   "metadata": {},
   "outputs": [
    {
     "name": "stdout",
     "output_type": "stream",
     "text": [
      "Listo!\n"
     ]
    },
    {
     "ename": "StopIteration",
     "evalue": "",
     "output_type": "error",
     "traceback": [
      "\u001b[0;31m---------------------------------------------------------------------------\u001b[0m",
      "\u001b[0;31mStopIteration\u001b[0m                             Traceback (most recent call last)",
      "Cell \u001b[0;32mIn[40], line 1\u001b[0m\n\u001b[0;32m----> 1\u001b[0m \u001b[38;5;28;43mnext\u001b[39;49m\u001b[43m(\u001b[49m\u001b[43mcinco\u001b[49m\u001b[43m)\u001b[49m\n",
      "\u001b[0;31mStopIteration\u001b[0m: "
     ]
    }
   ],
   "source": [
    "next(cinco)"
   ]
  },
  {
   "cell_type": "markdown",
   "metadata": {},
   "source": [
    "La característica clave es que una función de generador solo se ejecuta en respuesta a las operaciones ```next```llevado a cabo en iteración. Una vez que regresa una función generadora, la iteración se detiene. Sin embargo, la declaración ```for``` que se usa normalmente para iterar se ocupa de estos detalles, por lo que La característica clave es que una función de generador no solo se ejecuta en respuesta a las operaciones next\n",
    "llevado a cabo en iteración. Una vez que regresa una función generadora, la iteración se detiene. Sin embargo,\n",
    "la declaración for que se usa normalmente para iterar se ocupa de estos detalles, por lo que normalmente no hay que preocuparse por ellos."
   ]
  },
  {
   "cell_type": "code",
   "execution_count": 28,
   "metadata": {},
   "outputs": [],
   "source": [
    "diez = countdown(10)"
   ]
  },
  {
   "cell_type": "code",
   "execution_count": 29,
   "metadata": {},
   "outputs": [
    {
     "name": "stdout",
     "output_type": "stream",
     "text": [
      "Empezamos a contar desde 10\n",
      "10\n",
      "9\n",
      "8\n",
      "7\n",
      "6\n",
      "5\n",
      "4\n",
      "3\n",
      "2\n",
      "1\n",
      "Listo!\n"
     ]
    }
   ],
   "source": [
    "for i in diez:\n",
    "    print(i)"
   ]
  },
  {
   "cell_type": "markdown",
   "metadata": {},
   "source": [
    "# Implementación del protocolo de iterador\n",
    "\n",
    "4.4\n",
    "\n",
    "- Problema\n",
    "        \n",
    "        Está creando objetos personalizados en los que le gustaría admitir la iteración, pero como una forma fácil de implementar el protocolo iterador.\n",
    "\n",
    "\n",
    "- Solución\n",
    "        \n",
    "        De lejos, la forma más fácil de implementar la iteración en un objeto es usar una función generadora.\n",
    "        En la Receta 4.2, se presentó una clase Node para representar estructuras de árbol. Quizás tú desea implementar un iterador que atraviese los nodos en un patrón de profundidad primero. Aquí es cómo usted podría hacerlo"
   ]
  },
  {
   "cell_type": "code",
   "execution_count": 41,
   "metadata": {},
   "outputs": [],
   "source": [
    "class Node:\n",
    "    \n",
    "    def __init__(self, value):\n",
    "        self._value = value\n",
    "        self._children = []\n",
    "    \n",
    "    def __repr__(self):\n",
    "        return 'Node({!r})'.format(self._value)\n",
    "    \n",
    "    def add_child(self, node):\n",
    "        self._children.append(node)\n",
    "    \n",
    "    def __iter__(self):\n",
    "        return iter(self._children)\n",
    "    \n",
    "    def depth_first(self):\n",
    "        yield self\n",
    "        for c in self:\n",
    "            yield from c.depth_first()"
   ]
  },
  {
   "cell_type": "code",
   "execution_count": 42,
   "metadata": {},
   "outputs": [],
   "source": [
    "root = Node(0)\n",
    "child1 = Node(1)\n",
    "child2 = Node(2)\n",
    "root.add_child(child1)\n",
    "root.add_child(child2)\n",
    "child1.add_child(Node(3))\n",
    "child1.add_child(Node(4))\n",
    "child2.add_child(Node(5))"
   ]
  },
  {
   "cell_type": "code",
   "execution_count": 43,
   "metadata": {},
   "outputs": [
    {
     "name": "stdout",
     "output_type": "stream",
     "text": [
      "Node(0)\n",
      "Node(1)\n",
      "Node(3)\n",
      "Node(4)\n",
      "Node(2)\n",
      "Node(5)\n"
     ]
    }
   ],
   "source": [
    "for ch in root.depth_first():\n",
    "    print(ch)"
   ]
  },
  {
   "cell_type": "markdown",
   "metadata": {},
   "source": [
    "En este código, el método depth_first () es simple de leer y describir. Primero `yield` llama al objeto Node  y luego itera sobre cada hijo produciendo los elementos producidos por el método depth_first () del hijo (usando `yield from`)"
   ]
  },
  {
   "cell_type": "markdown",
   "metadata": {},
   "source": [
    "El protocolo iterador de Python requiere que __iter__ () devuelva un objeto iterador especial que implementa una operación __next__ () y usa una excepción StopIteration para señalar terminación. Sin embargo, la implementación de tales objetos a menudo puede ser un asunto complicado. Por ejemplo, el siguiente código muestra una implementación alternativa de la metodo depth_first() usando una clase de iterador asociada:"
   ]
  },
  {
   "cell_type": "markdown",
   "metadata": {},
   "source": [
    "```python\n",
    "class Node:\n",
    "    def __init__(self, value):\n",
    "        self._value = value\n",
    "        self._children = []\n",
    "\n",
    "    def __repr__(self):\n",
    "        return 'Node({!r})'.format(self._value)\n",
    "\n",
    "    def add_child(self, other_node):\n",
    "        self._children.append(other_node)\n",
    "\n",
    "        def __iter__(self):\n",
    "            return iter(self._children)\n",
    "\n",
    "        def depth_first(self):\n",
    "            return DepthFirstIterator(self)\n",
    "    \n",
    "class DepthFirstIterator():\n",
    "\n",
    "    def __init__(self, start_node):\n",
    "        self._node = start_node\n",
    "        self._children_iter = None\n",
    "        self._child_iter = None\n",
    "\n",
    "    def __iter__(self):\n",
    "        return self\n",
    "\n",
    "    def __next__(self):\n",
    "        # Regresarme si recién comencé; crear un iterador para niños\n",
    "        if self._children_iter is None:\n",
    "            self._children_iter = iter(self._node)\n",
    "            return self._node\n",
    "        # Si procesa un niño, devuelva su siguiente artículo\n",
    "        elif self._child_iter:\n",
    "            try:\n",
    "                nextchild = next(self._child_iter)\n",
    "                return nextchild\n",
    "            except StopIteration:\n",
    "                self._child_iter = None\n",
    "                return next(self)\n",
    "        # Avanza al siguiente hijo y comienza su iteración.\n",
    "        else:\n",
    "            self._child_iter = next(self._children_iter).depth_first()\n",
    "            return next(self)\n",
    "```\n",
    "\n",
    "La clase DepthFirstIterator funciona de la misma forma que la versión del generador, pero es un desastre porque el iterador tiene que mantener una gran cantidad de estado complejo sobre dónde se encuentra el proceso de iteración. Francamente, a nadie le gusta escribir un código alucinante como ese. Definir su iterador como generador y listo."
   ]
  },
  {
   "cell_type": "markdown",
   "metadata": {},
   "source": [
    "# Iterando al revés\n",
    "\n",
    "4.5\n",
    "\n",
    "- Problema\n",
    "        \n",
    "        Quieres iterar en reversa sobre una secuencia.\n",
    "\n",
    "- Solución\n",
    "        \n",
    "        Utilice la función integrada invertida (). Por ejemplo:"
   ]
  },
  {
   "cell_type": "code",
   "execution_count": 44,
   "metadata": {},
   "outputs": [
    {
     "name": "stdout",
     "output_type": "stream",
     "text": [
      "4\n",
      "3\n",
      "2\n",
      "1\n"
     ]
    }
   ],
   "source": [
    "a = [1, 2, 3, 4]\n",
    "for x in reversed(a):\n",
    "    print(x)"
   ]
  },
  {
   "cell_type": "markdown",
   "metadata": {},
   "source": [
    "La iteración inversa solo funciona si el objeto en cuestión tiene un tamaño que se puede determinar o si el objeto implementa un método especial __reversed __(). Si ninguno de estos puede\n",
    "estar satisfecho, primero tendrá que convertir el objeto en una lista. Por ejemplo:\n",
    "\n",
    "```python\n",
    "        f = open('somefile')\n",
    "        for line in reversed(list(f)):\n",
    "            print(line, end='')\n",
    "        f.close()\n",
    "```\n",
    "Tenga en cuenta que convertir un iterable en una lista como se muestra podría consumir mucha memoria\n",
    "si es grande."
   ]
  },
  {
   "cell_type": "markdown",
   "metadata": {},
   "source": [
    "Muchos programadores no se dan cuenta de que la iteración inversa se puede personalizar según el usuario\n",
    "clases definidas si implementan el método __reversed __().   \n",
    "Por ejemplo:"
   ]
  },
  {
   "cell_type": "code",
   "execution_count": 45,
   "metadata": {},
   "outputs": [],
   "source": [
    "class Countdown:\n",
    "    def __init__(self, start):\n",
    "        self.start = start\n",
    "    # Iteracion normal\n",
    "    def __iter__(self):\n",
    "        n = self.start\n",
    "        while n > 0:\n",
    "            yield n\n",
    "            n -= 1\n",
    "    # Iteracion Inversa\n",
    "    def __reversed__(self):\n",
    "        n = 1\n",
    "        while n <= self.start:\n",
    "            yield n\n",
    "            n += 1"
   ]
  },
  {
   "cell_type": "code",
   "execution_count": 46,
   "metadata": {},
   "outputs": [],
   "source": [
    "emi=Countdown(10)"
   ]
  },
  {
   "cell_type": "code",
   "execution_count": 47,
   "metadata": {},
   "outputs": [
    {
     "name": "stdout",
     "output_type": "stream",
     "text": [
      "10\n",
      "9\n",
      "8\n",
      "7\n",
      "6\n",
      "5\n",
      "4\n",
      "3\n",
      "2\n",
      "1\n"
     ]
    }
   ],
   "source": [
    "for i in emi:\n",
    "    print(i)"
   ]
  },
  {
   "cell_type": "code",
   "execution_count": 48,
   "metadata": {},
   "outputs": [
    {
     "name": "stdout",
     "output_type": "stream",
     "text": [
      "1\n",
      "2\n",
      "3\n",
      "4\n",
      "5\n",
      "6\n",
      "7\n",
      "8\n",
      "9\n",
      "10\n"
     ]
    }
   ],
   "source": [
    "for i in reversed(emi):\n",
    "    print(i)"
   ]
  },
  {
   "cell_type": "markdown",
   "metadata": {},
   "source": [
    "La definición de un iterador invertido hace que el código sea mucho más eficiente, ya que ya no es necesario incluir los datos en una lista e iterar al revés en la lista."
   ]
  },
  {
   "cell_type": "markdown",
   "metadata": {},
   "source": [
    "# Definición de funciones de generador con estado adicional\n",
    "\n",
    "4.6\n",
    "\n",
    "- Problema\n",
    "        \n",
    "        Le gustaría definir una función de generador, pero implica un estado adicional que debería  exponer al usuario de alguna manera.\n",
    "          \n",
    "          \n",
    "- Solución\n",
    "        \n",
    "        Si desea que un generador exponga un estado adicional al usuario, no olvide que puede impleméntelo como una clase, poniendo el código de la función del generador en el método `__iter__()`.  \n",
    "\n",
    "Por ejemplo:"
   ]
  },
  {
   "cell_type": "code",
   "execution_count": 49,
   "metadata": {},
   "outputs": [],
   "source": [
    "from collections import deque"
   ]
  },
  {
   "cell_type": "code",
   "execution_count": 99,
   "metadata": {},
   "outputs": [],
   "source": [
    "class linehistory:\n",
    "    \n",
    "    def __init__(self, lines, histlen=3):\n",
    "        self.lines = lines\n",
    "        self.history = deque(maxlen=histlen)\n",
    "\n",
    "    def __iter__(self):\n",
    "        for lineno, line in enumerate(self.lines,1):\n",
    "            self.history.append((lineno, line))\n",
    "            yield line\n",
    "\n",
    "\n",
    "    def clear(self):\n",
    "        self.history.clear()"
   ]
  },
  {
   "cell_type": "code",
   "execution_count": 100,
   "metadata": {},
   "outputs": [],
   "source": [
    "emi=linehistory(\"hola\")"
   ]
  },
  {
   "cell_type": "code",
   "execution_count": 101,
   "metadata": {},
   "outputs": [
    {
     "name": "stdout",
     "output_type": "stream",
     "text": [
      "h\n",
      "o\n",
      "l\n",
      "a\n"
     ]
    }
   ],
   "source": [
    "for i in emi:\n",
    "    print(i)"
   ]
  },
  {
   "cell_type": "markdown",
   "metadata": {},
   "source": [
    "Para usar esta clase, la trataría como una función generadora normal. Sin embargo, dado que crea una instancia, puede acceder a los atributos internos, como el atributo de historial o el método clear (). Por ejemplo:\n",
    "```python\n",
    "        with open('somefile.txt') as f:\n",
    "            lines = linehistory(f)\n",
    "            for line in lines:\n",
    "                if 'python' in line:\n",
    "                    for lineno, hline in lines.history:\n",
    "                        print('{}:{}'.format(lineno, hline), end='')\n",
    "```"
   ]
  },
  {
   "cell_type": "markdown",
   "metadata": {},
   "source": [
    "Con los generadores, es fácil caer en la trampa de intentar hacer todo con funciones solo. Esto puede conducir a un código bastante complicado si la función del generador necesita interactuar con otras partes de su programa de maneras inusuales (exponiendo atributos, permitiendo control mediante llamadas a métodos, etc.). Si este es el caso, simplemente use una definición de clase, como se muestra.\n",
    "Definir su generador en el método `__iter__()` no cambia nada sobre cómo escribe su algoritmo. El hecho de que sea parte de una clase te facilita proporcionar atributos y métodos para que los usuarios interactúen.  \n",
    "Una sutileza potencial del método mostrado es que podría requerir un paso adicional de llamando a iter () si va a impulsar la iteración utilizando una técnica que no sea un for.   \n",
    "Por ejemplo:\n",
    "\n",
    "```python\n",
    ">>> f = open('somefile.txt')\n",
    ">>> lines = linehistory(f)\n",
    ">>> next(lines)\n",
    "Traceback (most recent call last):\n",
    "File \"<stdin>\", line 1, in <module>\n",
    "TypeError: 'linehistory' object is not an iterator\n",
    ">>> # Call iter() first, then start iterating\n",
    ">>> it = iter(lines)\n",
    ">>> next(it)\n",
    "'hello world\\n'\n",
    ">>> next(it)\n",
    "'this is a test\\n'\n",
    "```"
   ]
  },
  {
   "cell_type": "code",
   "execution_count": 102,
   "metadata": {},
   "outputs": [
    {
     "ename": "TypeError",
     "evalue": "'linehistory' object is not an iterator",
     "output_type": "error",
     "traceback": [
      "\u001b[0;31m---------------------------------------------------------------------------\u001b[0m",
      "\u001b[0;31mTypeError\u001b[0m                                 Traceback (most recent call last)",
      "Cell \u001b[0;32mIn[102], line 3\u001b[0m\n\u001b[1;32m      1\u001b[0m f \u001b[38;5;241m=\u001b[39m \u001b[38;5;28mopen\u001b[39m(\u001b[38;5;124m'\u001b[39m\u001b[38;5;124marc.txt\u001b[39m\u001b[38;5;124m'\u001b[39m)\n\u001b[1;32m      2\u001b[0m lineas \u001b[38;5;241m=\u001b[39m linehistory(f)\n\u001b[0;32m----> 3\u001b[0m \u001b[38;5;28;43mnext\u001b[39;49m\u001b[43m(\u001b[49m\u001b[43mlineas\u001b[49m\u001b[43m)\u001b[49m\n",
      "\u001b[0;31mTypeError\u001b[0m: 'linehistory' object is not an iterator"
     ]
    }
   ],
   "source": [
    "f = open('arc.txt')\n",
    "lineas = linehistory(f)\n",
    "next(lineas)"
   ]
  },
  {
   "cell_type": "code",
   "execution_count": 103,
   "metadata": {},
   "outputs": [
    {
     "ename": "TypeError",
     "evalue": "'linehistory' object is not an iterator",
     "output_type": "error",
     "traceback": [
      "\u001b[0;31m---------------------------------------------------------------------------\u001b[0m",
      "\u001b[0;31mTypeError\u001b[0m                                 Traceback (most recent call last)",
      "Cell \u001b[0;32mIn[103], line 1\u001b[0m\n\u001b[0;32m----> 1\u001b[0m \u001b[38;5;28;43mnext\u001b[39;49m\u001b[43m(\u001b[49m\u001b[43mlineas\u001b[49m\u001b[43m)\u001b[49m\n",
      "\u001b[0;31mTypeError\u001b[0m: 'linehistory' object is not an iterator"
     ]
    }
   ],
   "source": [
    "next(lineas)"
   ]
  },
  {
   "cell_type": "code",
   "execution_count": 105,
   "metadata": {},
   "outputs": [],
   "source": [
    "it = iter(lineas)"
   ]
  },
  {
   "cell_type": "code",
   "execution_count": 106,
   "metadata": {},
   "outputs": [
    {
     "data": {
      "text/plain": [
       "'Este es un archivo de ejemplo.\\n'"
      ]
     },
     "execution_count": 106,
     "metadata": {},
     "output_type": "execute_result"
    }
   ],
   "source": [
    "next(it)"
   ]
  },
  {
   "cell_type": "code",
   "execution_count": 109,
   "metadata": {},
   "outputs": [],
   "source": [
    "f.close()"
   ]
  },
  {
   "cell_type": "code",
   "execution_count": 110,
   "metadata": {},
   "outputs": [
    {
     "name": "stdout",
     "output_type": "stream",
     "text": [
      "Este es un archivo de ejemplo.\n",
      "Contiene varias lineas de texto.\n",
      "Algunas lineas pueden ser mas largas que otras.\n",
      "Esta es una prueba de texto para evaluar el script.\n",
      "Espero que funcione correctamente.\n",
      "Vamos a agregar mas lineas para observar el comportamiento.\n",
      "Cada linea tiene su propio numero.\n",
      "El script debe recorrer estas lineas y almacenar un historial.\n",
      "Si todo funciona bien, veremos las lineas anteriores cuando encontremos una palabra clave.\n",
      "Este archivo es solo un ejemplo para pruebas.\n",
      "El contenido no es importante, solo la estructura.\n",
      "Fin del archivo de prueba.\n"
     ]
    }
   ],
   "source": [
    "print(open('arc.txt').read())"
   ]
  },
  {
   "cell_type": "code",
   "execution_count": 111,
   "metadata": {},
   "outputs": [
    {
     "name": "stdout",
     "output_type": "stream",
     "text": [
      "Este es un archivo de ejemplo.\n",
      "Contiene varias lineas de texto.\n",
      "\n",
      "\thistorial de linas precedentes:\n",
      "\t\t1:Este es un archivo de ejemplo.\n",
      "\t\t2:Contiene varias lineas de texto.\n",
      "\n",
      "Algunas lineas pueden ser mas largas que otras.\n",
      "\n",
      "\thistorial de linas precedentes:\n",
      "\t\t1:Este es un archivo de ejemplo.\n",
      "\t\t2:Contiene varias lineas de texto.\n",
      "\t\t3:Algunas lineas pueden ser mas largas que otras.\n",
      "\n",
      "Esta es una prueba de texto para evaluar el script.\n",
      "Espero que funcione correctamente.\n",
      "Vamos a agregar mas lineas para observar el comportamiento.\n",
      "\n",
      "\thistorial de linas precedentes:\n",
      "\t\t2:Contiene varias lineas de texto.\n",
      "\t\t3:Algunas lineas pueden ser mas largas que otras.\n",
      "\t\t4:Esta es una prueba de texto para evaluar el script.\n",
      "\t\t5:Espero que funcione correctamente.\n",
      "\t\t6:Vamos a agregar mas lineas para observar el comportamiento.\n",
      "\n",
      "Cada linea tiene su propio numero.\n",
      "\n",
      "\thistorial de linas precedentes:\n",
      "\t\t3:Algunas lineas pueden ser mas largas que otras.\n",
      "\t\t4:Esta es una prueba de texto para evaluar el script.\n",
      "\t\t5:Espero que funcione correctamente.\n",
      "\t\t6:Vamos a agregar mas lineas para observar el comportamiento.\n",
      "\t\t7:Cada linea tiene su propio numero.\n",
      "\n",
      "El script debe recorrer estas lineas y almacenar un historial.\n",
      "\n",
      "\thistorial de linas precedentes:\n",
      "\t\t4:Esta es una prueba de texto para evaluar el script.\n",
      "\t\t5:Espero que funcione correctamente.\n",
      "\t\t6:Vamos a agregar mas lineas para observar el comportamiento.\n",
      "\t\t7:Cada linea tiene su propio numero.\n",
      "\t\t8:El script debe recorrer estas lineas y almacenar un historial.\n",
      "\n",
      "Si todo funciona bien, veremos las lineas anteriores cuando encontremos una palabra clave.\n",
      "\n",
      "\thistorial de linas precedentes:\n",
      "\t\t5:Espero que funcione correctamente.\n",
      "\t\t6:Vamos a agregar mas lineas para observar el comportamiento.\n",
      "\t\t7:Cada linea tiene su propio numero.\n",
      "\t\t8:El script debe recorrer estas lineas y almacenar un historial.\n",
      "\t\t9:Si todo funciona bien, veremos las lineas anteriores cuando encontremos una palabra clave.\n",
      "\n",
      "Este archivo es solo un ejemplo para pruebas.\n",
      "El contenido no es importante, solo la estructura.\n",
      "Fin del archivo de prueba."
     ]
    }
   ],
   "source": [
    "with open('arc.txt') as f:\n",
    "    lines = linehistory(f, histlen=5)\n",
    "    for line in lines:\n",
    "        print(line, end='')\n",
    "        if 'linea' in line:\n",
    "            print(\"\\n\\thistorial de linas precedentes:\")\n",
    "            for lineno, hline in lines.history:\n",
    "                print('\\t\\t{}:{}'.format(lineno, hline), end='')\n",
    "            print()"
   ]
  },
  {
   "cell_type": "markdown",
   "metadata": {},
   "source": [
    "# Tomando un Slice de un iterador\n",
    "\n",
    "4.7\n",
    "\n",
    "- Problema\n",
    "        \n",
    "        Quiere tomar una porción de datos producidos por un iterador, pero el operador de división normal no funciona.  \n",
    "\n",
    "\n",
    "- Solución\n",
    "        \n",
    "        La función `itertools.islice()` es perfecta para tomar porciones de iteradores y generadores.   \n",
    "\n",
    "Por ejemplo:"
   ]
  },
  {
   "cell_type": "code",
   "execution_count": 112,
   "metadata": {},
   "outputs": [
    {
     "ename": "TypeError",
     "evalue": "'generator' object is not subscriptable",
     "output_type": "error",
     "traceback": [
      "\u001b[0;31m---------------------------------------------------------------------------\u001b[0m",
      "\u001b[0;31mTypeError\u001b[0m                                 Traceback (most recent call last)",
      "Cell \u001b[0;32mIn[112], line 6\u001b[0m\n\u001b[1;32m      4\u001b[0m         n \u001b[38;5;241m+\u001b[39m\u001b[38;5;241m=\u001b[39m \u001b[38;5;241m1\u001b[39m\n\u001b[1;32m      5\u001b[0m c \u001b[38;5;241m=\u001b[39m count(\u001b[38;5;241m0\u001b[39m)\n\u001b[0;32m----> 6\u001b[0m \u001b[43mc\u001b[49m\u001b[43m[\u001b[49m\u001b[38;5;241;43m10\u001b[39;49m\u001b[43m:\u001b[49m\u001b[38;5;241;43m20\u001b[39;49m\u001b[43m]\u001b[49m\n",
      "\u001b[0;31mTypeError\u001b[0m: 'generator' object is not subscriptable"
     ]
    }
   ],
   "source": [
    "def count(n):\n",
    "    while True:\n",
    "        yield n\n",
    "        n += 1\n",
    "c = count(0)\n",
    "c[10:20]"
   ]
  },
  {
   "cell_type": "code",
   "execution_count": 113,
   "metadata": {},
   "outputs": [],
   "source": [
    "import itertools"
   ]
  },
  {
   "cell_type": "code",
   "execution_count": 115,
   "metadata": {},
   "outputs": [
    {
     "name": "stdout",
     "output_type": "stream",
     "text": [
      "10\n",
      "12\n",
      "14\n",
      "16\n",
      "18\n"
     ]
    }
   ],
   "source": [
    "d = count(0)\n",
    "for x in itertools.islice(d, 10, 20, 2):\n",
    "    print(x)"
   ]
  },
  {
   "cell_type": "markdown",
   "metadata": {},
   "source": [
    "Normalmente, los iteradores y generadores no se pueden dividir, porque no se conoce información sobre su longitud (y no implementan la indexación).   \n",
    "\n",
    "El resultado de `islice()` es un iterador que produce los elementos de corte deseados, pero lo hace consumiendo y descartando todos los elementos hasta el índice de sector inicial. Luego, el islice produce más artículos objeto hasta que se alcance el índice final.  \n",
    "\n",
    "Es importante enfatizar que `islice()` consumirá datos en el iterador proporcionado.\n",
    "Dado que los iteradores no se pueden rebobinar, eso es algo a considerar. \n",
    "\n",
    "Si es importante ir de nuevo, probablemente debería convertir los datos en una lista primero."
   ]
  },
  {
   "cell_type": "code",
   "execution_count": null,
   "metadata": {},
   "outputs": [],
   "source": []
  }
 ],
 "metadata": {
  "kernelspec": {
   "display_name": "Py310",
   "language": "python",
   "name": "py310"
  },
  "language_info": {
   "codemirror_mode": {
    "name": "ipython",
    "version": 3
   },
   "file_extension": ".py",
   "mimetype": "text/x-python",
   "name": "python",
   "nbconvert_exporter": "python",
   "pygments_lexer": "ipython3",
   "version": "3.10.9"
  }
 },
 "nbformat": 4,
 "nbformat_minor": 4
}
