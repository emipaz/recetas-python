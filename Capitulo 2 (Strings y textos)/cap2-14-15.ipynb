{
 "cells": [
  {
   "cell_type": "markdown",
   "metadata": {},
   "source": [
    "# Combinar y concatenar cadenas\n",
    "\n",
    "2.14\n",
    "\n",
    "- Problema\n",
    "\n",
    "        Desea combinar muchas strings pequeños juntos en un string más grande.\n",
    "\n",
    "    \n",
    "- Solución\n",
    "        \n",
    "        Si las cadenas que desea combinar se encuentran en una secuencia o son iterables, la forma más rápida\n",
    "combinarlos es usar el método `join ()`.   \n",
    "\n",
    "\n",
    "Por ejemplo: "
   ]
  },
  {
   "cell_type": "code",
   "execution_count": 7,
   "metadata": {},
   "outputs": [],
   "source": [
    "parts = ['Es', 'Python', 'No', 'Puthon?']"
   ]
  },
  {
   "cell_type": "code",
   "execution_count": 8,
   "metadata": {},
   "outputs": [
    {
     "data": {
      "text/plain": [
       "'Es Python No Puthon?'"
      ]
     },
     "execution_count": 8,
     "metadata": {},
     "output_type": "execute_result"
    }
   ],
   "source": [
    "\" \".join(parts)"
   ]
  },
  {
   "cell_type": "code",
   "execution_count": 9,
   "metadata": {},
   "outputs": [
    {
     "data": {
      "text/plain": [
       "'Es,Python,No,Puthon?'"
      ]
     },
     "execution_count": 9,
     "metadata": {},
     "output_type": "execute_result"
    }
   ],
   "source": [
    "','.join(parts)"
   ]
  },
  {
   "cell_type": "code",
   "execution_count": 11,
   "metadata": {},
   "outputs": [
    {
     "data": {
      "text/plain": [
       "'EsPythonNoPuthon?'"
      ]
     },
     "execution_count": 11,
     "metadata": {},
     "output_type": "execute_result"
    }
   ],
   "source": [
    "''.join(parts)"
   ]
  },
  {
   "cell_type": "code",
   "execution_count": 12,
   "metadata": {},
   "outputs": [
    {
     "data": {
      "text/plain": [
       "'Es Python No Puthon?'"
      ]
     },
     "execution_count": 12,
     "metadata": {},
     "output_type": "execute_result"
    }
   ],
   "source": [
    "a = 'Es Python'\n",
    "b = 'No Puthon?'\n",
    "a + ' ' + b"
   ]
  },
  {
   "cell_type": "code",
   "execution_count": 13,
   "metadata": {},
   "outputs": [
    {
     "name": "stdout",
     "output_type": "stream",
     "text": [
      "Es Python No Puthon?\n"
     ]
    }
   ],
   "source": [
    "print('{} {}'.format(a,b))"
   ]
  },
  {
   "cell_type": "code",
   "execution_count": 14,
   "metadata": {},
   "outputs": [
    {
     "name": "stdout",
     "output_type": "stream",
     "text": [
      "Es Python No Puthon?\n"
     ]
    }
   ],
   "source": [
    "print(a + ' ' + b)"
   ]
  },
  {
   "cell_type": "code",
   "execution_count": 17,
   "metadata": {},
   "outputs": [
    {
     "data": {
      "text/plain": [
       "'Es Python No Puthon?'"
      ]
     },
     "execution_count": 17,
     "metadata": {},
     "output_type": "execute_result"
    }
   ],
   "source": [
    "s = ''\n",
    "for p in parts:\n",
    "    s += p +\" \"\n",
    "s.strip()"
   ]
  },
  {
   "cell_type": "code",
   "execution_count": 2,
   "metadata": {},
   "outputs": [
    {
     "data": {
      "text/plain": [
       "'ACME,50,91.1'"
      ]
     },
     "execution_count": 2,
     "metadata": {},
     "output_type": "execute_result"
    }
   ],
   "source": [
    "data = ['ACME', 50, 91.1]\n",
    "','.join(str(d) for d in data)"
   ]
  },
  {
   "cell_type": "code",
   "execution_count": 3,
   "metadata": {},
   "outputs": [
    {
     "name": "stdout",
     "output_type": "stream",
     "text": [
      "ACME,50,91.1\n",
      "ACME,50,91.1\n",
      "ACME,50,91.1\n"
     ]
    }
   ],
   "source": [
    "a,b,c = (str(x) for x in data) # transformo todos los datos a string y desempaqueta en a,b,c\n",
    "print(a + ',' + b + ',' + c)\n",
    "print(','.join([a, b, c])) \n",
    "print(a, b, c, sep=',')"
   ]
  },
  {
   "cell_type": "markdown",
   "metadata": {},
   "source": [
    "# Interpolar variables en cadenas\n",
    "\n",
    "2.15\n",
    "\n",
    "- Problema\n",
    "        \n",
    "        Desea crear una cadena en la que los nombres de las variables incrustadas se sustituyan por una representación de cadena del valor de una variable.\n",
    "\n",
    "- Solución\n",
    "        \n",
    "        Python no tiene soporte directo para simplemente sustituir valores de variables en cadenas. \n",
    "        Sin embargo,esta característica se puede aproximar usando el método format() de cadenas.  \n",
    "\n",
    "Por ejemplo:"
   ]
  },
  {
   "cell_type": "code",
   "execution_count": 4,
   "metadata": {},
   "outputs": [],
   "source": [
    "s = '{nombre} tiene {n} mensages.'"
   ]
  },
  {
   "cell_type": "code",
   "execution_count": 5,
   "metadata": {},
   "outputs": [
    {
     "data": {
      "text/plain": [
       "'emi tiene 34 mensages.'"
      ]
     },
     "execution_count": 5,
     "metadata": {},
     "output_type": "execute_result"
    }
   ],
   "source": [
    "s.format(nombre=\"emi\",n=34)"
   ]
  },
  {
   "cell_type": "code",
   "execution_count": 11,
   "metadata": {},
   "outputs": [
    {
     "name": "stdout",
     "output_type": "stream",
     "text": [
      "{'__name__': '__main__', '__doc__': 'Automatically created module for IPython interactive environment', '__package__': None, '__loader__': None, '__spec__': None, '__builtin__': <module 'builtins' (built-in)>, '__builtins__': <module 'builtins' (built-in)>, '_ih': ['', 's.format_map(belu)', \"data = ['ACME', 50, 91.1]\\n','.join(str(d) for d in data)\", \"a,b,c = (str(x) for x in data) # transformo todos los datos a string y desempaqueta en a,b,c\\nprint(a + ',' + b + ',' + c)\\nprint(','.join([a, b, c])) \\nprint(a, b, c, sep=',')\", \"s = '{nombre} tiene {n} mensages.'\", 's.format(nombre=\"emi\",n=34)', \"nombre = 'Guido'\\nn = 37\\ns.format_map(vars())\", 'belu = dict( nombre = \"belen\" , n = 10)', 's.format_map(belu)', 'vars()', \"nombre = 'Guido'\\nn = 37\\nprint(vars())\\ns.format_map(vars())\", \"nombre = 'Guido k'\\nn = 37\\nprint(vars())\\ns.format_map(vars())\"], '_oh': {2: 'ACME,50,91.1', 5: 'emi tiene 34 mensages.', 6: 'Guido tiene 37 mensages.', 8: 'belen tiene 10 mensages.', 9: {...}, 10: 'Guido tiene 37 mensages.'}, '_dh': [PosixPath('/home/emi/Escritorio/recetas_python/Capitulo 2 (Strings y textos)')], 'In': ['', 's.format_map(belu)', \"data = ['ACME', 50, 91.1]\\n','.join(str(d) for d in data)\", \"a,b,c = (str(x) for x in data) # transformo todos los datos a string y desempaqueta en a,b,c\\nprint(a + ',' + b + ',' + c)\\nprint(','.join([a, b, c])) \\nprint(a, b, c, sep=',')\", \"s = '{nombre} tiene {n} mensages.'\", 's.format(nombre=\"emi\",n=34)', \"nombre = 'Guido'\\nn = 37\\ns.format_map(vars())\", 'belu = dict( nombre = \"belen\" , n = 10)', 's.format_map(belu)', 'vars()', \"nombre = 'Guido'\\nn = 37\\nprint(vars())\\ns.format_map(vars())\", \"nombre = 'Guido k'\\nn = 37\\nprint(vars())\\ns.format_map(vars())\"], 'Out': {2: 'ACME,50,91.1', 5: 'emi tiene 34 mensages.', 6: 'Guido tiene 37 mensages.', 8: 'belen tiene 10 mensages.', 9: {...}, 10: 'Guido tiene 37 mensages.'}, 'get_ipython': <bound method InteractiveShell.get_ipython of <ipykernel.zmqshell.ZMQInteractiveShell object at 0x7f84405e7ca0>>, 'exit': <IPython.core.autocall.ZMQExitAutocall object at 0x7f844064c880>, 'quit': <IPython.core.autocall.ZMQExitAutocall object at 0x7f844064c880>, 'open': <function open at 0x7f84418deef0>, '_': 'Guido tiene 37 mensages.', '__': {...}, '___': 'belen tiene 10 mensages.', '__vsc_ipynb_file__': '/home/emi/Escritorio/recetas_python/Capitulo 2 (Strings y textos)/cap_2_part3.ipynb', '_i': \"nombre = 'Guido'\\nn = 37\\nprint(vars())\\ns.format_map(vars())\", '_ii': 'vars()', '_iii': 's.format_map(belu)', '_i1': 's.format_map(belu)', '_i2': \"data = ['ACME', 50, 91.1]\\n','.join(str(d) for d in data)\", 'data': ['ACME', 50, 91.1], '_2': 'ACME,50,91.1', '_i3': \"a,b,c = (str(x) for x in data) # transformo todos los datos a string y desempaqueta en a,b,c\\nprint(a + ',' + b + ',' + c)\\nprint(','.join([a, b, c])) \\nprint(a, b, c, sep=',')\", 'a': 'ACME', 'b': '50', 'c': '91.1', '_i4': \"s = '{nombre} tiene {n} mensages.'\", 's': '{nombre} tiene {n} mensages.', '_i5': 's.format(nombre=\"emi\",n=34)', '_5': 'emi tiene 34 mensages.', '_i6': \"nombre = 'Guido'\\nn = 37\\ns.format_map(vars())\", 'nombre': 'Guido k', 'n': 37, '_6': 'Guido tiene 37 mensages.', '_i7': 'belu = dict( nombre = \"belen\" , n = 10)', 'belu': {'nombre': 'belen', 'n': 10}, '_i8': 's.format_map(belu)', '_8': 'belen tiene 10 mensages.', '_i9': 'vars()', '_9': {...}, '_i10': \"nombre = 'Guido'\\nn = 37\\nprint(vars())\\ns.format_map(vars())\", '_10': 'Guido tiene 37 mensages.', '_i11': \"nombre = 'Guido k'\\nn = 37\\nprint(vars())\\ns.format_map(vars())\"}\n"
     ]
    },
    {
     "data": {
      "text/plain": [
       "'Guido k tiene 37 mensages.'"
      ]
     },
     "execution_count": 11,
     "metadata": {},
     "output_type": "execute_result"
    }
   ],
   "source": [
    "nombre = 'Guido'\n",
    "n = 37\n",
    "print(vars())  # variables locales\n",
    "s.format_map(vars())  # s = '{nombre} tiene {n} mensages.'"
   ]
  },
  {
   "cell_type": "code",
   "execution_count": 13,
   "metadata": {},
   "outputs": [
    {
     "name": "stdout",
     "output_type": "stream",
     "text": [
      "('__name__', '__main__')\n",
      "('__doc__', 'Automatically created module for IPython interactive environment')\n",
      "('__package__', None)\n",
      "('__loader__', None)\n",
      "('__spec__', None)\n",
      "('__builtin__', <module 'builtins' (built-in)>)\n",
      "('__builtins__', <module 'builtins' (built-in)>)\n",
      "('_ih', ['', 's.format_map(belu)', \"data = ['ACME', 50, 91.1]\\n','.join(str(d) for d in data)\", \"a,b,c = (str(x) for x in data) # transformo todos los datos a string y desempaqueta en a,b,c\\nprint(a + ',' + b + ',' + c)\\nprint(','.join([a, b, c])) \\nprint(a, b, c, sep=',')\", \"s = '{nombre} tiene {n} mensages.'\", 's.format(nombre=\"emi\",n=34)', \"nombre = 'Guido'\\nn = 37\\ns.format_map(vars())\", 'belu = dict( nombre = \"belen\" , n = 10)', 's.format_map(belu)', 'vars()', \"nombre = 'Guido'\\nn = 37\\nprint(vars())\\ns.format_map(vars())\", \"nombre = 'Guido k'\\nn = 37\\nprint(vars())\\ns.format_map(vars())\", \"print(*vars(), sep='\\\\n')\", \"print(*vars().items(), sep='\\\\n')\"])\n",
      "('_oh', {2: 'ACME,50,91.1', 5: 'emi tiene 34 mensages.', 6: 'Guido tiene 37 mensages.', 8: 'belen tiene 10 mensages.', 9: {'__name__': '__main__', '__doc__': 'Automatically created module for IPython interactive environment', '__package__': None, '__loader__': None, '__spec__': None, '__builtin__': <module 'builtins' (built-in)>, '__builtins__': <module 'builtins' (built-in)>, '_ih': ['', 's.format_map(belu)', \"data = ['ACME', 50, 91.1]\\n','.join(str(d) for d in data)\", \"a,b,c = (str(x) for x in data) # transformo todos los datos a string y desempaqueta en a,b,c\\nprint(a + ',' + b + ',' + c)\\nprint(','.join([a, b, c])) \\nprint(a, b, c, sep=',')\", \"s = '{nombre} tiene {n} mensages.'\", 's.format(nombre=\"emi\",n=34)', \"nombre = 'Guido'\\nn = 37\\ns.format_map(vars())\", 'belu = dict( nombre = \"belen\" , n = 10)', 's.format_map(belu)', 'vars()', \"nombre = 'Guido'\\nn = 37\\nprint(vars())\\ns.format_map(vars())\", \"nombre = 'Guido k'\\nn = 37\\nprint(vars())\\ns.format_map(vars())\", \"print(*vars(), sep='\\\\n')\", \"print(*vars().items(), sep='\\\\n')\"], '_oh': {...}, '_dh': [PosixPath('/home/emi/Escritorio/recetas_python/Capitulo 2 (Strings y textos)')], 'In': ['', 's.format_map(belu)', \"data = ['ACME', 50, 91.1]\\n','.join(str(d) for d in data)\", \"a,b,c = (str(x) for x in data) # transformo todos los datos a string y desempaqueta en a,b,c\\nprint(a + ',' + b + ',' + c)\\nprint(','.join([a, b, c])) \\nprint(a, b, c, sep=',')\", \"s = '{nombre} tiene {n} mensages.'\", 's.format(nombre=\"emi\",n=34)', \"nombre = 'Guido'\\nn = 37\\ns.format_map(vars())\", 'belu = dict( nombre = \"belen\" , n = 10)', 's.format_map(belu)', 'vars()', \"nombre = 'Guido'\\nn = 37\\nprint(vars())\\ns.format_map(vars())\", \"nombre = 'Guido k'\\nn = 37\\nprint(vars())\\ns.format_map(vars())\", \"print(*vars(), sep='\\\\n')\", \"print(*vars().items(), sep='\\\\n')\"], 'Out': {...}, 'get_ipython': <bound method InteractiveShell.get_ipython of <ipykernel.zmqshell.ZMQInteractiveShell object at 0x7f84405e7ca0>>, 'exit': <IPython.core.autocall.ZMQExitAutocall object at 0x7f844064c880>, 'quit': <IPython.core.autocall.ZMQExitAutocall object at 0x7f844064c880>, 'open': <function open at 0x7f84418deef0>, '_': 'Guido k tiene 37 mensages.', '__': 'Guido tiene 37 mensages.', '___': {...}, '__vsc_ipynb_file__': '/home/emi/Escritorio/recetas_python/Capitulo 2 (Strings y textos)/cap_2_part3.ipynb', '_i': \"print(*vars(), sep='\\\\n')\", '_ii': \"nombre = 'Guido k'\\nn = 37\\nprint(vars())\\ns.format_map(vars())\", '_iii': \"nombre = 'Guido'\\nn = 37\\nprint(vars())\\ns.format_map(vars())\", '_i1': 's.format_map(belu)', '_i2': \"data = ['ACME', 50, 91.1]\\n','.join(str(d) for d in data)\", 'data': ['ACME', 50, 91.1], '_2': 'ACME,50,91.1', '_i3': \"a,b,c = (str(x) for x in data) # transformo todos los datos a string y desempaqueta en a,b,c\\nprint(a + ',' + b + ',' + c)\\nprint(','.join([a, b, c])) \\nprint(a, b, c, sep=',')\", 'a': 'ACME', 'b': '50', 'c': '91.1', '_i4': \"s = '{nombre} tiene {n} mensages.'\", 's': '{nombre} tiene {n} mensages.', '_i5': 's.format(nombre=\"emi\",n=34)', '_5': 'emi tiene 34 mensages.', '_i6': \"nombre = 'Guido'\\nn = 37\\ns.format_map(vars())\", 'nombre': 'Guido k', 'n': 37, '_6': 'Guido tiene 37 mensages.', '_i7': 'belu = dict( nombre = \"belen\" , n = 10)', 'belu': {'nombre': 'belen', 'n': 10}, '_i8': 's.format_map(belu)', '_8': 'belen tiene 10 mensages.', '_i9': 'vars()', '_9': {...}, '_i10': \"nombre = 'Guido'\\nn = 37\\nprint(vars())\\ns.format_map(vars())\", '_10': 'Guido tiene 37 mensages.', '_i11': \"nombre = 'Guido k'\\nn = 37\\nprint(vars())\\ns.format_map(vars())\", '_11': 'Guido k tiene 37 mensages.', '_i12': \"print(*vars(), sep='\\\\n')\", '_i13': \"print(*vars().items(), sep='\\\\n')\"}, 10: 'Guido tiene 37 mensages.', 11: 'Guido k tiene 37 mensages.'})\n",
      "('_dh', [PosixPath('/home/emi/Escritorio/recetas_python/Capitulo 2 (Strings y textos)')])\n",
      "('In', ['', 's.format_map(belu)', \"data = ['ACME', 50, 91.1]\\n','.join(str(d) for d in data)\", \"a,b,c = (str(x) for x in data) # transformo todos los datos a string y desempaqueta en a,b,c\\nprint(a + ',' + b + ',' + c)\\nprint(','.join([a, b, c])) \\nprint(a, b, c, sep=',')\", \"s = '{nombre} tiene {n} mensages.'\", 's.format(nombre=\"emi\",n=34)', \"nombre = 'Guido'\\nn = 37\\ns.format_map(vars())\", 'belu = dict( nombre = \"belen\" , n = 10)', 's.format_map(belu)', 'vars()', \"nombre = 'Guido'\\nn = 37\\nprint(vars())\\ns.format_map(vars())\", \"nombre = 'Guido k'\\nn = 37\\nprint(vars())\\ns.format_map(vars())\", \"print(*vars(), sep='\\\\n')\", \"print(*vars().items(), sep='\\\\n')\"])\n",
      "('Out', {2: 'ACME,50,91.1', 5: 'emi tiene 34 mensages.', 6: 'Guido tiene 37 mensages.', 8: 'belen tiene 10 mensages.', 9: {'__name__': '__main__', '__doc__': 'Automatically created module for IPython interactive environment', '__package__': None, '__loader__': None, '__spec__': None, '__builtin__': <module 'builtins' (built-in)>, '__builtins__': <module 'builtins' (built-in)>, '_ih': ['', 's.format_map(belu)', \"data = ['ACME', 50, 91.1]\\n','.join(str(d) for d in data)\", \"a,b,c = (str(x) for x in data) # transformo todos los datos a string y desempaqueta en a,b,c\\nprint(a + ',' + b + ',' + c)\\nprint(','.join([a, b, c])) \\nprint(a, b, c, sep=',')\", \"s = '{nombre} tiene {n} mensages.'\", 's.format(nombre=\"emi\",n=34)', \"nombre = 'Guido'\\nn = 37\\ns.format_map(vars())\", 'belu = dict( nombre = \"belen\" , n = 10)', 's.format_map(belu)', 'vars()', \"nombre = 'Guido'\\nn = 37\\nprint(vars())\\ns.format_map(vars())\", \"nombre = 'Guido k'\\nn = 37\\nprint(vars())\\ns.format_map(vars())\", \"print(*vars(), sep='\\\\n')\", \"print(*vars().items(), sep='\\\\n')\"], '_oh': {...}, '_dh': [PosixPath('/home/emi/Escritorio/recetas_python/Capitulo 2 (Strings y textos)')], 'In': ['', 's.format_map(belu)', \"data = ['ACME', 50, 91.1]\\n','.join(str(d) for d in data)\", \"a,b,c = (str(x) for x in data) # transformo todos los datos a string y desempaqueta en a,b,c\\nprint(a + ',' + b + ',' + c)\\nprint(','.join([a, b, c])) \\nprint(a, b, c, sep=',')\", \"s = '{nombre} tiene {n} mensages.'\", 's.format(nombre=\"emi\",n=34)', \"nombre = 'Guido'\\nn = 37\\ns.format_map(vars())\", 'belu = dict( nombre = \"belen\" , n = 10)', 's.format_map(belu)', 'vars()', \"nombre = 'Guido'\\nn = 37\\nprint(vars())\\ns.format_map(vars())\", \"nombre = 'Guido k'\\nn = 37\\nprint(vars())\\ns.format_map(vars())\", \"print(*vars(), sep='\\\\n')\", \"print(*vars().items(), sep='\\\\n')\"], 'Out': {...}, 'get_ipython': <bound method InteractiveShell.get_ipython of <ipykernel.zmqshell.ZMQInteractiveShell object at 0x7f84405e7ca0>>, 'exit': <IPython.core.autocall.ZMQExitAutocall object at 0x7f844064c880>, 'quit': <IPython.core.autocall.ZMQExitAutocall object at 0x7f844064c880>, 'open': <function open at 0x7f84418deef0>, '_': 'Guido k tiene 37 mensages.', '__': 'Guido tiene 37 mensages.', '___': {...}, '__vsc_ipynb_file__': '/home/emi/Escritorio/recetas_python/Capitulo 2 (Strings y textos)/cap_2_part3.ipynb', '_i': \"print(*vars(), sep='\\\\n')\", '_ii': \"nombre = 'Guido k'\\nn = 37\\nprint(vars())\\ns.format_map(vars())\", '_iii': \"nombre = 'Guido'\\nn = 37\\nprint(vars())\\ns.format_map(vars())\", '_i1': 's.format_map(belu)', '_i2': \"data = ['ACME', 50, 91.1]\\n','.join(str(d) for d in data)\", 'data': ['ACME', 50, 91.1], '_2': 'ACME,50,91.1', '_i3': \"a,b,c = (str(x) for x in data) # transformo todos los datos a string y desempaqueta en a,b,c\\nprint(a + ',' + b + ',' + c)\\nprint(','.join([a, b, c])) \\nprint(a, b, c, sep=',')\", 'a': 'ACME', 'b': '50', 'c': '91.1', '_i4': \"s = '{nombre} tiene {n} mensages.'\", 's': '{nombre} tiene {n} mensages.', '_i5': 's.format(nombre=\"emi\",n=34)', '_5': 'emi tiene 34 mensages.', '_i6': \"nombre = 'Guido'\\nn = 37\\ns.format_map(vars())\", 'nombre': 'Guido k', 'n': 37, '_6': 'Guido tiene 37 mensages.', '_i7': 'belu = dict( nombre = \"belen\" , n = 10)', 'belu': {'nombre': 'belen', 'n': 10}, '_i8': 's.format_map(belu)', '_8': 'belen tiene 10 mensages.', '_i9': 'vars()', '_9': {...}, '_i10': \"nombre = 'Guido'\\nn = 37\\nprint(vars())\\ns.format_map(vars())\", '_10': 'Guido tiene 37 mensages.', '_i11': \"nombre = 'Guido k'\\nn = 37\\nprint(vars())\\ns.format_map(vars())\", '_11': 'Guido k tiene 37 mensages.', '_i12': \"print(*vars(), sep='\\\\n')\", '_i13': \"print(*vars().items(), sep='\\\\n')\"}, 10: 'Guido tiene 37 mensages.', 11: 'Guido k tiene 37 mensages.'})\n",
      "('get_ipython', <bound method InteractiveShell.get_ipython of <ipykernel.zmqshell.ZMQInteractiveShell object at 0x7f84405e7ca0>>)\n",
      "('exit', <IPython.core.autocall.ZMQExitAutocall object at 0x7f844064c880>)\n",
      "('quit', <IPython.core.autocall.ZMQExitAutocall object at 0x7f844064c880>)\n",
      "('open', <function open at 0x7f84418deef0>)\n",
      "('_', 'Guido k tiene 37 mensages.')\n",
      "('__', 'Guido tiene 37 mensages.')\n",
      "('___', {'__name__': '__main__', '__doc__': 'Automatically created module for IPython interactive environment', '__package__': None, '__loader__': None, '__spec__': None, '__builtin__': <module 'builtins' (built-in)>, '__builtins__': <module 'builtins' (built-in)>, '_ih': ['', 's.format_map(belu)', \"data = ['ACME', 50, 91.1]\\n','.join(str(d) for d in data)\", \"a,b,c = (str(x) for x in data) # transformo todos los datos a string y desempaqueta en a,b,c\\nprint(a + ',' + b + ',' + c)\\nprint(','.join([a, b, c])) \\nprint(a, b, c, sep=',')\", \"s = '{nombre} tiene {n} mensages.'\", 's.format(nombre=\"emi\",n=34)', \"nombre = 'Guido'\\nn = 37\\ns.format_map(vars())\", 'belu = dict( nombre = \"belen\" , n = 10)', 's.format_map(belu)', 'vars()', \"nombre = 'Guido'\\nn = 37\\nprint(vars())\\ns.format_map(vars())\", \"nombre = 'Guido k'\\nn = 37\\nprint(vars())\\ns.format_map(vars())\", \"print(*vars(), sep='\\\\n')\", \"print(*vars().items(), sep='\\\\n')\"], '_oh': {2: 'ACME,50,91.1', 5: 'emi tiene 34 mensages.', 6: 'Guido tiene 37 mensages.', 8: 'belen tiene 10 mensages.', 9: {...}, 10: 'Guido tiene 37 mensages.', 11: 'Guido k tiene 37 mensages.'}, '_dh': [PosixPath('/home/emi/Escritorio/recetas_python/Capitulo 2 (Strings y textos)')], 'In': ['', 's.format_map(belu)', \"data = ['ACME', 50, 91.1]\\n','.join(str(d) for d in data)\", \"a,b,c = (str(x) for x in data) # transformo todos los datos a string y desempaqueta en a,b,c\\nprint(a + ',' + b + ',' + c)\\nprint(','.join([a, b, c])) \\nprint(a, b, c, sep=',')\", \"s = '{nombre} tiene {n} mensages.'\", 's.format(nombre=\"emi\",n=34)', \"nombre = 'Guido'\\nn = 37\\ns.format_map(vars())\", 'belu = dict( nombre = \"belen\" , n = 10)', 's.format_map(belu)', 'vars()', \"nombre = 'Guido'\\nn = 37\\nprint(vars())\\ns.format_map(vars())\", \"nombre = 'Guido k'\\nn = 37\\nprint(vars())\\ns.format_map(vars())\", \"print(*vars(), sep='\\\\n')\", \"print(*vars().items(), sep='\\\\n')\"], 'Out': {2: 'ACME,50,91.1', 5: 'emi tiene 34 mensages.', 6: 'Guido tiene 37 mensages.', 8: 'belen tiene 10 mensages.', 9: {...}, 10: 'Guido tiene 37 mensages.', 11: 'Guido k tiene 37 mensages.'}, 'get_ipython': <bound method InteractiveShell.get_ipython of <ipykernel.zmqshell.ZMQInteractiveShell object at 0x7f84405e7ca0>>, 'exit': <IPython.core.autocall.ZMQExitAutocall object at 0x7f844064c880>, 'quit': <IPython.core.autocall.ZMQExitAutocall object at 0x7f844064c880>, 'open': <function open at 0x7f84418deef0>, '_': 'Guido k tiene 37 mensages.', '__': 'Guido tiene 37 mensages.', '___': {...}, '__vsc_ipynb_file__': '/home/emi/Escritorio/recetas_python/Capitulo 2 (Strings y textos)/cap_2_part3.ipynb', '_i': \"print(*vars(), sep='\\\\n')\", '_ii': \"nombre = 'Guido k'\\nn = 37\\nprint(vars())\\ns.format_map(vars())\", '_iii': \"nombre = 'Guido'\\nn = 37\\nprint(vars())\\ns.format_map(vars())\", '_i1': 's.format_map(belu)', '_i2': \"data = ['ACME', 50, 91.1]\\n','.join(str(d) for d in data)\", 'data': ['ACME', 50, 91.1], '_2': 'ACME,50,91.1', '_i3': \"a,b,c = (str(x) for x in data) # transformo todos los datos a string y desempaqueta en a,b,c\\nprint(a + ',' + b + ',' + c)\\nprint(','.join([a, b, c])) \\nprint(a, b, c, sep=',')\", 'a': 'ACME', 'b': '50', 'c': '91.1', '_i4': \"s = '{nombre} tiene {n} mensages.'\", 's': '{nombre} tiene {n} mensages.', '_i5': 's.format(nombre=\"emi\",n=34)', '_5': 'emi tiene 34 mensages.', '_i6': \"nombre = 'Guido'\\nn = 37\\ns.format_map(vars())\", 'nombre': 'Guido k', 'n': 37, '_6': 'Guido tiene 37 mensages.', '_i7': 'belu = dict( nombre = \"belen\" , n = 10)', 'belu': {'nombre': 'belen', 'n': 10}, '_i8': 's.format_map(belu)', '_8': 'belen tiene 10 mensages.', '_i9': 'vars()', '_9': {...}, '_i10': \"nombre = 'Guido'\\nn = 37\\nprint(vars())\\ns.format_map(vars())\", '_10': 'Guido tiene 37 mensages.', '_i11': \"nombre = 'Guido k'\\nn = 37\\nprint(vars())\\ns.format_map(vars())\", '_11': 'Guido k tiene 37 mensages.', '_i12': \"print(*vars(), sep='\\\\n')\", '_i13': \"print(*vars().items(), sep='\\\\n')\"})\n",
      "('__vsc_ipynb_file__', '/home/emi/Escritorio/recetas_python/Capitulo 2 (Strings y textos)/cap_2_part3.ipynb')\n",
      "('_i', \"print(*vars(), sep='\\\\n')\")\n",
      "('_ii', \"nombre = 'Guido k'\\nn = 37\\nprint(vars())\\ns.format_map(vars())\")\n",
      "('_iii', \"nombre = 'Guido'\\nn = 37\\nprint(vars())\\ns.format_map(vars())\")\n",
      "('_i1', 's.format_map(belu)')\n",
      "('_i2', \"data = ['ACME', 50, 91.1]\\n','.join(str(d) for d in data)\")\n",
      "('data', ['ACME', 50, 91.1])\n",
      "('_2', 'ACME,50,91.1')\n",
      "('_i3', \"a,b,c = (str(x) for x in data) # transformo todos los datos a string y desempaqueta en a,b,c\\nprint(a + ',' + b + ',' + c)\\nprint(','.join([a, b, c])) \\nprint(a, b, c, sep=',')\")\n",
      "('a', 'ACME')\n",
      "('b', '50')\n",
      "('c', '91.1')\n",
      "('_i4', \"s = '{nombre} tiene {n} mensages.'\")\n",
      "('s', '{nombre} tiene {n} mensages.')\n",
      "('_i5', 's.format(nombre=\"emi\",n=34)')\n",
      "('_5', 'emi tiene 34 mensages.')\n",
      "('_i6', \"nombre = 'Guido'\\nn = 37\\ns.format_map(vars())\")\n",
      "('nombre', 'Guido k')\n",
      "('n', 37)\n",
      "('_6', 'Guido tiene 37 mensages.')\n",
      "('_i7', 'belu = dict( nombre = \"belen\" , n = 10)')\n",
      "('belu', {'nombre': 'belen', 'n': 10})\n",
      "('_i8', 's.format_map(belu)')\n",
      "('_8', 'belen tiene 10 mensages.')\n",
      "('_i9', 'vars()')\n",
      "('_9', {'__name__': '__main__', '__doc__': 'Automatically created module for IPython interactive environment', '__package__': None, '__loader__': None, '__spec__': None, '__builtin__': <module 'builtins' (built-in)>, '__builtins__': <module 'builtins' (built-in)>, '_ih': ['', 's.format_map(belu)', \"data = ['ACME', 50, 91.1]\\n','.join(str(d) for d in data)\", \"a,b,c = (str(x) for x in data) # transformo todos los datos a string y desempaqueta en a,b,c\\nprint(a + ',' + b + ',' + c)\\nprint(','.join([a, b, c])) \\nprint(a, b, c, sep=',')\", \"s = '{nombre} tiene {n} mensages.'\", 's.format(nombre=\"emi\",n=34)', \"nombre = 'Guido'\\nn = 37\\ns.format_map(vars())\", 'belu = dict( nombre = \"belen\" , n = 10)', 's.format_map(belu)', 'vars()', \"nombre = 'Guido'\\nn = 37\\nprint(vars())\\ns.format_map(vars())\", \"nombre = 'Guido k'\\nn = 37\\nprint(vars())\\ns.format_map(vars())\", \"print(*vars(), sep='\\\\n')\", \"print(*vars().items(), sep='\\\\n')\"], '_oh': {2: 'ACME,50,91.1', 5: 'emi tiene 34 mensages.', 6: 'Guido tiene 37 mensages.', 8: 'belen tiene 10 mensages.', 9: {...}, 10: 'Guido tiene 37 mensages.', 11: 'Guido k tiene 37 mensages.'}, '_dh': [PosixPath('/home/emi/Escritorio/recetas_python/Capitulo 2 (Strings y textos)')], 'In': ['', 's.format_map(belu)', \"data = ['ACME', 50, 91.1]\\n','.join(str(d) for d in data)\", \"a,b,c = (str(x) for x in data) # transformo todos los datos a string y desempaqueta en a,b,c\\nprint(a + ',' + b + ',' + c)\\nprint(','.join([a, b, c])) \\nprint(a, b, c, sep=',')\", \"s = '{nombre} tiene {n} mensages.'\", 's.format(nombre=\"emi\",n=34)', \"nombre = 'Guido'\\nn = 37\\ns.format_map(vars())\", 'belu = dict( nombre = \"belen\" , n = 10)', 's.format_map(belu)', 'vars()', \"nombre = 'Guido'\\nn = 37\\nprint(vars())\\ns.format_map(vars())\", \"nombre = 'Guido k'\\nn = 37\\nprint(vars())\\ns.format_map(vars())\", \"print(*vars(), sep='\\\\n')\", \"print(*vars().items(), sep='\\\\n')\"], 'Out': {2: 'ACME,50,91.1', 5: 'emi tiene 34 mensages.', 6: 'Guido tiene 37 mensages.', 8: 'belen tiene 10 mensages.', 9: {...}, 10: 'Guido tiene 37 mensages.', 11: 'Guido k tiene 37 mensages.'}, 'get_ipython': <bound method InteractiveShell.get_ipython of <ipykernel.zmqshell.ZMQInteractiveShell object at 0x7f84405e7ca0>>, 'exit': <IPython.core.autocall.ZMQExitAutocall object at 0x7f844064c880>, 'quit': <IPython.core.autocall.ZMQExitAutocall object at 0x7f844064c880>, 'open': <function open at 0x7f84418deef0>, '_': 'Guido k tiene 37 mensages.', '__': 'Guido tiene 37 mensages.', '___': {...}, '__vsc_ipynb_file__': '/home/emi/Escritorio/recetas_python/Capitulo 2 (Strings y textos)/cap_2_part3.ipynb', '_i': \"print(*vars(), sep='\\\\n')\", '_ii': \"nombre = 'Guido k'\\nn = 37\\nprint(vars())\\ns.format_map(vars())\", '_iii': \"nombre = 'Guido'\\nn = 37\\nprint(vars())\\ns.format_map(vars())\", '_i1': 's.format_map(belu)', '_i2': \"data = ['ACME', 50, 91.1]\\n','.join(str(d) for d in data)\", 'data': ['ACME', 50, 91.1], '_2': 'ACME,50,91.1', '_i3': \"a,b,c = (str(x) for x in data) # transformo todos los datos a string y desempaqueta en a,b,c\\nprint(a + ',' + b + ',' + c)\\nprint(','.join([a, b, c])) \\nprint(a, b, c, sep=',')\", 'a': 'ACME', 'b': '50', 'c': '91.1', '_i4': \"s = '{nombre} tiene {n} mensages.'\", 's': '{nombre} tiene {n} mensages.', '_i5': 's.format(nombre=\"emi\",n=34)', '_5': 'emi tiene 34 mensages.', '_i6': \"nombre = 'Guido'\\nn = 37\\ns.format_map(vars())\", 'nombre': 'Guido k', 'n': 37, '_6': 'Guido tiene 37 mensages.', '_i7': 'belu = dict( nombre = \"belen\" , n = 10)', 'belu': {'nombre': 'belen', 'n': 10}, '_i8': 's.format_map(belu)', '_8': 'belen tiene 10 mensages.', '_i9': 'vars()', '_9': {...}, '_i10': \"nombre = 'Guido'\\nn = 37\\nprint(vars())\\ns.format_map(vars())\", '_10': 'Guido tiene 37 mensages.', '_i11': \"nombre = 'Guido k'\\nn = 37\\nprint(vars())\\ns.format_map(vars())\", '_11': 'Guido k tiene 37 mensages.', '_i12': \"print(*vars(), sep='\\\\n')\", '_i13': \"print(*vars().items(), sep='\\\\n')\"})\n",
      "('_i10', \"nombre = 'Guido'\\nn = 37\\nprint(vars())\\ns.format_map(vars())\")\n",
      "('_10', 'Guido tiene 37 mensages.')\n",
      "('_i11', \"nombre = 'Guido k'\\nn = 37\\nprint(vars())\\ns.format_map(vars())\")\n",
      "('_11', 'Guido k tiene 37 mensages.')\n",
      "('_i12', \"print(*vars(), sep='\\\\n')\")\n",
      "('_i13', \"print(*vars().items(), sep='\\\\n')\")\n"
     ]
    }
   ],
   "source": [
    "print(*vars().items(), sep='\\n')"
   ]
  },
  {
   "cell_type": "code",
   "execution_count": 14,
   "metadata": {},
   "outputs": [],
   "source": [
    "belu = dict( nombre = \"belen\" , n = 10)"
   ]
  },
  {
   "cell_type": "code",
   "execution_count": 15,
   "metadata": {},
   "outputs": [
    {
     "data": {
      "text/plain": [
       "'belen tiene 10 mensages.'"
      ]
     },
     "execution_count": 15,
     "metadata": {},
     "output_type": "execute_result"
    }
   ],
   "source": [
    "s.format_map(belu)"
   ]
  },
  {
   "cell_type": "markdown",
   "metadata": {},
   "source": [
    "Una característica sutil de vars () es que también funciona con instancias.  \n",
    "Por ejemplo:"
   ]
  },
  {
   "cell_type": "code",
   "execution_count": 16,
   "metadata": {},
   "outputs": [],
   "source": [
    "class Info:\n",
    "    def __init__(self, nombre, n):\n",
    "        self.nombre = nombre\n",
    "        self.n = n\n",
    "\n",
    "a = Info('Guido',37)\n",
    "b = Info(\"belen\",10)\n",
    "c = Info(\"emi\",34)"
   ]
  },
  {
   "cell_type": "code",
   "execution_count": 17,
   "metadata": {},
   "outputs": [
    {
     "data": {
      "text/plain": [
       "'emi tiene 34 mensages.'"
      ]
     },
     "execution_count": 17,
     "metadata": {},
     "output_type": "execute_result"
    }
   ],
   "source": [
    "s.format_map(vars(c))"
   ]
  },
  {
   "cell_type": "markdown",
   "metadata": {},
   "source": [
    "Una desventaja de format () y format_map () es que no se manejan con elegancia\n",
    "valores faltantes.   \n",
    "\n",
    "Por ejemplo:"
   ]
  },
  {
   "cell_type": "code",
   "execution_count": 18,
   "metadata": {},
   "outputs": [
    {
     "ename": "KeyError",
     "evalue": "'n'",
     "output_type": "error",
     "traceback": [
      "\u001b[0;31m---------------------------------------------------------------------------\u001b[0m",
      "\u001b[0;31mKeyError\u001b[0m                                  Traceback (most recent call last)",
      "Cell \u001b[0;32mIn[18], line 1\u001b[0m\n\u001b[0;32m----> 1\u001b[0m \u001b[43ms\u001b[49m\u001b[38;5;241;43m.\u001b[39;49m\u001b[43mformat\u001b[49m\u001b[43m(\u001b[49m\u001b[43mnombre\u001b[49m\u001b[38;5;241;43m=\u001b[39;49m\u001b[38;5;124;43m'\u001b[39;49m\u001b[38;5;124;43mGuido\u001b[39;49m\u001b[38;5;124;43m'\u001b[39;49m\u001b[43m)\u001b[49m\n",
      "\u001b[0;31mKeyError\u001b[0m: 'n'"
     ]
    }
   ],
   "source": [
    "s.format(nombre='Guido')"
   ]
  },
  {
   "cell_type": "markdown",
   "metadata": {},
   "source": [
    "Una forma de evitar esto es definir una clase de diccionario alternativa con un metodo `__missing__()` , como en el siguiente:"
   ]
  },
  {
   "cell_type": "code",
   "execution_count": 24,
   "metadata": {},
   "outputs": [],
   "source": [
    "class Dict_inc(dict):  \n",
    "    def __missing__(self, key):\n",
    "        return '{' + key + '}'"
   ]
  },
  {
   "cell_type": "code",
   "execution_count": 25,
   "metadata": {},
   "outputs": [
    {
     "data": {
      "text/plain": [
       "'emi tiene {n} mensages.'"
      ]
     },
     "execution_count": 25,
     "metadata": {},
     "output_type": "execute_result"
    }
   ],
   "source": [
    "emi = dict (nombre=\"emi\")\n",
    "s.format_map(Dict_inc(emi))"
   ]
  },
  {
   "cell_type": "code",
   "execution_count": 26,
   "metadata": {},
   "outputs": [
    {
     "data": {
      "text/plain": [
       "'emi tiene 34 mensages.'"
      ]
     },
     "execution_count": 26,
     "metadata": {},
     "output_type": "execute_result"
    }
   ],
   "source": [
    "emi = dict (nombre=\"emi\",n=34)\n",
    "s.format_map(Dict_inc(emi))"
   ]
  },
  {
   "cell_type": "code",
   "execution_count": 27,
   "metadata": {},
   "outputs": [
    {
     "data": {
      "text/plain": [
       "{}"
      ]
     },
     "execution_count": 27,
     "metadata": {},
     "output_type": "execute_result"
    }
   ],
   "source": [
    "mi_dic = Dict_inc() \n",
    "mi_dic"
   ]
  },
  {
   "cell_type": "code",
   "execution_count": 28,
   "metadata": {},
   "outputs": [
    {
     "data": {
      "text/plain": [
       "__main__.Dict_inc"
      ]
     },
     "execution_count": 28,
     "metadata": {},
     "output_type": "execute_result"
    }
   ],
   "source": [
    "type(mi_dic)"
   ]
  },
  {
   "cell_type": "code",
   "execution_count": 34,
   "metadata": {},
   "outputs": [
    {
     "name": "stdout",
     "output_type": "stream",
     "text": [
      "__class__\n",
      "__class_getitem__\n",
      "__contains__\n",
      "__delattr__\n",
      "__delitem__\n",
      "__dict__\n",
      "__dir__\n",
      "__doc__\n",
      "__eq__\n",
      "__format__\n",
      "__ge__\n",
      "__getattribute__\n",
      "__getitem__\n",
      "__gt__\n",
      "__hash__\n",
      "__init__\n",
      "__init_subclass__\n",
      "__ior__\n",
      "__iter__\n",
      "__le__\n",
      "__len__\n",
      "__lt__\n",
      "__missing__\n",
      "__module__\n",
      "__ne__\n",
      "__new__\n",
      "__or__\n",
      "__reduce__\n",
      "__reduce_ex__\n",
      "__repr__\n",
      "__reversed__\n",
      "__ror__\n",
      "__setattr__\n",
      "__setitem__\n",
      "__sizeof__\n",
      "__str__\n",
      "__subclasshook__\n",
      "__weakref__\n"
     ]
    }
   ],
   "source": [
    "print(*[k for k in dir(mi_dic) if  k.startswith('__')], sep='\\n')  # print(*dir(mi_dic))"
   ]
  },
  {
   "cell_type": "code",
   "execution_count": 35,
   "metadata": {},
   "outputs": [
    {
     "data": {
      "text/plain": [
       "'{nombre} tiene {n} mensages.'"
      ]
     },
     "execution_count": 35,
     "metadata": {},
     "output_type": "execute_result"
    }
   ],
   "source": [
    "s.format_map(mi_dic)"
   ]
  },
  {
   "cell_type": "code",
   "execution_count": 36,
   "metadata": {},
   "outputs": [
    {
     "data": {
      "text/plain": [
       "'emi tiene 34 mensages.'"
      ]
     },
     "execution_count": 36,
     "metadata": {},
     "output_type": "execute_result"
    }
   ],
   "source": [
    "mi_dic.update(emi)\n",
    "s.format_map(mi_dic)"
   ]
  },
  {
   "cell_type": "markdown",
   "metadata": {},
   "source": [
    "Si se encuentra realizando estos pasos con frecuencia en su código, puede ocultar el\n",
    "proceso de sustitución de variables detrás de una pequeña función de utilidad que emplea un llamado\n",
    "\"Truco de marco\".   \n",
    "Por ejemplo:"
   ]
  },
  {
   "cell_type": "code",
   "execution_count": 50,
   "metadata": {},
   "outputs": [],
   "source": [
    "import sys\n",
    "def sub(text):\n",
    "    dic = sys._getframe(1).f_locals# # .f_locals\n",
    "    return text.format_map(Dict_inc(dic))"
   ]
  },
  {
   "cell_type": "code",
   "execution_count": 51,
   "metadata": {},
   "outputs": [
    {
     "name": "stdout",
     "output_type": "stream",
     "text": [
      "Hello Guido\n"
     ]
    }
   ],
   "source": [
    "name = 'Guido'\n",
    "n = 37\n",
    "print(sub('Hello {name}'))"
   ]
  },
  {
   "cell_type": "code",
   "execution_count": 52,
   "metadata": {},
   "outputs": [
    {
     "name": "stdout",
     "output_type": "stream",
     "text": [
      "You have 37 messages.\n"
     ]
    }
   ],
   "source": [
    "print(sub('You have {n} messages.'))"
   ]
  },
  {
   "cell_type": "code",
   "execution_count": 53,
   "metadata": {},
   "outputs": [
    {
     "name": "stdout",
     "output_type": "stream",
     "text": [
      "Your favorite color is {color}\n"
     ]
    }
   ],
   "source": [
    "print(sub('Your favorite color is {color}'))"
   ]
  },
  {
   "cell_type": "code",
   "execution_count": 54,
   "metadata": {},
   "outputs": [],
   "source": [
    "class Dict_inc(dict):  \n",
    "    def __missing__(self, key):\n",
    "        return \"/ key error \" + '{' + key + '} \\\\'\n"
   ]
  },
  {
   "cell_type": "code",
   "execution_count": 55,
   "metadata": {},
   "outputs": [],
   "source": [
    "\n",
    "def sub(text):\n",
    "    \"\"\"\n",
    "    sub funcion devuelve un string formateado  \n",
    "    con las variables locales del modulo\n",
    "    \"\"\"\n",
    "    import sys\n",
    "    dic = sys._getframe(1).f_locals\n",
    "    return text.format_map(dict_inc(dic))\n"
   ]
  },
  {
   "cell_type": "code",
   "execution_count": 56,
   "metadata": {},
   "outputs": [
    {
     "name": "stdout",
     "output_type": "stream",
     "text": [
      "{'nombre': 'emiliano'}\n"
     ]
    }
   ],
   "source": [
    "\n",
    "a = Dict_inc(nombre=\"emiliano\")\n",
    "print(a)\n"
   ]
  },
  {
   "cell_type": "code",
   "execution_count": 57,
   "metadata": {},
   "outputs": [
    {
     "name": "stdout",
     "output_type": "stream",
     "text": [
      "/ key error {edad} \\\n"
     ]
    }
   ],
   "source": [
    "print(a[\"edad\"])\n"
   ]
  },
  {
   "cell_type": "code",
   "execution_count": 58,
   "metadata": {},
   "outputs": [
    {
     "name": "stdout",
     "output_type": "stream",
     "text": [
      "\n",
      "belen de 41 estudia {curso}\n",
      "emiliano de / key error {edad} \\ estudia python\n",
      "\n"
     ]
    }
   ],
   "source": [
    "emi = Dict_inc({\"nombre\" : \"emiliano\",\n",
    "      \"curso\" : \"python\"})\n",
    "\n",
    "nombre = \"belen\"\n",
    "edad   = 41\n",
    "\n",
    "print()\n",
    "print(sub(\"{nombre} de {edad} estudia {curso}\"))\n",
    "print(\"{nombre} de {edad} estudia {curso}\".format_map(emi))\n",
    "print()\n"
   ]
  },
  {
   "cell_type": "code",
   "execution_count": 59,
   "metadata": {},
   "outputs": [
    {
     "name": "stdout",
     "output_type": "stream",
     "text": [
      "emiliano de 41 estudia python\n",
      "\n",
      "emiliano de 41 estudia python\n",
      "emiliano de 41 estudia python en la {universidad}\n"
     ]
    }
   ],
   "source": [
    "\n",
    "nombre = emi[\"nombre\"]\n",
    "curso  = emi[\"curso\"]\n",
    "print(sub(\"{nombre} de {edad} estudia {curso}\"))\n",
    "print()\n",
    "print(sub(\"{nombre} de {edad} estudia {curso}\"))\n",
    "print(sub(\"{nombre} de {edad} estudia {curso} en la {universidad}\"))"
   ]
  },
  {
   "cell_type": "markdown",
   "metadata": {},
   "source": [
    "Algunas partes de esta receta también ilustran algunas características avanzadas interesantes.\n",
    "El poco conocido `__missing __ ()` método de mapeo, es un método que puede definir para\n",
    "manejar los valores perdidos.    \n",
    "En la clase `Dict_inc` , este método se ha definido para devolver valores perdidos como marcador de posición.   \n",
    "En lugar de obtener una excepción KeyError, vería los valores faltantes que aparecen en la cadena resultante (potencialmente útil para depuración).\n",
    "\n"
   ]
  },
  {
   "cell_type": "markdown",
   "metadata": {},
   "source": [
    "\n",
    "La función `sub ()` usa `sys._getframe (1)` para devolver el marco de pila del llamador. Desde que, se accede al atributo `f_locals` para obtener las variables locales.  \n",
    "\n",
    "No hace falta decir nada que jugar con los marcos de pila probablemente debería evitarse en la mayoría del código.  \n",
    "Cómo siempre, para funciones de utilidad como una función de sustitución de cadenas, puede ser útil.\n",
    "\n",
    "Aparte, probablemente valga la pena señalar que `f_locals` es un diccionario que es una copia del variables en la función de llamada, aunque puede modificar el contenido de `f_locals`, las modificaciones en realidad no tienen ningún efecto duradero. Por lo tanto, aunque acceder a diferentes marcos de pila pueden parecer malvados, no es posible sobrescribir accidentalmente las variables o cambiar el entorno local  que llama."
   ]
  },
  {
   "cell_type": "markdown",
   "metadata": {},
   "source": [
    "___\n"
   ]
  },
  {
   "cell_type": "markdown",
   "metadata": {},
   "source": [
    "`sys._getframe` es una función en el módulo sys de Python que permite acceder al marco actual de la pila de llamadas. Esto puede ser útil para inspeccionar el contexto de ejecución, como las variables locales y globales, el nombre de la función que se está ejecutando, y otros detalles sobre el estado de la ejecución en un momento dado.\n",
    "\n",
    "- Uso de sys._getframe\n",
    "\n",
    "  La función `sys._getframe()` puede recibir un argumento que indica cuántos marcos hacia atrás en la pila deseas acceder. Por ejemplo, `sys._getframe(0)` devuelve el marco actual, `sys._getframe(1)` devuelve el marco del llamador, y así sucesivamente.\n",
    "\n",
    "Ejemplo 1: Obtener el marco actual"
   ]
  },
  {
   "cell_type": "code",
   "execution_count": 61,
   "metadata": {},
   "outputs": [
    {
     "name": "stdout",
     "output_type": "stream",
     "text": [
      "Nombre de la función: mi_funcion\n",
      "Línea actual: 7\n"
     ]
    }
   ],
   "source": [
    "import sys\n",
    "\n",
    "def mi_funcion():\n",
    "    marco_actual = sys._getframe()\n",
    "    print(\"Nombre de la función:\", marco_actual.f_code.co_name) # f_code.co_name trae el nombre de la función\n",
    "    \n",
    "    print(\"Línea actual:\", marco_actual.f_lineno) # f_lineno trae el numero de esta linea de codigo\n",
    "\n",
    "mi_funcion()"
   ]
  },
  {
   "cell_type": "code",
   "execution_count": 62,
   "metadata": {},
   "outputs": [
    {
     "name": "stdout",
     "output_type": "stream",
     "text": [
      "Variables locales: {'a': 5, 'b': 3, 'marco_actual': <frame at 0x7f843c112200, file '/tmp/ipykernel_16354/887056186.py', line 5, code suma>}\n"
     ]
    }
   ],
   "source": [
    "import sys\n",
    "\n",
    "def suma(a, b):\n",
    "    marco_actual = sys._getframe()\n",
    "    print(\"Variables locales:\", marco_actual.f_locals)\n",
    "    return a + b\n",
    "\n",
    "resultado = suma(5, 3)"
   ]
  },
  {
   "cell_type": "markdown",
   "metadata": {},
   "source": [
    "> Consideraciones\n",
    "\n",
    "- `sys._getframe` es una función de bajo nivel y su uso no es común en el desarrollo diario. Se recomienda utilizarla con precaución y solo cuando sea necesario depurar o inspeccionar el contexto de ejecución.  \n",
    "\n",
    "- La función puede no estar disponible en implementaciones de Python que no sean CPython, por lo que su uso puede no ser portable.  \n",
    "\n",
    "- En general, es preferible utilizar herramientas de depuración y logging para obtener información sobre el estado del programa en lugar de manipular directamente los marcos de la pila."
   ]
  },
  {
   "cell_type": "markdown",
   "metadata": {},
   "source": []
  }
 ],
 "metadata": {
  "kernelspec": {
   "display_name": "Py310",
   "language": "python",
   "name": "py310"
  },
  "language_info": {
   "codemirror_mode": {
    "name": "ipython",
    "version": 3
   },
   "file_extension": ".py",
   "mimetype": "text/x-python",
   "name": "python",
   "nbconvert_exporter": "python",
   "pygments_lexer": "ipython3",
   "version": "3.10.9"
  }
 },
 "nbformat": 4,
 "nbformat_minor": 4
}
