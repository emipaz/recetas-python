{
 "cells": [
  {
   "cell_type": "markdown",
   "metadata": {},
   "source": [
    "# División de cadenas en cualquiera de los delimitadores múltiplesas\n",
    "\n",
    "2.1\n",
    "\n",
    "- Problema\n",
    "\n",
    "        Necesita dividir una cadena en campos, pero los delimitadores (y el espaciado alrededor de ellos) no son consistente en toda la cadena.\n",
    "\n",
    "- Solución\n",
    "\n",
    "        El método split () de objetos de cadena está realmente destinado a casos muy simples, y no permitE múltiples delimitadores o tener en cuenta posibles espacios en blanco alrededor del delimtador \n",
    "        En los casos en que necesite un poco más de flexibilidad, use el método re.split ():"
   ]
  },
  {
   "cell_type": "code",
   "execution_count": 2,
   "metadata": {},
   "outputs": [],
   "source": [
    "import re"
   ]
  },
  {
   "cell_type": "code",
   "execution_count": 3,
   "metadata": {},
   "outputs": [
    {
     "data": {
      "text/plain": [
       "['asdf', 'fjdk', 'afed', 'fjek', 'asdf', 'foo']"
      ]
     },
     "execution_count": 3,
     "metadata": {},
     "output_type": "execute_result"
    }
   ],
   "source": [
    "line = 'asdf fjdk; afed, fjek,asdf,         foo'\n",
    "palabras = re.split(\"[,;\\s]\\s*\",line)\n",
    "palabras"
   ]
  },
  {
   "cell_type": "markdown",
   "metadata": {},
   "source": [
    "La función re.split () es útil porque puede especificar múltiples patrones para el\n",
    "separador. Por ejemplo, como se muestra en la solución, el separador es una coma (,),punto y coma (;), o espacio en blanco seguido de cualquier cantidad de espacio en blanco adicional. Cuando\n",
    "ese patrón se encuentra, toda la coincidencia se convierte en el delimitador entre los campos\n",
    "El resultado es una lista de campos, al igual que str.split ()."
   ]
  },
  {
   "cell_type": "code",
   "execution_count": 4,
   "metadata": {},
   "outputs": [
    {
     "data": {
      "text/plain": [
       "['asdf', ' ', 'fjdk', ';', 'afed', ',', 'fjek', ',', 'asdf', ',', 'foo']"
      ]
     },
     "execution_count": 4,
     "metadata": {},
     "output_type": "execute_result"
    }
   ],
   "source": [
    "# Si se utilizan grupos de captura, entonces el texto coincidente \n",
    "#también se incluye en el resultado. Por ejemplo, mira lo que pasa aquí:\n",
    "re.split(r'(;|,|\\s)\\s*', line)"
   ]
  },
  {
   "cell_type": "code",
   "execution_count": 5,
   "metadata": {},
   "outputs": [
    {
     "data": {
      "text/plain": [
       "[' ', ';', ',', ',', ',']"
      ]
     },
     "execution_count": 5,
     "metadata": {},
     "output_type": "execute_result"
    }
   ],
   "source": [
    "re.split(r'(;|,|\\s)\\s*', line)[1::2]"
   ]
  },
  {
   "cell_type": "code",
   "execution_count": 7,
   "metadata": {},
   "outputs": [
    {
     "data": {
      "text/plain": [
       "['asdf', 'fjdk', 'afed', 'fjek', 'asdf', 'foo']"
      ]
     },
     "execution_count": 7,
     "metadata": {},
     "output_type": "execute_result"
    }
   ],
   "source": [
    "re.split(r'(;|,|\\s)\\s*', line)[::2]"
   ]
  },
  {
   "cell_type": "markdown",
   "metadata": {},
   "source": [
    "Si no desea los caracteres separadores en el resultado, pero aún necesita usar paréntesis\n",
    "para agrupar partes del patrón de expresión regular, asegúrese de utilizar un grupo que no sea de captura,\n",
    "especificado como (?: ...).   \n",
    "Por ejemplo:"
   ]
  },
  {
   "cell_type": "code",
   "execution_count": 8,
   "metadata": {},
   "outputs": [
    {
     "data": {
      "text/plain": [
       "['asdf', 'fjdk', 'afed', 'fjek', 'asdf', 'foo']"
      ]
     },
     "execution_count": 8,
     "metadata": {},
     "output_type": "execute_result"
    }
   ],
   "source": [
    "re.split(r'(?:,|;|\\s)\\s*', line)"
   ]
  },
  {
   "cell_type": "code",
   "execution_count": 10,
   "metadata": {},
   "outputs": [],
   "source": [
    "nombre=\"emiliano,adrian.passarello:edad:50,argentino\""
   ]
  },
  {
   "cell_type": "code",
   "execution_count": 11,
   "metadata": {},
   "outputs": [
    {
     "data": {
      "text/plain": [
       "['emiliano', 'adrian', 'passarello', 'edad', '50', 'argentino']"
      ]
     },
     "execution_count": 11,
     "metadata": {},
     "output_type": "execute_result"
    }
   ],
   "source": [
    "re.split(r\"[,.;:\\s]\",nombre)"
   ]
  },
  {
   "cell_type": "code",
   "execution_count": 12,
   "metadata": {},
   "outputs": [
    {
     "data": {
      "text/plain": [
       "['emiliano',\n",
       " ',',\n",
       " 'adrian',\n",
       " '.',\n",
       " 'passarello',\n",
       " ':',\n",
       " 'edad',\n",
       " ':',\n",
       " '50',\n",
       " ',',\n",
       " 'argentino']"
      ]
     },
     "execution_count": 12,
     "metadata": {},
     "output_type": "execute_result"
    }
   ],
   "source": [
    "re.split(r\"(,|;|:|\\.|\\s])\",nombre)"
   ]
  },
  {
   "cell_type": "code",
   "execution_count": 13,
   "metadata": {},
   "outputs": [],
   "source": [
    "sep   = re.split(r\"(,|;|:|\\.|\\s])\",nombre)[1::2]\n",
    "datos = re.split(r\"(,|;|:|\\.|\\s])\",nombre)[::2]"
   ]
  },
  {
   "cell_type": "code",
   "execution_count": 14,
   "metadata": {},
   "outputs": [
    {
     "data": {
      "text/plain": [
       "([',', '.', ':', ':', ','],\n",
       " ['emiliano', 'adrian', 'passarello', 'edad', '50', 'argentino'])"
      ]
     },
     "execution_count": 14,
     "metadata": {},
     "output_type": "execute_result"
    }
   ],
   "source": [
    "sep, datos"
   ]
  },
  {
   "cell_type": "markdown",
   "metadata": {},
   "source": [
    "# Coincidencia de texto al principio o al final de una cadena\n",
    "\n",
    "2.2\n",
    "\n",
    "- Problema\n",
    "\n",
    "        Debe verificar el inicio o el final de una cadena para patrones de texto específicos, como el nombre de archivo extensiones, esquemas de URL, etc.  \n",
    "        \n",
    "\n",
    "- Solución\n",
    "\n",
    "        Una forma sencilla de comprobar el principio o el final de una cadena es utilizar str.starts con los métodos () o str.endswith ().   \n",
    "\n",
    "Por ejemplo:"
   ]
  },
  {
   "cell_type": "code",
   "execution_count": 15,
   "metadata": {},
   "outputs": [
    {
     "data": {
      "text/plain": [
       "True"
      ]
     },
     "execution_count": 15,
     "metadata": {},
     "output_type": "execute_result"
    }
   ],
   "source": [
    "filename = 'spam.txt'\n",
    "filename.endswith('.txt')"
   ]
  },
  {
   "cell_type": "code",
   "execution_count": 16,
   "metadata": {},
   "outputs": [
    {
     "data": {
      "text/plain": [
       "False"
      ]
     },
     "execution_count": 16,
     "metadata": {},
     "output_type": "execute_result"
    }
   ],
   "source": [
    "filename.startswith('file:')"
   ]
  },
  {
   "cell_type": "code",
   "execution_count": 17,
   "metadata": {},
   "outputs": [
    {
     "data": {
      "text/plain": [
       "True"
      ]
     },
     "execution_count": 17,
     "metadata": {},
     "output_type": "execute_result"
    }
   ],
   "source": [
    "url = 'http://www.python.org'\n",
    "url.startswith('http:')"
   ]
  },
  {
   "cell_type": "code",
   "execution_count": 18,
   "metadata": {},
   "outputs": [
    {
     "data": {
      "text/plain": [
       "True"
      ]
     },
     "execution_count": 18,
     "metadata": {},
     "output_type": "execute_result"
    }
   ],
   "source": [
    "url.startswith(\"www\",7,10) # empieza a buscar desde la posicion 7 hasta la 10"
   ]
  },
  {
   "cell_type": "code",
   "execution_count": 19,
   "metadata": {},
   "outputs": [
    {
     "data": {
      "text/plain": [
       "True"
      ]
     },
     "execution_count": 19,
     "metadata": {},
     "output_type": "execute_result"
    }
   ],
   "source": [
    "url.endswith(\"://\",0,7) "
   ]
  },
  {
   "cell_type": "code",
   "execution_count": 20,
   "metadata": {},
   "outputs": [
    {
     "data": {
      "text/plain": [
       "True"
      ]
     },
     "execution_count": 20,
     "metadata": {},
     "output_type": "execute_result"
    }
   ],
   "source": [
    "str.startswith(\"holA\",\"o\",1)"
   ]
  },
  {
   "cell_type": "code",
   "execution_count": 26,
   "metadata": {},
   "outputs": [
    {
     "name": "stdout",
     "output_type": "stream",
     "text": [
      "cap_2_part1.ipynb\n",
      "cap_2_part2.ipynb\n",
      "token_expr.ipynb\n",
      "cap_2_part3.ipynb\n",
      "cap_2_part4.ipynb\n"
     ]
    }
   ],
   "source": [
    "import os\n",
    "filenames = os.listdir()\n",
    "for i in filenames:\n",
    "    if i.endswith(\".ipynb\"):\n",
    "        print(i)"
   ]
  },
  {
   "cell_type": "code",
   "execution_count": 27,
   "metadata": {},
   "outputs": [],
   "source": [
    "notebooks = [x for x in filenames if x.endswith(\".ipynb\")]"
   ]
  },
  {
   "cell_type": "code",
   "execution_count": 28,
   "metadata": {},
   "outputs": [
    {
     "data": {
      "text/plain": [
       "['cap_2_part1.ipynb',\n",
       " 'cap_2_part2.ipynb',\n",
       " 'token_expr.ipynb',\n",
       " 'cap_2_part3.ipynb',\n",
       " 'cap_2_part4.ipynb']"
      ]
     },
     "execution_count": 28,
     "metadata": {},
     "output_type": "execute_result"
    }
   ],
   "source": [
    "notebooks"
   ]
  },
  {
   "cell_type": "code",
   "execution_count": 29,
   "metadata": {},
   "outputs": [
    {
     "ename": "TypeError",
     "evalue": "startswith first arg must be str or a tuple of str, not list",
     "output_type": "error",
     "traceback": [
      "\u001b[0;31m---------------------------------------------------------------------------\u001b[0m",
      "\u001b[0;31mTypeError\u001b[0m                                 Traceback (most recent call last)",
      "Cell \u001b[0;32mIn[29], line 8\u001b[0m\n\u001b[1;32m      6\u001b[0m choices \u001b[38;5;241m=\u001b[39m [\u001b[38;5;124m'\u001b[39m\u001b[38;5;124mhttp:\u001b[39m\u001b[38;5;124m'\u001b[39m, \u001b[38;5;124m'\u001b[39m\u001b[38;5;124mftp:\u001b[39m\u001b[38;5;124m'\u001b[39m]\n\u001b[1;32m      7\u001b[0m url \u001b[38;5;241m=\u001b[39m \u001b[38;5;124m'\u001b[39m\u001b[38;5;124mhttp://www.python.org\u001b[39m\u001b[38;5;124m'\u001b[39m\n\u001b[0;32m----> 8\u001b[0m \u001b[43murl\u001b[49m\u001b[38;5;241;43m.\u001b[39;49m\u001b[43mstartswith\u001b[49m\u001b[43m(\u001b[49m\u001b[43mchoices\u001b[49m\u001b[43m)\u001b[49m\n",
      "\u001b[0;31mTypeError\u001b[0m: startswith first arg must be str or a tuple of str, not list"
     ]
    }
   ],
   "source": [
    "# Curiosamente, esta es una parte de Python donde en realidad se requiere una tupla \n",
    "# como entrada. Si te pasa para tener las opciones especificadas en una lista o conjunto, \n",
    "# solo asegúrese de convertirlas usando\n",
    "# tupla () primero. \n",
    "# Por ejemplo:\n",
    "choices = ['http:', 'ftp:']\n",
    "url = 'http://www.python.org'\n",
    "url.startswith(choices)"
   ]
  },
  {
   "cell_type": "code",
   "execution_count": 30,
   "metadata": {},
   "outputs": [
    {
     "data": {
      "text/plain": [
       "True"
      ]
     },
     "execution_count": 30,
     "metadata": {},
     "output_type": "execute_result"
    }
   ],
   "source": [
    "choices = ('http:', 'ftp:')\n",
    "url = 'http://www.python.org'\n",
    "url.startswith(choices)"
   ]
  },
  {
   "cell_type": "code",
   "execution_count": 31,
   "metadata": {},
   "outputs": [
    {
     "data": {
      "text/plain": [
       "<re.Match object; span=(0, 5), match='http:'>"
      ]
     },
     "execution_count": 31,
     "metadata": {},
     "output_type": "execute_result"
    }
   ],
   "source": [
    "# con expreciones regulares\n",
    "import re\n",
    "url = 'http://www.python.org'\n",
    "re.match('http:|https:|ftp:', url) "
   ]
  },
  {
   "cell_type": "code",
   "execution_count": 32,
   "metadata": {},
   "outputs": [
    {
     "name": "stdout",
     "output_type": "stream",
     "text": [
      "hay un archivo jupyter o python\n"
     ]
    }
   ],
   "source": [
    "from os import listdir\n",
    "# si por lo menoos hay un archivo compatible en la carpeta \"/home/emi/Descargas\n",
    "if any( name.endswith ( ('.ipynb', '.py') ) for name in listdir(\"/home/emi/Descargas\") ):\n",
    "    print(\"hay un archivo jupyter o python\")"
   ]
  },
  {
   "cell_type": "markdown",
   "metadata": {},
   "source": [
    "# Coincidencia de cadenas mediante patrones de comodines de Shell\n",
    "\n",
    "2.3\n",
    "\n",
    "- Problema\n",
    "\n",
    "        Desea hacer coincidir el texto con los mismos patrones de comodines que se usan comúnmente cuando\n",
    "trabajando en shells de Unix (por ejemplo, * .py, Dat [0-9] *. csv, etc.).\n",
    "\n",
    "- Solución\n",
    "\n",
    "        El módulo fnmatch proporciona dos funciones, fnmatch () y fnmatchcase (), que se puede utilizar para realizar dicha comparación.   \n",
    "    \n",
    "El uso es simple:"
   ]
  },
  {
   "cell_type": "code",
   "execution_count": 33,
   "metadata": {},
   "outputs": [],
   "source": [
    "from fnmatch import fnmatch, fnmatchcase"
   ]
  },
  {
   "cell_type": "code",
   "execution_count": 34,
   "metadata": {},
   "outputs": [
    {
     "data": {
      "text/plain": [
       "True"
      ]
     },
     "execution_count": 34,
     "metadata": {},
     "output_type": "execute_result"
    }
   ],
   "source": [
    "fnmatch('foo.txt', '*.txt')"
   ]
  },
  {
   "cell_type": "code",
   "execution_count": 35,
   "metadata": {},
   "outputs": [
    {
     "data": {
      "text/plain": [
       "True"
      ]
     },
     "execution_count": 35,
     "metadata": {},
     "output_type": "execute_result"
    }
   ],
   "source": [
    "fnmatch('foo.txt', '?oo.txt')"
   ]
  },
  {
   "cell_type": "code",
   "execution_count": 36,
   "metadata": {},
   "outputs": [
    {
     "data": {
      "text/plain": [
       "True"
      ]
     },
     "execution_count": 36,
     "metadata": {},
     "output_type": "execute_result"
    }
   ],
   "source": [
    "fnmatch('Dat45.csv', 'Dat[0-9]*')"
   ]
  },
  {
   "cell_type": "code",
   "execution_count": 37,
   "metadata": {},
   "outputs": [
    {
     "data": {
      "text/plain": [
       "['Dat1.csv', 'Dat2.csv']"
      ]
     },
     "execution_count": 37,
     "metadata": {},
     "output_type": "execute_result"
    }
   ],
   "source": [
    "names = ['Dat1.csv', 'Dat2.csv', 'config.ini', 'foo.py']\n",
    "[name for name in names if fnmatch(name, 'Dat*.csv')]"
   ]
  },
  {
   "cell_type": "markdown",
   "metadata": {},
   "source": [
    "Normalmente, fnmatch () coincide con los patrones utilizando las mismas reglas de distinción entre mayúsculas y minúsculas que el sistema de archivos (que varía según el sistema operativo).\n",
    "\n",
    "```python\n",
    ">>> # En OS X (Mac)\n",
    ">>> fnmatch ('foo.txt', '*.TXT')\n",
    "False\n",
    ">>> # En Windows\n",
    ">>> fnmatch ('foo.txt', '* .TXT')\n",
    "True\n",
    ">>>\n",
    "```\n",
    "Si esta distinción es importante, use fnmatchcase () en su lugar. Coincide exactamente en base a la\n",
    "convenciones de minúsculas y mayúsculas que proporciona:"
   ]
  },
  {
   "cell_type": "code",
   "execution_count": 38,
   "metadata": {},
   "outputs": [
    {
     "data": {
      "text/plain": [
       "False"
      ]
     },
     "execution_count": 38,
     "metadata": {},
     "output_type": "execute_result"
    }
   ],
   "source": [
    "fnmatchcase ('foo.txt', '*.TXT')"
   ]
  },
  {
   "cell_type": "markdown",
   "metadata": {},
   "source": [
    "Una característica que a menudo se pasa por alto de estas funciones es su uso potencial con el procesamiento de datos de cadenas sin nombre de archivo. Por ejemplo, suponga que tiene una lista de direcciones como esta:"
   ]
  },
  {
   "cell_type": "code",
   "execution_count": 40,
   "metadata": {},
   "outputs": [],
   "source": [
    "addresses=['5412 N CLARK ST',\n",
    "           '1060 N ADDISON ST',\n",
    "           '1039 W GRANVILLE AVE',\n",
    "           '2122 W CLARK ST',\n",
    "           '4802 N BROADWAY',]"
   ]
  },
  {
   "cell_type": "code",
   "execution_count": 41,
   "metadata": {},
   "outputs": [
    {
     "data": {
      "text/plain": [
       "['5412 N CLARK ST', '1060 N ADDISON ST', '2122 W CLARK ST']"
      ]
     },
     "execution_count": 41,
     "metadata": {},
     "output_type": "execute_result"
    }
   ],
   "source": [
    "[addr for addr in addresses if fnmatchcase(addr, '* ST')]"
   ]
  },
  {
   "cell_type": "code",
   "execution_count": 42,
   "metadata": {},
   "outputs": [
    {
     "data": {
      "text/plain": [
       "['5412 N CLARK ST']"
      ]
     },
     "execution_count": 42,
     "metadata": {},
     "output_type": "execute_result"
    }
   ],
   "source": [
    "[addr for addr in addresses if fnmatchcase(addr, '54[0-9][0-9] *CLARK*')]"
   ]
  },
  {
   "cell_type": "code",
   "execution_count": 43,
   "metadata": {},
   "outputs": [
    {
     "data": {
      "text/plain": [
       "['5412 N CLARK ST',\n",
       " '1060 N ADDISON ST',\n",
       " '1039 W GRANVILLE AVE',\n",
       " '4802 N BROADWAY']"
      ]
     },
     "execution_count": 43,
     "metadata": {},
     "output_type": "execute_result"
    }
   ],
   "source": [
    "[addr for addr in addresses if fnmatchcase(addr, '*N*')]"
   ]
  },
  {
   "cell_type": "markdown",
   "metadata": {},
   "source": [
    "# Coincidencia y búsqueda de patrones de texto\n",
    "\n",
    "2.4\n",
    "\n",
    "- Problema\n",
    "        Desea hacer coincidir o buscar texto para un patrón específico.\n",
    "          \n",
    "            \n",
    "     \n",
    "- Solución\n",
    "        Si el texto que intenta hacer coincidir es un literal simple, a menudo puede usar la cadena básicamétodos, como str.find (), str.endswith (), str.startswith () o similares. \n",
    "        \n",
    "por ejemplo:"
   ]
  },
  {
   "cell_type": "code",
   "execution_count": 44,
   "metadata": {},
   "outputs": [],
   "source": [
    "text = 'yeah, but no, but yeah, but no, but yeah'"
   ]
  },
  {
   "cell_type": "code",
   "execution_count": 45,
   "metadata": {},
   "outputs": [
    {
     "data": {
      "text/plain": [
       "False"
      ]
     },
     "execution_count": 45,
     "metadata": {},
     "output_type": "execute_result"
    }
   ],
   "source": [
    "text == 'yeah' # buscar un mach exacto"
   ]
  },
  {
   "cell_type": "code",
   "execution_count": 46,
   "metadata": {},
   "outputs": [
    {
     "data": {
      "text/plain": [
       "False"
      ]
     },
     "execution_count": 46,
     "metadata": {},
     "output_type": "execute_result"
    }
   ],
   "source": [
    "text.endswith(\"no\") # busacar terminacion en \"no\""
   ]
  },
  {
   "cell_type": "code",
   "execution_count": 47,
   "metadata": {},
   "outputs": [
    {
     "data": {
      "text/plain": [
       "True"
      ]
     },
     "execution_count": 47,
     "metadata": {},
     "output_type": "execute_result"
    }
   ],
   "source": [
    "text.startswith('yeah') # buscar que empieze con \"yeah\""
   ]
  },
  {
   "cell_type": "code",
   "execution_count": 48,
   "metadata": {},
   "outputs": [
    {
     "data": {
      "text/plain": [
       "10"
      ]
     },
     "execution_count": 48,
     "metadata": {},
     "output_type": "execute_result"
    }
   ],
   "source": [
    "text.find('no')"
   ]
  },
  {
   "cell_type": "markdown",
   "metadata": {},
   "source": [
    "Para un emparejamiento más complicado, use expresiones regulares y el módulo re. Para ilustrar\n",
    "tratar la mecánica básica del uso de expresiones regulares, suponga que desea hacer coincidir fechas\n",
    "especificado como dígitos, como \"27/11/2012\". Aquí hay una muestra de cómo lo haría:"
   ]
  },
  {
   "cell_type": "code",
   "execution_count": 49,
   "metadata": {},
   "outputs": [],
   "source": [
    "text1 = '11/27/2012'\n",
    "text2 = 'Nov 27, 2012'\n",
    "import re\n",
    "\n",
    "def fecha(st):\n",
    "    \"Retorna True si encuentra una fecha con formato dd/mm/aaaa, aunque sea fecha incorrecta\"\n",
    "    import re\n",
    "    # search encuentra la coicidencia en cualquier parte de la cadena de texto\n",
    "    if re.search(r'\\d+/\\d+/\\d+', st):\n",
    "        return True\n",
    "    else:\n",
    "        return False"
   ]
  },
  {
   "cell_type": "code",
   "execution_count": 50,
   "metadata": {},
   "outputs": [
    {
     "data": {
      "text/plain": [
       "True"
      ]
     },
     "execution_count": 50,
     "metadata": {},
     "output_type": "execute_result"
    }
   ],
   "source": [
    "fecha(text1)"
   ]
  },
  {
   "cell_type": "code",
   "execution_count": 51,
   "metadata": {},
   "outputs": [
    {
     "data": {
      "text/plain": [
       "False"
      ]
     },
     "execution_count": 51,
     "metadata": {},
     "output_type": "execute_result"
    }
   ],
   "source": [
    "fecha(text2)"
   ]
  },
  {
   "cell_type": "code",
   "execution_count": 52,
   "metadata": {},
   "outputs": [
    {
     "data": {
      "text/plain": [
       "True"
      ]
     },
     "execution_count": 52,
     "metadata": {},
     "output_type": "execute_result"
    }
   ],
   "source": [
    "fecha(\"la fecha del encuentro es el 24/12/2020 \")"
   ]
  },
  {
   "cell_type": "markdown",
   "metadata": {},
   "source": [
    "Si vas a realizar muchas coincidencias con el mismo patrón, generalmente vale la pena\n",
    "precompile primero el patrón de expresión regular en un objeto patrón.   \n",
    "Por ejemplo:"
   ]
  },
  {
   "cell_type": "code",
   "execution_count": 53,
   "metadata": {},
   "outputs": [],
   "source": [
    "datepat = re.compile(r'\\d+/\\d+/\\d+')"
   ]
  },
  {
   "cell_type": "code",
   "execution_count": 54,
   "metadata": {},
   "outputs": [
    {
     "name": "stdout",
     "output_type": "stream",
     "text": [
      "yes\n",
      "no\n"
     ]
    }
   ],
   "source": [
    "if datepat.match(text1):\n",
    "    print('yes')\n",
    "else:\n",
    "    print('no')\n",
    "####\n",
    "if datepat.match(text2):\n",
    "    print('yes')\n",
    "else:\n",
    "    print('no')"
   ]
  },
  {
   "cell_type": "markdown",
   "metadata": {},
   "source": [
    "match() siempre intenta encontrar la coincidencia al comienzo de una cadena. Si quieres buscar texto para todas las apariciones de un patrón, use el método search() en su lugar.\n",
    "y si desea obtener una lista con todas las coincidencias use findall().  \n",
    "Por ejemplo:"
   ]
  },
  {
   "cell_type": "code",
   "execution_count": 55,
   "metadata": {},
   "outputs": [
    {
     "data": {
      "text/plain": [
       "['11/27/2012', '3/13/2013']"
      ]
     },
     "execution_count": 55,
     "metadata": {},
     "output_type": "execute_result"
    }
   ],
   "source": [
    "text = 'Today is 11/27/2012. PyCon starts 3/13/2013.'\n",
    "datepat.findall(text)"
   ]
  },
  {
   "cell_type": "markdown",
   "metadata": {},
   "source": [
    "Al definir expresiones regulares, es común introducir grupos de captura encerrando partes del patrón entre paréntesis.  \n",
    "Por ejemplo:"
   ]
  },
  {
   "cell_type": "code",
   "execution_count": 56,
   "metadata": {},
   "outputs": [],
   "source": [
    "datepat = re.compile(r'(?P<dia>\\d+)/(?P<mes>\\d+)/(?P<año>\\d+)')"
   ]
  },
  {
   "cell_type": "code",
   "execution_count": 57,
   "metadata": {},
   "outputs": [
    {
     "data": {
      "text/plain": [
       "<re.Match object; span=(0, 10), match='11/27/2012'>"
      ]
     },
     "execution_count": 57,
     "metadata": {},
     "output_type": "execute_result"
    }
   ],
   "source": [
    "m = datepat.match('11/27/2012')\n",
    "m"
   ]
  },
  {
   "cell_type": "code",
   "execution_count": 58,
   "metadata": {},
   "outputs": [
    {
     "data": {
      "text/plain": [
       "('11', '27', '2012')"
      ]
     },
     "execution_count": 58,
     "metadata": {},
     "output_type": "execute_result"
    }
   ],
   "source": [
    "m.groups()"
   ]
  },
  {
   "cell_type": "code",
   "execution_count": 59,
   "metadata": {},
   "outputs": [
    {
     "data": {
      "text/plain": [
       "{'dia': '11', 'mes': '27', 'año': '2012'}"
      ]
     },
     "execution_count": 59,
     "metadata": {},
     "output_type": "execute_result"
    }
   ],
   "source": [
    "m.groupdict()"
   ]
  },
  {
   "cell_type": "code",
   "execution_count": 60,
   "metadata": {},
   "outputs": [
    {
     "data": {
      "text/plain": [
       "('11/27/2012', '11/27/2012')"
      ]
     },
     "execution_count": 60,
     "metadata": {},
     "output_type": "execute_result"
    }
   ],
   "source": [
    "m[0],m.group(0)"
   ]
  },
  {
   "cell_type": "code",
   "execution_count": 61,
   "metadata": {},
   "outputs": [
    {
     "data": {
      "text/plain": [
       "('11', '11', '11')"
      ]
     },
     "execution_count": 61,
     "metadata": {},
     "output_type": "execute_result"
    }
   ],
   "source": [
    "m[1],m.group(1),m[\"dia\"]"
   ]
  },
  {
   "cell_type": "code",
   "execution_count": 62,
   "metadata": {},
   "outputs": [
    {
     "data": {
      "text/plain": [
       "('27', '27', '27')"
      ]
     },
     "execution_count": 62,
     "metadata": {},
     "output_type": "execute_result"
    }
   ],
   "source": [
    "m[2],m.group(2),m[\"mes\"]"
   ]
  },
  {
   "cell_type": "code",
   "execution_count": 63,
   "metadata": {},
   "outputs": [
    {
     "data": {
      "text/plain": [
       "('27', '27', '2012')"
      ]
     },
     "execution_count": 63,
     "metadata": {},
     "output_type": "execute_result"
    }
   ],
   "source": [
    "m[2],m.group(2),m[\"año\"]"
   ]
  },
  {
   "cell_type": "code",
   "execution_count": 64,
   "metadata": {},
   "outputs": [
    {
     "data": {
      "text/plain": [
       "[('11', '27', '2012'), ('3', '13', '2013')]"
      ]
     },
     "execution_count": 64,
     "metadata": {},
     "output_type": "execute_result"
    }
   ],
   "source": [
    "text = 'Today is 11/27/2012. PyCon starts 3/13/2013.'\n",
    "datepat.findall(text)"
   ]
  },
  {
   "cell_type": "code",
   "execution_count": null,
   "metadata": {},
   "outputs": [],
   "source": []
  },
  {
   "cell_type": "markdown",
   "metadata": {},
   "source": [
    "# Buscar y reemplazar texto\n",
    "\n",
    "2.5\n",
    "\n",
    "- Problema\n",
    "\n",
    "        Desea buscar y reemplazar un patrón de texto en una cadena.  \n",
    "        \n",
    "\n",
    "- Solución\n",
    "\n",
    "        Para patrones literales simples, use el método str.replace ().   \n",
    "\n",
    "Por ejemplo:"
   ]
  },
  {
   "cell_type": "code",
   "execution_count": 65,
   "metadata": {},
   "outputs": [],
   "source": [
    "text = 'yeah, but no, but yeah, but no, but yeah'"
   ]
  },
  {
   "cell_type": "code",
   "execution_count": 66,
   "metadata": {},
   "outputs": [
    {
     "data": {
      "text/plain": [
       "'yep, but no, but yep, but no, but yep'"
      ]
     },
     "execution_count": 66,
     "metadata": {},
     "output_type": "execute_result"
    }
   ],
   "source": [
    "text.replace('yeah', 'yep')"
   ]
  },
  {
   "cell_type": "markdown",
   "metadata": {},
   "source": [
    "Para patrones más complicados, use las funcione  sub () del módulo re. Suponga que desea volver a escribir las fechas del formulario \"27/11/2012\" como “2012-11-27\".\n",
    "Aquí hay una muestra de cómo hacerlo:"
   ]
  },
  {
   "cell_type": "code",
   "execution_count": 67,
   "metadata": {},
   "outputs": [],
   "source": [
    "text = 'Today is 11/27/2012. PyCon starts 3/13/2013.'"
   ]
  },
  {
   "cell_type": "code",
   "execution_count": 68,
   "metadata": {},
   "outputs": [
    {
     "data": {
      "text/plain": [
       "'Today is 2012-11-27. PyCon starts 2013-3-13.'"
      ]
     },
     "execution_count": 68,
     "metadata": {},
     "output_type": "execute_result"
    }
   ],
   "source": [
    "re.sub(r'(\\d+)/(\\d+)/(\\d+)', r'\\3-\\1-\\2', text)"
   ]
  },
  {
   "cell_type": "markdown",
   "metadata": {},
   "source": [
    "El primer argumento de sub () es el patrón que debe coincidir y el segundo argumento es el\n",
    "patrón de reemplazo. Los dígitos de barra invertida como \\3 se refieren a los números de grupo de captura en\n",
    "el patrón.  \n",
    "Si va a realizar sustituciones repetidas del mismo patrón, considere compilar\n",
    "primero para un mejor rendimiento.   \n",
    "Por ejemplo:"
   ]
  },
  {
   "cell_type": "code",
   "execution_count": 62,
   "metadata": {},
   "outputs": [],
   "source": [
    "datepat = re.compile(r'(\\d+)/(\\d+)/(\\d+)')"
   ]
  },
  {
   "cell_type": "code",
   "execution_count": 63,
   "metadata": {},
   "outputs": [
    {
     "data": {
      "text/plain": [
       "'Today is 2012-11-27. PyCon starts 2013-3-13.'"
      ]
     },
     "execution_count": 63,
     "metadata": {},
     "output_type": "execute_result"
    }
   ],
   "source": [
    "datepat.sub(r'\\3-\\1-\\2', text)"
   ]
  },
  {
   "cell_type": "markdown",
   "metadata": {},
   "source": [
    "Para sustituciones más complicadas, es posible especificar una función de devolución de llamada de sustitución\n",
    "en su lugar.  \n",
    "Por ejemplo:"
   ]
  },
  {
   "cell_type": "code",
   "execution_count": 65,
   "metadata": {},
   "outputs": [],
   "source": [
    "from calendar import month_abbr"
   ]
  },
  {
   "cell_type": "code",
   "execution_count": 66,
   "metadata": {},
   "outputs": [],
   "source": [
    "def change_date(m):\n",
    "    mon_name = month_abbr[int(m.group(1))]\n",
    "    return '{} {} {}'.format(m.group(2), mon_name, m.group(3))"
   ]
  },
  {
   "cell_type": "code",
   "execution_count": 67,
   "metadata": {},
   "outputs": [
    {
     "data": {
      "text/plain": [
       "'Today is 27 Nov 2012. PyCon starts 13 Mar 2013.'"
      ]
     },
     "execution_count": 67,
     "metadata": {},
     "output_type": "execute_result"
    }
   ],
   "source": [
    "datepat.sub(change_date, text)"
   ]
  },
  {
   "cell_type": "markdown",
   "metadata": {},
   "source": [
    "Si desea saber cuántas sustituciones se realizaron además de obtener el\n",
    "texto de reemplazo, use re.subn () en su lugar.   \n",
    "Por ejemplo:"
   ]
  },
  {
   "cell_type": "code",
   "execution_count": 80,
   "metadata": {},
   "outputs": [],
   "source": [
    "newtext, n = datepat.subn(r'\\3-\\1-\\2', text)"
   ]
  },
  {
   "cell_type": "code",
   "execution_count": 84,
   "metadata": {},
   "outputs": [
    {
     "name": "stdout",
     "output_type": "stream",
     "text": [
      "Today is 11/27/2012. PyCon starts 3/13/2013.\n",
      "Today is 2012-11-27. PyCon starts 2013-3-13.\n"
     ]
    }
   ],
   "source": [
    "print(text)\n",
    "print(newtext)"
   ]
  },
  {
   "cell_type": "code",
   "execution_count": 82,
   "metadata": {},
   "outputs": [
    {
     "data": {
      "text/plain": [
       "2"
      ]
     },
     "execution_count": 82,
     "metadata": {},
     "output_type": "execute_result"
    }
   ],
   "source": [
    "n"
   ]
  },
  {
   "cell_type": "markdown",
   "metadata": {},
   "source": [
    "# Buscar y reemplazar texto que no distingue entre mayúsculas y minúsculas\n",
    "\n",
    "2.6\n",
    "\n",
    "- Problema\n",
    "        \n",
    "        Necesita buscar y posiblemente reemplazar el texto de una manera que no distinga entre mayúsculas y minúsculas.   \n",
    "        \n",
    "\n",
    "- Solución\n",
    "        \n",
    "        Para realizar operaciones de texto que no distinguen entre mayúsculas y minúsculas, debe utilizar el módulo re y suministrar la bandera re.IGNORECASE a varias operaciones.  \n",
    "        \n",
    "Por ejemplo:"
   ]
  },
  {
   "cell_type": "code",
   "execution_count": 69,
   "metadata": {},
   "outputs": [
    {
     "data": {
      "text/plain": [
       "['PYTHON', 'python', 'Python']"
      ]
     },
     "execution_count": 69,
     "metadata": {},
     "output_type": "execute_result"
    }
   ],
   "source": [
    "text = 'UPPER PYTHON, lower python, Mixed Python'\n",
    "re.findall('python', text, flags=re.IGNORECASE)"
   ]
  },
  {
   "cell_type": "code",
   "execution_count": 70,
   "metadata": {},
   "outputs": [
    {
     "data": {
      "text/plain": [
       "'UPPER snake, lower snake, Mixed snake'"
      ]
     },
     "execution_count": 70,
     "metadata": {},
     "output_type": "execute_result"
    }
   ],
   "source": [
    "re.sub('python', 'snake', text, flags=re.IGNORECASE)"
   ]
  },
  {
   "cell_type": "markdown",
   "metadata": {},
   "source": [
    "El último ejemplo revela una limitación de que reemplazar texto no coincidirá con el caso del\n",
    "texto coincidente. Si necesita solucionar este problema, es posible que deba utilizar una función de soporte, como lo siguiente:"
   ]
  },
  {
   "cell_type": "code",
   "execution_count": 71,
   "metadata": {},
   "outputs": [],
   "source": [
    "def matchcase(word):\n",
    "    print(word)\n",
    "    def replace(m):\n",
    "        print(m)\n",
    "        text = m.group()\n",
    "        print(text)\n",
    "        if text.isupper():\n",
    "            return word.upper()\n",
    "        elif text.islower():\n",
    "            return word.lower()\n",
    "        elif text[0].isupper():\n",
    "            return word.capitalize()\n",
    "        else:\n",
    "            return word\n",
    "    return replace"
   ]
  },
  {
   "cell_type": "code",
   "execution_count": 72,
   "metadata": {},
   "outputs": [
    {
     "name": "stdout",
     "output_type": "stream",
     "text": [
      "snake\n",
      "<re.Match object; span=(6, 12), match='PYTHON'>\n",
      "PYTHON\n",
      "<re.Match object; span=(20, 26), match='python'>\n",
      "python\n",
      "<re.Match object; span=(34, 40), match='Python'>\n",
      "Python\n"
     ]
    },
    {
     "data": {
      "text/plain": [
       "'UPPER SNAKE, lower snake, Mixed Snake'"
      ]
     },
     "execution_count": 72,
     "metadata": {},
     "output_type": "execute_result"
    }
   ],
   "source": [
    "re.sub('python', matchcase('snake'), text, flags=re.IGNORECASE)"
   ]
  },
  {
   "cell_type": "code",
   "execution_count": null,
   "metadata": {},
   "outputs": [],
   "source": []
  }
 ],
 "metadata": {
  "kernelspec": {
   "display_name": "Py310",
   "language": "python",
   "name": "py310"
  },
  "language_info": {
   "codemirror_mode": {
    "name": "ipython",
    "version": 3
   },
   "file_extension": ".py",
   "mimetype": "text/x-python",
   "name": "python",
   "nbconvert_exporter": "python",
   "pygments_lexer": "ipython3",
   "version": "3.10.9"
  }
 },
 "nbformat": 4,
 "nbformat_minor": 4
}
