{
 "cells": [
  {
   "cell_type": "markdown",
   "metadata": {},
   "source": [
    "# Especificar una expresión regular para la coincidencia mas corta  \n",
    "\n",
    "2.7\n",
    "\n",
    "- Problema\n",
    "\n",
    "        Intenta hacer coincidir un patrón de texto con expresiones regulares, pero está identificando el coincidencias más largas posibles de un patrón. En cambio, le gustaría cambiarlo para encontrar el coincidencia más corta posible.    \n",
    "        \n",
    "          \n",
    "- Solución\n",
    "\n",
    "        Este problema a menudo surge en patrones que intentan hacer coincidir el texto encerrado dentro de un par de delimitadores inicial y final (por ejemplo, una cadena entre comillas).   \n",
    "       \n",
    "Para ilustrarlo, considere este ejemplo:"
   ]
  },
  {
   "cell_type": "code",
   "execution_count": 11,
   "metadata": {},
   "outputs": [],
   "source": [
    "import re"
   ]
  },
  {
   "cell_type": "code",
   "execution_count": 2,
   "metadata": {},
   "outputs": [],
   "source": [
    "str_pat = re.compile(r'\\\"(.*)\\\"')"
   ]
  },
  {
   "cell_type": "code",
   "execution_count": 3,
   "metadata": {},
   "outputs": [],
   "source": [
    "text1 = 'Computer says \"no.\"'"
   ]
  },
  {
   "cell_type": "code",
   "execution_count": 4,
   "metadata": {},
   "outputs": [
    {
     "data": {
      "text/plain": [
       "['no.']"
      ]
     },
     "execution_count": 4,
     "metadata": {},
     "output_type": "execute_result"
    }
   ],
   "source": [
    "str_pat.findall(text1)"
   ]
  },
  {
   "cell_type": "code",
   "execution_count": 5,
   "metadata": {},
   "outputs": [],
   "source": [
    "text2 = 'Computer says \"no.\" Phone says \"yes.\"'"
   ]
  },
  {
   "cell_type": "code",
   "execution_count": 14,
   "metadata": {},
   "outputs": [
    {
     "data": {
      "text/plain": [
       "['no.', 'yes.']"
      ]
     },
     "execution_count": 14,
     "metadata": {},
     "output_type": "execute_result"
    }
   ],
   "source": [
    "str_pat.findall(text2)"
   ]
  },
  {
   "cell_type": "markdown",
   "metadata": {},
   "source": [
    "En este ejemplo, el patrón `r'\\ \"(. *) \\\"`  Está intentando hacer coincidir el texto incluido dentro\n",
    "citas.   \n",
    "Sin embargo, el operador `*` en una expresión regular es codicioso, por lo que la coincidencia se basa\n",
    "en encontrar la coincidencia más larga posible.  \n",
    "Por tanto, en el segundo ejemplo que involucra text2, coincide incorrectamente con las dos cadenas entre comillas.  \n",
    "Para solucionar esto, agregue el `?` después del operador `*` en el patrón, así:"
   ]
  },
  {
   "cell_type": "code",
   "execution_count": 24,
   "metadata": {},
   "outputs": [],
   "source": [
    "str_pat = re.compile(r'\\\"(.*?)\\\"') \n",
    "# el punto busca cualquier caracter exepto salto de linea"
   ]
  },
  {
   "cell_type": "code",
   "execution_count": 6,
   "metadata": {},
   "outputs": [
    {
     "data": {
      "text/plain": [
       "['no.\" Phone says \"yes.']"
      ]
     },
     "execution_count": 6,
     "metadata": {},
     "output_type": "execute_result"
    }
   ],
   "source": [
    "str_pat.findall(text2)"
   ]
  },
  {
   "cell_type": "code",
   "execution_count": 7,
   "metadata": {},
   "outputs": [],
   "source": [
    "text3 = 'Computer says \"no.\"\\nPhone says \"yes.\"'"
   ]
  },
  {
   "cell_type": "code",
   "execution_count": 8,
   "metadata": {},
   "outputs": [],
   "source": [
    "str_pat1 = re.compile(r'\\\"(.*)\\\"')\n",
    "str_pat2 = re.compile(r'\\\"(.*?)\\\"') "
   ]
  },
  {
   "cell_type": "code",
   "execution_count": 9,
   "metadata": {},
   "outputs": [
    {
     "name": "stdout",
     "output_type": "stream",
     "text": [
      "Computer says \"no.\"\n",
      "Phone says \"yes.\"\n",
      "['no.', 'yes.']\n",
      "['no.', 'yes.']\n"
     ]
    }
   ],
   "source": [
    "print(text3)\n",
    "print(str_pat1.findall(text3))\n",
    "print(str_pat2.findall(text3))"
   ]
  },
  {
   "cell_type": "code",
   "execution_count": 10,
   "metadata": {},
   "outputs": [
    {
     "name": "stdout",
     "output_type": "stream",
     "text": [
      "Computer says \"no.\" Phone says \"yes.\"\n",
      "['no.\" Phone says \"yes.']\n",
      "['no.', 'yes.']\n"
     ]
    }
   ],
   "source": [
    "print(text2)\n",
    "print(str_pat1.findall(text2))\n",
    "print(str_pat2.findall(text2))"
   ]
  },
  {
   "cell_type": "markdown",
   "metadata": {},
   "source": [
    "# Escribir una expresión regular para patrones de varias líneas  \n",
    "\n",
    "2.8\n",
    "\n",
    "- Problema\n",
    "\n",
    "        Estás intentando hacer coincidir un bloque de texto con una expresión regular, pero necesitas la coincidencia para abarcar varias líneas.  \n",
    "          \n",
    "          \n",
    "- Solución\n",
    "\n",
    "        Este problema suele surgir en patrones que utilizan el punto (.) Para coincidir con cualquier carácter. Olvídese de tener en cuenta el hecho de que no coincide con las nuevas líneas.     \n",
    "        \n",
    "Por ejemplo, suponga que están tratando de hacer coincidir los comentarios de estilo C:"
   ]
  },
  {
   "cell_type": "code",
   "execution_count": 12,
   "metadata": {},
   "outputs": [],
   "source": [
    "comment = re.compile(r'/\\*(.*?)\\*/')"
   ]
  },
  {
   "cell_type": "code",
   "execution_count": 13,
   "metadata": {},
   "outputs": [],
   "source": [
    "text1 = '/* this is a comment */'\n",
    "text2 = \"\"\"/* this is a\n",
    "multiline comment */\"\"\""
   ]
  },
  {
   "cell_type": "code",
   "execution_count": 14,
   "metadata": {},
   "outputs": [
    {
     "name": "stdout",
     "output_type": "stream",
     "text": [
      "/* this is a\n",
      "multiline comment */\n"
     ]
    }
   ],
   "source": [
    "print(text2)"
   ]
  },
  {
   "cell_type": "code",
   "execution_count": 15,
   "metadata": {},
   "outputs": [
    {
     "data": {
      "text/plain": [
       "[' this is a comment ']"
      ]
     },
     "execution_count": 15,
     "metadata": {},
     "output_type": "execute_result"
    }
   ],
   "source": [
    "comment.findall(text1)"
   ]
  },
  {
   "cell_type": "code",
   "execution_count": 16,
   "metadata": {},
   "outputs": [
    {
     "data": {
      "text/plain": [
       "[]"
      ]
     },
     "execution_count": 16,
     "metadata": {},
     "output_type": "execute_result"
    }
   ],
   "source": [
    "comment.findall(text2)"
   ]
  },
  {
   "cell_type": "code",
   "execution_count": 17,
   "metadata": {},
   "outputs": [],
   "source": [
    "# Para solucionar el problema, \n",
    "# puede agregar soporte para nuevas líneas.\n",
    "comment = re.compile(r'/\\*((?:.|\\n)*?)\\*/')"
   ]
  },
  {
   "cell_type": "code",
   "execution_count": 18,
   "metadata": {},
   "outputs": [
    {
     "data": {
      "text/plain": [
       "[' this is a\\nmultiline comment ']"
      ]
     },
     "execution_count": 18,
     "metadata": {},
     "output_type": "execute_result"
    }
   ],
   "source": [
    "comment.findall(text2)"
   ]
  },
  {
   "cell_type": "markdown",
   "metadata": {},
   "source": [
    "En este patrón, `(?:. | \\n)` especifica un grupo de no captura (es decir, define un grupo para el\n",
    "propósitos de emparejamiento, pero ese grupo no se captura por separado ni se numera)."
   ]
  },
  {
   "cell_type": "markdown",
   "metadata": {},
   "source": [
    "La función re.compile () acepta una bandera, `re.DOTALL`, que es útil aquí. Hace\n",
    "la `.` en una expresión regular, coincida con todos los caracteres, incluidas las nuevas líneas.   \n",
    "Por ejemplo:"
   ]
  },
  {
   "cell_type": "code",
   "execution_count": 19,
   "metadata": {},
   "outputs": [],
   "source": [
    "comentario = re.compile (r'/\\*(.*?)\\*/', re.DOTALL)"
   ]
  },
  {
   "cell_type": "code",
   "execution_count": 20,
   "metadata": {},
   "outputs": [
    {
     "data": {
      "text/plain": [
       "[' this is a\\nmultiline comment ']"
      ]
     },
     "execution_count": 20,
     "metadata": {},
     "output_type": "execute_result"
    }
   ],
   "source": [
    "comentario.findall(text2)"
   ]
  },
  {
   "cell_type": "markdown",
   "metadata": {},
   "source": [
    "El uso de la marca re.DOTALL funciona bien para casos simples, pero puede ser problemático si está\n",
    "trabajar con patrones extremadamente complicados o una combinación de expresiones regulares independientes\n",
    "que se han combinado con el propósito de tokenizar.   \n",
    "Si se le da una opción, generalmente es mejor definir su patrón de expresión regular\n",
    "para que funcione correctamente sin necesidad de banderas adicionales."
   ]
  },
  {
   "cell_type": "markdown",
   "metadata": {},
   "source": [
    "# Normalizar el texto Unicode a una representación estandar\n",
    "\n",
    "2.9\n",
    "\n",
    "- Problema\n",
    "\n",
    "        Está trabajando con cadenas Unicode, pero debe asegurarse de que todas las cadenas tengan la misma representación subyacente.   \n",
    "        \n",
    "  \n",
    "- Solución\n",
    "\n",
    "        En Unicode, ciertos caracteres se pueden representar mediante más de una secuencia válida de puntos de código. \n",
    "        \n",
    "Para ilustrarlo, considere el siguiente ejemplo:"
   ]
  },
  {
   "cell_type": "code",
   "execution_count": 21,
   "metadata": {},
   "outputs": [],
   "source": [
    "s1 = 'Spicy Jalape\\u00f1o'\n",
    "s2 = 'Spicy Jalapen\\u0303o'"
   ]
  },
  {
   "cell_type": "code",
   "execution_count": 22,
   "metadata": {},
   "outputs": [
    {
     "data": {
      "text/plain": [
       "'Spicy Jalapeño'"
      ]
     },
     "execution_count": 22,
     "metadata": {},
     "output_type": "execute_result"
    }
   ],
   "source": [
    "s1"
   ]
  },
  {
   "cell_type": "code",
   "execution_count": 23,
   "metadata": {},
   "outputs": [
    {
     "data": {
      "text/plain": [
       "'Spicy Jalapeño'"
      ]
     },
     "execution_count": 23,
     "metadata": {},
     "output_type": "execute_result"
    }
   ],
   "source": [
    "s2"
   ]
  },
  {
   "cell_type": "code",
   "execution_count": 24,
   "metadata": {},
   "outputs": [
    {
     "data": {
      "text/plain": [
       "False"
      ]
     },
     "execution_count": 24,
     "metadata": {},
     "output_type": "execute_result"
    }
   ],
   "source": [
    "s1 == s2"
   ]
  },
  {
   "cell_type": "code",
   "execution_count": 25,
   "metadata": {},
   "outputs": [
    {
     "data": {
      "text/plain": [
       "14"
      ]
     },
     "execution_count": 25,
     "metadata": {},
     "output_type": "execute_result"
    }
   ],
   "source": [
    "len(s1)"
   ]
  },
  {
   "cell_type": "code",
   "execution_count": 26,
   "metadata": {},
   "outputs": [
    {
     "data": {
      "text/plain": [
       "15"
      ]
     },
     "execution_count": 26,
     "metadata": {},
     "output_type": "execute_result"
    }
   ],
   "source": [
    "len(s2)"
   ]
  },
  {
   "cell_type": "markdown",
   "metadata": {},
   "source": [
    "Aquí se ha presentado el texto “Jalapeño picante” en dos formas. El primero usa el\n",
    "compuesto de carácter “ñ” (U + 00F1). El segundo usa la letra latina \"n\" seguida de una\n",
    "Carácter de combinación “~” (U + 0303).  \n",
    "Tener múltiples representaciones es un problema para los programas que comparan cadenas. \n",
    "Para solucionar este problema, primero debe normalizar el texto en una representación estándar usando\n",
    "el módulo unicodedata:"
   ]
  },
  {
   "cell_type": "code",
   "execution_count": 28,
   "metadata": {},
   "outputs": [],
   "source": [
    "import unicodedata"
   ]
  },
  {
   "cell_type": "code",
   "execution_count": 29,
   "metadata": {},
   "outputs": [
    {
     "data": {
      "text/plain": [
       "True"
      ]
     },
     "execution_count": 29,
     "metadata": {},
     "output_type": "execute_result"
    }
   ],
   "source": [
    "t1 = unicodedata.normalize('NFC', s1)\n",
    "t2 = unicodedata.normalize('NFC', s2)\n",
    "t1 == t2"
   ]
  },
  {
   "cell_type": "code",
   "execution_count": 30,
   "metadata": {},
   "outputs": [
    {
     "data": {
      "text/plain": [
       "True"
      ]
     },
     "execution_count": 30,
     "metadata": {},
     "output_type": "execute_result"
    }
   ],
   "source": [
    "t3 = unicodedata.normalize('NFD', s1)\n",
    "t4 = unicodedata.normalize('NFD', s2)\n",
    "t3 == t4"
   ]
  },
  {
   "cell_type": "code",
   "execution_count": 31,
   "metadata": {},
   "outputs": [
    {
     "name": "stdout",
     "output_type": "stream",
     "text": [
      "'Spicy Jalapen\\u0303o'\n",
      "Spicy Jalapeño\n"
     ]
    }
   ],
   "source": [
    "print(ascii(t3))\n",
    "print(t3)"
   ]
  },
  {
   "cell_type": "markdown",
   "metadata": {},
   "source": [
    "El primer argumento para `normalize()` especifica cómo desea normalizar la cadena.   \n",
    "- `NFC` significa que los caracteres deben estar completamente compuestos (es decir, usar un solo punto de código si es posible).  \n",
    "- `NFD` significa que los caracteres deben descomponerse completamente con el uso de caracteres combinados.  \n",
    "Python también admite las formas de normalización `NFKC` y `NFKD`, que añaden extra de compatibilidad para tratar con ciertos tipos de personajes.   \n",
    "Por ejemplo:"
   ]
  },
  {
   "cell_type": "code",
   "execution_count": 32,
   "metadata": {},
   "outputs": [
    {
     "data": {
      "text/plain": [
       "'ﬁ'"
      ]
     },
     "execution_count": 32,
     "metadata": {},
     "output_type": "execute_result"
    }
   ],
   "source": [
    "s = '\\ufb01' # solo un caracter\n",
    "s"
   ]
  },
  {
   "cell_type": "code",
   "execution_count": 33,
   "metadata": {},
   "outputs": [
    {
     "data": {
      "text/plain": [
       "'ﬁ'"
      ]
     },
     "execution_count": 33,
     "metadata": {},
     "output_type": "execute_result"
    }
   ],
   "source": [
    "unicodedata.normalize('NFD', s)"
   ]
  },
  {
   "cell_type": "code",
   "execution_count": 34,
   "metadata": {},
   "outputs": [
    {
     "data": {
      "text/plain": [
       "'fi'"
      ]
     },
     "execution_count": 34,
     "metadata": {},
     "output_type": "execute_result"
    }
   ],
   "source": [
    "# Observe cómo las letras combinadas se dividen aquí.\n",
    "unicodedata.normalize('NFKD', s)"
   ]
  },
  {
   "cell_type": "code",
   "execution_count": 35,
   "metadata": {},
   "outputs": [
    {
     "data": {
      "text/plain": [
       "'fi'"
      ]
     },
     "execution_count": 35,
     "metadata": {},
     "output_type": "execute_result"
    }
   ],
   "source": [
    "unicodedata.normalize('NFKC', s)"
   ]
  },
  {
   "cell_type": "markdown",
   "metadata": {},
   "source": [
    "La normalización es una parte importante de cualquier código que necesita asegurarse de que procesa Texto Unicode de una manera sana y coherente.  \n",
    "Esto es especialmente cierto al procesar cadenas recibido como parte de la entrada del usuario donde tiene poco control de la codificación.  \n",
    "La normalización también puede ser una parte importante de la desinfección y el filtrado del texto.   \n",
    "Por ejemplo, suponga que desea eliminar todos los signos diacríticos de algún texto (posiblemente con el propósito de una busqueda o emparejar el texto):"
   ]
  },
  {
   "cell_type": "code",
   "execution_count": 36,
   "metadata": {},
   "outputs": [
    {
     "data": {
      "text/plain": [
       "'Spicy Jalapeno'"
      ]
     },
     "execution_count": 36,
     "metadata": {},
     "output_type": "execute_result"
    }
   ],
   "source": [
    "t1 = unicodedata.normalize('NFD', s1)\n",
    "''.join(c for c in t1 if not unicodedata.combining(c))"
   ]
  },
  {
   "cell_type": "code",
   "execution_count": 37,
   "metadata": {},
   "outputs": [
    {
     "data": {
      "text/plain": [
       "'Hola soy emilano đ€ argentinæ'"
      ]
     },
     "execution_count": 37,
     "metadata": {},
     "output_type": "execute_result"
    }
   ],
   "source": [
    "texto=\"Hola soy ëmiláno đ€ argentinæ\"\n",
    "t1 = unicodedata.normalize('NFD', texto)\n",
    "''.join(c for c in t1 if not unicodedata.combining(c))"
   ]
  },
  {
   "cell_type": "code",
   "execution_count": 39,
   "metadata": {},
   "outputs": [
    {
     "data": {
      "text/plain": [
       "'Hola soy emilano đ€ argentina'"
      ]
     },
     "execution_count": 39,
     "metadata": {},
     "output_type": "execute_result"
    }
   ],
   "source": [
    "texto=\"Hola soy ëmiláno đ€ argentiná\"\n",
    "t1 = unicodedata.normalize('NFKD', texto)\n",
    "''.join(c for c in t1 if not unicodedata.combining(c))"
   ]
  },
  {
   "cell_type": "markdown",
   "metadata": {},
   "source": [
    "Este último ejemplo muestra otro aspecto importante del módulo unicodedata, a saber,\n",
    "funciones de utilidad para probar caracteres contra clases de caracteres. La función de combining()\n",
    "prueba un carácter para ver si es un carácter de combinación. Hay otras funciones en\n",
    "el módulo para encontrar categorías de caracteres, probar dígitos, etc.\n",
    "Unicode es obviamente un tema extenso. Para obtener información de referencia más detallada sobre normalización, visite la página de Unicode sobre el tema http://www.unicode.org/faq/normalization.html  "
   ]
  },
  {
   "cell_type": "code",
   "execution_count": 40,
   "metadata": {},
   "outputs": [],
   "source": [
    "import unicodedata\n",
    "\n",
    "def limpiar_texto(texto):\n",
    "    # Normalizar el texto a la forma NFD (Normalization Form Decomposition)\n",
    "    texto_normalizado = unicodedata.normalize('NFD', texto)\n",
    "    # Eliminar los caracteres de combinación (acentos, tildes, etc.)\n",
    "    texto_limpio = ''.join(c for c in texto_normalizado if not unicodedata.combining(c))\n",
    "    return texto_limpio\n"
   ]
  },
  {
   "cell_type": "code",
   "execution_count": 41,
   "metadata": {},
   "outputs": [
    {
     "name": "stdout",
     "output_type": "stream",
     "text": [
      "Hola soy emilano đ€ argentina\n"
     ]
    }
   ],
   "source": [
    "\n",
    "# Ejemplo de uso\n",
    "texto = 'Hola soy ëmiláno đ€ argentiná'\n",
    "texto_limpio = limpiar_texto(texto)\n",
    "print(texto_limpio)"
   ]
  },
  {
   "cell_type": "markdown",
   "metadata": {},
   "source": [
    "# Trabajar con caracteres Unicode en formato normal con Expresiones Regulares\n",
    "\n",
    "2.10\n",
    "\n",
    "- Problema\n",
    "        \n",
    "        Utiliza expresiones regulares para procesar texto, pero le preocupa el manejo de caracteres Unicode.    \n",
    "        \n",
    "\n",
    "- Solución\n",
    "        \n",
    "        De forma predeterminada, el módulo re ya está programado con conocimientos rudimentarios de ciertas clases de caracteres Unicode.\n",
    "        Por ejemplo, `\\d` ya coincide con cualquier dígito Unicode\n",
    "        "
   ]
  },
  {
   "cell_type": "code",
   "execution_count": 43,
   "metadata": {},
   "outputs": [
    {
     "data": {
      "text/plain": [
       "<re.Match object; span=(0, 3), match='123'>"
      ]
     },
     "execution_count": 43,
     "metadata": {},
     "output_type": "execute_result"
    }
   ],
   "source": [
    "import re\n",
    "num = re.compile('\\d+')\n",
    "# ASCII digits\n",
    "num.match('123')"
   ]
  },
  {
   "cell_type": "code",
   "execution_count": 44,
   "metadata": {},
   "outputs": [
    {
     "name": "stdout",
     "output_type": "stream",
     "text": [
      "١٢٣\n"
     ]
    },
    {
     "data": {
      "text/plain": [
       "<re.Match object; span=(0, 3), match='١٢٣'>"
      ]
     },
     "execution_count": 44,
     "metadata": {},
     "output_type": "execute_result"
    }
   ],
   "source": [
    "# Arabic digits\n",
    "print('\\u0661\\u0662\\u0663')\n",
    "num.match('\\u0661\\u0662\\u0663')"
   ]
  },
  {
   "cell_type": "markdown",
   "metadata": {},
   "source": [
    "Si necesita incluir caracteres Unicode específicos en patrones, puede usar el habitual\n",
    "secuencia de escape para caracteres Unicode (por ejemplo, \\ uFFFF o \\ UFFFFFFF). Por ejemplo, aquí\n",
    "es una expresión regular que coincide con todos los caracteres en algunas páginas de códigos árabes diferentes:\n",
    "```python\n",
    "árabe = re.compile ('[\\u0600-\\u06ff\\u0750-\\u077f\\u08a0-\\u08ff]+')\n",
    "```\n",
    "Al realizar operaciones de búsqueda y búsqueda, es una buena idea normalizar y\n",
    "posiblemente primero desinfecte todo el texto a una forma estándar . Sin embargo, también es importante estar al tanto de casos especiales.   \n",
    "Por ejemplo, considere el comportamiento de la coincidencia entre mayúsculas y minúsculas:"
   ]
  },
  {
   "cell_type": "code",
   "execution_count": 45,
   "metadata": {},
   "outputs": [
    {
     "data": {
      "text/plain": [
       "<re.Match object; span=(0, 6), match='straße'>"
      ]
     },
     "execution_count": 45,
     "metadata": {},
     "output_type": "execute_result"
    }
   ],
   "source": [
    "pat = re.compile('stra\\u00dfe', re.IGNORECASE)\n",
    "s = 'straße'\n",
    "pat.match(s)"
   ]
  },
  {
   "cell_type": "code",
   "execution_count": 46,
   "metadata": {},
   "outputs": [
    {
     "name": "stdout",
     "output_type": "stream",
     "text": [
      "None\n"
     ]
    }
   ],
   "source": [
    "print(pat.match(s.upper())) # sin coincidencias"
   ]
  },
  {
   "cell_type": "code",
   "execution_count": 47,
   "metadata": {},
   "outputs": [
    {
     "data": {
      "text/plain": [
       "'STRASSE'"
      ]
     },
     "execution_count": 47,
     "metadata": {},
     "output_type": "execute_result"
    }
   ],
   "source": [
    "s.upper()"
   ]
  },
  {
   "cell_type": "markdown",
   "metadata": {},
   "source": [
    "Mezclar Unicode y expresiones regulares es a menudo una buena manera de hacer explotar su cabeza.\n",
    "Si va a hacerlo en serio, debería considerar instalar regex http://pypi.python.org/pypi/regex , que proporciona soporte completo para plegado de casos Unicode, así como una variedad de otros\n",
    "características interesantes, incluida la coincidencia aproximada."
   ]
  },
  {
   "cell_type": "markdown",
   "metadata": {},
   "source": [
    "# Eliminación de caracteres no deseados \n",
    "\n",
    "2.11\n",
    "\n",
    "- Problema\n",
    "\n",
    "        Desea eliminar los caracteres no deseados, como los espacios en blanco, desde el principio, el final o en medio de una cadena de texto.  \n",
    "        \n",
    "\n",
    "- Solución\n",
    "\n",
    "        El método strip() se puede utilizar para quitar caracteres desde el principio o el final de un string. lstrip() y rstrip() realizan la eliminación desde el lado izquierdo o derecho, respectivamente.  \n",
    "        De forma predeterminada, estos métodos eliminan los espacios en blanco, pero se pueden dar otros caracteres.   \n",
    "\n",
    "Por ejemplo:"
   ]
  },
  {
   "cell_type": "code",
   "execution_count": 48,
   "metadata": {},
   "outputs": [
    {
     "data": {
      "text/plain": [
       "'hello world'"
      ]
     },
     "execution_count": 48,
     "metadata": {},
     "output_type": "execute_result"
    }
   ],
   "source": [
    "s = '     hello world \\n'\n",
    "s.strip()"
   ]
  },
  {
   "cell_type": "code",
   "execution_count": 49,
   "metadata": {},
   "outputs": [
    {
     "data": {
      "text/plain": [
       "'hello world \\n'"
      ]
     },
     "execution_count": 49,
     "metadata": {},
     "output_type": "execute_result"
    }
   ],
   "source": [
    "s.lstrip()"
   ]
  },
  {
   "cell_type": "code",
   "execution_count": 50,
   "metadata": {},
   "outputs": [
    {
     "data": {
      "text/plain": [
       "'     hello world'"
      ]
     },
     "execution_count": 50,
     "metadata": {},
     "output_type": "execute_result"
    }
   ],
   "source": [
    "s.rstrip()"
   ]
  },
  {
   "cell_type": "code",
   "execution_count": 51,
   "metadata": {},
   "outputs": [
    {
     "data": {
      "text/plain": [
       "'hello====='"
      ]
     },
     "execution_count": 51,
     "metadata": {},
     "output_type": "execute_result"
    }
   ],
   "source": [
    "t = '-----hello====='\n",
    "t.lstrip('-')"
   ]
  },
  {
   "cell_type": "code",
   "execution_count": 52,
   "metadata": {},
   "outputs": [
    {
     "data": {
      "text/plain": [
       "'hello'"
      ]
     },
     "execution_count": 52,
     "metadata": {},
     "output_type": "execute_result"
    }
   ],
   "source": [
    ">>> t.strip('-=') "
   ]
  },
  {
   "cell_type": "code",
   "execution_count": 53,
   "metadata": {},
   "outputs": [
    {
     "data": {
      "text/plain": [
       "'hola      mundo'"
      ]
     },
     "execution_count": 53,
     "metadata": {},
     "output_type": "execute_result"
    }
   ],
   "source": [
    "s = ' hola      mundo'\n",
    "s = s.strip()\n",
    "s"
   ]
  },
  {
   "cell_type": "markdown",
   "metadata": {},
   "source": [
    "Si necesitara hacer algo en el espacio interior, necesitaría usar otra tecnología, como usar el método replace() o una sustitución de expresión regular.  \n",
    "Por ejemplo"
   ]
  },
  {
   "cell_type": "code",
   "execution_count": 54,
   "metadata": {},
   "outputs": [
    {
     "data": {
      "text/plain": [
       "'holamundo'"
      ]
     },
     "execution_count": 54,
     "metadata": {},
     "output_type": "execute_result"
    }
   ],
   "source": [
    "s.replace(' ', '')"
   ]
  },
  {
   "cell_type": "code",
   "execution_count": 55,
   "metadata": {},
   "outputs": [
    {
     "data": {
      "text/plain": [
       "'hola mundo'"
      ]
     },
     "execution_count": 55,
     "metadata": {},
     "output_type": "execute_result"
    }
   ],
   "source": [
    "re.sub('\\s+', ' ', s)"
   ]
  },
  {
   "cell_type": "markdown",
   "metadata": {},
   "source": [
    "Suele ocurrir que desee combinar operaciones de eliminación de string con otras\n",
    "tipo de procesamiento iterativo, como leer líneas de datos de un archivo. Si es así, este es uno área donde una expresión generadora puede ser útil.   \n",
    "Por ejemplo:\n",
    "```python\n",
    "with open (nombre de archivo) como f:\n",
    "    lines = (line.strip() for line in f)\n",
    "    for línea en línes:\n",
    "        ...\n",
    "```\n",
    "Aquí, la expresión lines = `(line.strip() for línea en f)` actúa como un tipo de datos generator.  \n",
    "Es eficiente porque en realidad no lee primero los datos en ningún tipo de lista temporal.  \n",
    "Simplemente crea un iterador donde a todas las líneas producidas se les aplica la operación de eliminación.\n",
    "Para una eliminación aún más avanzada, puede recurrir al método translate()."
   ]
  },
  {
   "cell_type": "markdown",
   "metadata": {},
   "source": [
    "# Desinfectar y limpiar el texto\n",
    "\n",
    "2.12\n",
    "\n",
    "- Problema\n",
    "\n",
    "        Algún niño aburrido de guiones ha ingresado el texto \"pýtĥöñ\" en un formulario en su página web y te gustaría limpiarlo de alguna manera.  \n",
    "        \n",
    "        \n",
    "- Solución\n",
    "\n",
    "        El problema de desinfectar y limpiar el texto se aplica a una amplia variedad de problemas que implican el análisis de texto y el manejo de datos. En un nivel muy simple, puede usar básico funciones de cadena (por ejemplo, str.upper () y str.lower ()) para convertir texto en un caso estándar.\n",
    "        Los reemplazos simples que utilizan str.replace () o re.sub () pueden centrarse en eliminar o cambiar secuencias de caracteres muy específicas. También puede normalizar el texto usando unicode data.normalize(), como se muestra en la Receta 2.9.\n",
    "        Sin embargo, es posible que desee llevar el proceso de saneamiento un paso más allá. Quizás, por Por ejemplo, desea eliminar rangos completos de caracteres o eliminar marcas diacríticas.\n",
    "        Si lo hace, puede recurrir al método str.translate () que a menudo se pasa por alto. Para ilustrar, suponga que tiene una cadena desordenada como la siguiente:"
   ]
  },
  {
   "cell_type": "code",
   "execution_count": 56,
   "metadata": {},
   "outputs": [
    {
     "name": "stdout",
     "output_type": "stream",
     "text": [
      "pýtĥöñ\fis\tawesome\n",
      "\n"
     ]
    }
   ],
   "source": [
    "s = 'pýtĥöñ\\fis\\tawesome\\r\\n'\n",
    "print(s)"
   ]
  },
  {
   "cell_type": "markdown",
   "metadata": {},
   "source": [
    "El primer paso es limpiar el espacio en blanco. Para hacer esto, haga una pequeña tabla de traducción. y usa translate():"
   ]
  },
  {
   "cell_type": "code",
   "execution_count": 57,
   "metadata": {},
   "outputs": [],
   "source": [
    "remap = {ord('\\t') : ' ',ord('\\f') : ' ',ord('\\r') : None}"
   ]
  },
  {
   "cell_type": "code",
   "execution_count": 58,
   "metadata": {},
   "outputs": [
    {
     "data": {
      "text/plain": [
       "'pýtĥöñ is awesome\\n'"
      ]
     },
     "execution_count": 58,
     "metadata": {},
     "output_type": "execute_result"
    }
   ],
   "source": [
    "a = s.translate(remap)\n",
    "a"
   ]
  },
  {
   "cell_type": "markdown",
   "metadata": {},
   "source": [
    "Como puede ver aquí, los caracteres de espacio en blanco como \\t y \\f se han reasignado a un único espacio. El retorno de carro \\r se ha eliminado por completo.\n",
    "Puede llevar esta idea de reasignación un paso más allá y crear tablas mucho más grandes.  \n",
    "Por exemplo eliminemos todos los caracteres combinados:"
   ]
  },
  {
   "cell_type": "code",
   "execution_count": 59,
   "metadata": {},
   "outputs": [],
   "source": [
    "import unicodedata\n",
    "import sys\n",
    "cmb_chrs = dict.fromkeys(c for c in range(sys.maxunicode)\n",
    "                         if unicodedata.combining(chr(c)))"
   ]
  },
  {
   "cell_type": "code",
   "execution_count": 60,
   "metadata": {},
   "outputs": [
    {
     "name": "stdout",
     "output_type": "stream",
     "text": [
      "pýtĥöñ\fis\tawesome\n",
      "\n"
     ]
    },
    {
     "data": {
      "text/plain": [
       "'pýtĥöñ is awesome\\n'"
      ]
     },
     "execution_count": 60,
     "metadata": {},
     "output_type": "execute_result"
    }
   ],
   "source": [
    "print(s)\n",
    "b = unicodedata.normalize('NFD', a)\n",
    "b"
   ]
  },
  {
   "cell_type": "code",
   "execution_count": 61,
   "metadata": {},
   "outputs": [
    {
     "data": {
      "text/plain": [
       "'python is awesome\\n'"
      ]
     },
     "execution_count": 61,
     "metadata": {},
     "output_type": "execute_result"
    }
   ],
   "source": [
    "b.translate(cmb_chrs)"
   ]
  },
  {
   "cell_type": "markdown",
   "metadata": {},
   "source": [
    "Como otro ejemplo, aquí hay una tabla de traducción que asigna todos los dígitos decimales Unicode\n",
    "caracteres a su equivalente en ASCII:"
   ]
  },
  {
   "cell_type": "code",
   "execution_count": 62,
   "metadata": {},
   "outputs": [],
   "source": [
    "digitmap = { c : ord('0') + unicodedata.digit(chr(c)) for c in range(sys.maxunicode)\n",
    "            if unicodedata.category(chr(c)) == 'Nd' }"
   ]
  },
  {
   "cell_type": "code",
   "execution_count": 63,
   "metadata": {},
   "outputs": [
    {
     "data": {
      "text/plain": [
       "650"
      ]
     },
     "execution_count": 63,
     "metadata": {},
     "output_type": "execute_result"
    }
   ],
   "source": [
    "len(digitmap)"
   ]
  },
  {
   "cell_type": "code",
   "execution_count": 66,
   "metadata": {},
   "outputs": [
    {
     "name": "stdout",
     "output_type": "stream",
     "text": [
      "١٢٣\n"
     ]
    },
    {
     "data": {
      "text/plain": [
       "'123'"
      ]
     },
     "execution_count": 66,
     "metadata": {},
     "output_type": "execute_result"
    }
   ],
   "source": [
    "x = '\\u0661\\u0662\\u0663' # Arabic digits\n",
    "print(x)\n",
    "x.translate(digitmap)"
   ]
  },
  {
   "cell_type": "markdown",
   "metadata": {},
   "source": [
    "Otra técnica más para limpiar texto implica la decodificación de E/S y la función de codificación. La idea aquí es primero hacer una limpieza preliminar del texto y luego ejecutarlo mediante una combinación de operaciones encode() o decode() para eliminarlo o alterarlo.  \n",
    "por ejemplo:"
   ]
  },
  {
   "cell_type": "code",
   "execution_count": 67,
   "metadata": {},
   "outputs": [
    {
     "name": "stdout",
     "output_type": "stream",
     "text": [
      "pýtĥöñ is awesome\n",
      "\n"
     ]
    },
    {
     "data": {
      "text/plain": [
       "'python is awesome\\n'"
      ]
     },
     "execution_count": 67,
     "metadata": {},
     "output_type": "execute_result"
    }
   ],
   "source": [
    "print(a)\n",
    "b = unicodedata.normalize('NFD', a)\n",
    "b.encode('ascii', 'ignore').decode('ascii')"
   ]
  },
  {
   "cell_type": "markdown",
   "metadata": {},
   "source": [
    "Aquí, el proceso de normalización descompuso el texto original en caracteres junto con\n",
    "caracteres de combinación separados. La codificación / decodificación ASCII posterior simplemente descartó todos esos caracteres de una sola vez. Naturalmente, esto solo funcionaría si la representación ASCII era el objetivo final."
   ]
  },
  {
   "cell_type": "markdown",
   "metadata": {},
   "source": [
    "Un problema importante con la desinfección del texto puede ser el rendimiento en tiempo de ejecución. Como regla general, la\n",
    "cuanto más simple sea, más rápido se ejecutará. Para reemplazos simples, el método str.replace ()\n",
    "suele ser el método más rápido, incluso si tiene que llamarlo varias veces. Por ejemplo, para\n",
    "limpiar los espacios en blanco, puede usar un código como este:\n",
    "\n",
    "```python\n",
    "def clean_spaces(s):\n",
    "    s = s.replace('\\r', '')\n",
    "    s = s.replace('\\t', ' ')\n",
    "    s = s.replace('\\f', ' ')\n",
    "    return s\n",
    "```\n",
    "Si lo prueba, encontrará que es un poco más rápido que usar translate () o un enfoque\n",
    "usando una expresión regular.\n",
    "Por otro lado, el método translate () es muy rápido si necesita realizar cualquier\n",
    "tipo de reasignación o eliminación no trivial de carácter a carácter."
   ]
  },
  {
   "cell_type": "markdown",
   "metadata": {},
   "source": [
    "# Alinear cadenas de texto\n",
    "2.13\n",
    "\n",
    "- Problema\n",
    "\n",
    "        Necesita formatear el texto con algún tipo de alineación aplicada.  \n",
    "\n",
    "\n",
    "- Solución\n",
    "\n",
    "        Para la alineación básica de cadenas, los métodos de cadenas ljust (), rjust () y center() puede ser usado.  \n",
    "        \n",
    "Por ejemplo:"
   ]
  },
  {
   "cell_type": "code",
   "execution_count": 68,
   "metadata": {},
   "outputs": [],
   "source": [
    "text = 'Hello World'"
   ]
  },
  {
   "cell_type": "code",
   "execution_count": 69,
   "metadata": {},
   "outputs": [
    {
     "data": {
      "text/plain": [
       "'Hello World         '"
      ]
     },
     "execution_count": 69,
     "metadata": {},
     "output_type": "execute_result"
    }
   ],
   "source": [
    "text.ljust(20)"
   ]
  },
  {
   "cell_type": "code",
   "execution_count": 70,
   "metadata": {},
   "outputs": [
    {
     "data": {
      "text/plain": [
       "'         Hello World'"
      ]
     },
     "execution_count": 70,
     "metadata": {},
     "output_type": "execute_result"
    }
   ],
   "source": [
    "text.rjust(20)"
   ]
  },
  {
   "cell_type": "code",
   "execution_count": 71,
   "metadata": {},
   "outputs": [
    {
     "data": {
      "text/plain": [
       "'    Hello World     '"
      ]
     },
     "execution_count": 71,
     "metadata": {},
     "output_type": "execute_result"
    }
   ],
   "source": [
    "text.center(20)"
   ]
  },
  {
   "cell_type": "code",
   "execution_count": 72,
   "metadata": {},
   "outputs": [
    {
     "data": {
      "text/plain": [
       "'=========Hello World'"
      ]
     },
     "execution_count": 72,
     "metadata": {},
     "output_type": "execute_result"
    }
   ],
   "source": [
    "text.rjust(20,'=')"
   ]
  },
  {
   "cell_type": "code",
   "execution_count": 11,
   "metadata": {},
   "outputs": [
    {
     "data": {
      "text/plain": [
       "'****Hello World*****'"
      ]
     },
     "execution_count": 11,
     "metadata": {},
     "output_type": "execute_result"
    }
   ],
   "source": [
    "text.center(20,'*')"
   ]
  },
  {
   "cell_type": "markdown",
   "metadata": {},
   "source": [
    "La función format () también se puede utilizar para alinear cosas fácilmente. Todo lo que necesitas hacer es usar los caracteres <,> o ^ junto con el ancho deseado.   \n",
    "Por ejemplo:"
   ]
  },
  {
   "cell_type": "code",
   "execution_count": 73,
   "metadata": {},
   "outputs": [
    {
     "data": {
      "text/plain": [
       "'=========Hello World'"
      ]
     },
     "execution_count": 73,
     "metadata": {},
     "output_type": "execute_result"
    }
   ],
   "source": [
    "format(text, '=>20s')"
   ]
  },
  {
   "cell_type": "code",
   "execution_count": 74,
   "metadata": {},
   "outputs": [
    {
     "data": {
      "text/plain": [
       "'****Hello World*****'"
      ]
     },
     "execution_count": 74,
     "metadata": {},
     "output_type": "execute_result"
    }
   ],
   "source": [
    "format(text, '*^20s')"
   ]
  },
  {
   "cell_type": "code",
   "execution_count": 75,
   "metadata": {},
   "outputs": [
    {
     "data": {
      "text/plain": [
       "'     Hello      World'"
      ]
     },
     "execution_count": 75,
     "metadata": {},
     "output_type": "execute_result"
    }
   ],
   "source": [
    "'{:>10s} {:>10s}'.format('Hello', 'World')"
   ]
  },
  {
   "cell_type": "code",
   "execution_count": 76,
   "metadata": {},
   "outputs": [
    {
     "data": {
      "text/plain": [
       "'    1.2345'"
      ]
     },
     "execution_count": 76,
     "metadata": {},
     "output_type": "execute_result"
    }
   ],
   "source": [
    "x = 1.2345\n",
    "format(x, '>10')"
   ]
  },
  {
   "cell_type": "code",
   "execution_count": 77,
   "metadata": {},
   "outputs": [
    {
     "data": {
      "text/plain": [
       "'   1.23   '"
      ]
     },
     "execution_count": 77,
     "metadata": {},
     "output_type": "execute_result"
    }
   ],
   "source": [
    "format(x, '^10.2f')"
   ]
  },
  {
   "cell_type": "code",
   "execution_count": null,
   "metadata": {},
   "outputs": [],
   "source": []
  }
 ],
 "metadata": {
  "kernelspec": {
   "display_name": "Py310",
   "language": "python",
   "name": "py310"
  },
  "language_info": {
   "codemirror_mode": {
    "name": "ipython",
    "version": 3
   },
   "file_extension": ".py",
   "mimetype": "text/x-python",
   "name": "python",
   "nbconvert_exporter": "python",
   "pygments_lexer": "ipython3",
   "version": "3.10.9"
  }
 },
 "nbformat": 4,
 "nbformat_minor": 4
}
