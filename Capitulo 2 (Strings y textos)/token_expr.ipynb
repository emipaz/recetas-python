{
 "cells": [
  {
   "cell_type": "code",
   "execution_count": 1,
   "metadata": {},
   "outputs": [],
   "source": [
    "def token_expr(text, esp = False):\n",
    "    \"\"\"\n",
    "    Analiza una cadena de texto y extrae diferentes tipos de tokens utilizando expresiones regulares.\n",
    "\n",
    "    Los tokens que se pueden extraer incluyen:\n",
    "    - Variables\n",
    "    - Operadores aritméticos (+, -, *, /, //, %, **)\n",
    "    - Comparaciones (==, !=, <, <=, >, >=)\n",
    "    - Números enteros y flotantes\n",
    "    - Paréntesis\n",
    "    - Espacios en blanco (opcional)\n",
    "\n",
    "    Parámetros:\n",
    "    text (str): La cadena de texto a analizar.\n",
    "    esp (bool): Si es True, incluye los espacios en blanco en los resultados. \n",
    "    Si es False (por defecto), los espacios se excluyen.\n",
    "\n",
    "    Retorna:\n",
    "    list: Una lista de tuplas donde cada tupla contiene el tipo de token y su valor correspondiente.\n",
    "          Si esp es False, los tokens de tipo \"Espacio\" se excluyen de la lista.\n",
    "    \"\"\"    \n",
    "    import re\n",
    "    p1 = r'(?P<Variable>[a-zA-Z_][a-zA-Z_0-9]*)' \n",
    "    p2 = r'(?P<Igual>=)'\n",
    "    p3 = r'(?P<Suma>\\+)'\n",
    "    p4 = r'(?P<Mulpiplicacion>\\*)'\n",
    "    p5 = r'(?P<Resta>-)'\n",
    "    p6 = r'(?P<Division_exacta>\\//)'\n",
    "    p7 = r'(?P<Modulo>%)'\n",
    "    p8 = r'(?P<Division>\\/)'\n",
    "    p9 = r'(?P<float>(\\d+[.]\\d+|[.]\\d+|\\d+[.]))\\s*'\n",
    "    p0 = r'(?P<int>(\\d+\\s*$|\\d+\\s*))'\n",
    "    p  = r'(?P<Espacio>\\s+)'\n",
    "    pp = r'(?P<Potencia>\\*\\*)'\n",
    "    LT = r'(?P<Menor><)'\n",
    "    LE = r'(?P<Menor_Igual><=)'\n",
    "    GT = r'(?P<Mayor>>)'\n",
    "    GE = r'(?P<Mayor_Igual>>=)'\n",
    "    LP = r'(?P<Parentesis_izq>\\()'\n",
    "    RP = r'(?P<Parentesis_der>\\))'\n",
    "    DS = r'(?P<Distinto>!=)'\n",
    "    EX = r'(?P<Exacto>==)'\n",
    "    master_pat = re.compile('|'.join([EX,LE,GE,LT,GT,DS,pp,p1,p2,p3,p4,p5,p6,p7,p8,p9,p0,p,LP,RP]))\n",
    "    bus        = master_pat.scanner(text)\n",
    "    if esp:\n",
    "        return [(i.lastgroup,i.group().strip()) for i in iter(bus.search,None)]\n",
    "                \n",
    "    return [(i.lastgroup,i.group().strip()) for i in iter(bus.search,None)\n",
    "           if i.lastgroup != \"espacio\"]"
   ]
  },
  {
   "cell_type": "markdown",
   "metadata": {},
   "source": [
    "En el contexto del módulo re de Python, que se utiliza para trabajar con expresiones regulares, los métodos scanner y search tienen funciones distintas pero relacionadas.\n",
    "\n",
    "- scanner\n",
    "  - Descripción: \n",
    "    \n",
    "    El método scanner crea un objeto escáner que permite realizar búsquedas de coincidencias en un texto utilizando un patrón de expresión regular. Este objeto escáner se puede utilizar para iterar sobre las coincidencias encontradas en el texto.\n",
    "\n",
    "\n",
    "  - Uso: \n",
    "    \n",
    "    Al llamar a `master_pat.scanner(text)`, donde master_pat es un patrón de expresión regular compilado, se genera un objeto escáner que puede buscar coincidencias en la cadena text.\n",
    "\n",
    "\n",
    "  - Ventajas: \n",
    "    \n",
    "    Utilizar un escáner es eficiente cuando se necesita realizar múltiples búsquedas en el mismo texto, ya que el escáner mantiene el estado entre las búsquedas.\n",
    "\n",
    "\n",
    "- search\n",
    "\n",
    "  - Descripción: \n",
    "    \n",
    "    El método search busca la primera coincidencia del patrón en el texto. Devuelve un objeto de coincidencia (match object) si encuentra una coincidencia, o None si no hay coincidencias.\n",
    "\n",
    "\n",
    "  - Uso: \n",
    "    \n",
    "    En el contexto de un escáner, `bus.search()` se utiliza para buscar la próxima coincidencia en el texto que está siendo analizado. El escáner devuelve un objeto de coincidencia cada vez que se llama a search.\n",
    "\n",
    "\n",
    "  - Iteración: \n",
    "    \n",
    "    En el código, se utiliza `iter(bus.search, None)` para crear un iterador que continuará llamando a search hasta que no se encuentren más coincidencias (cuando search devuelve None).\n",
    "\n",
    "\n",
    "- Resumen de su uso en el código\n",
    "\n",
    "    Se crea un escáner con master_pat.scanner(text), que permite buscar coincidencias en text utilizando el patrón master_pat.\n",
    "    Luego, se utiliza bus.search() en un bucle para encontrar todas las coincidencias en el texto.\n",
    "    Cada coincidencia se procesa y se almacena en una lista, que se devuelve al final de la función.\n",
    "    \n",
    "    Scaner permite una búsqueda eficiente y continua en el texto, mientras que search se utiliza para encontrar coincidencias específicas dentro de ese texto."
   ]
  },
  {
   "cell_type": "code",
   "execution_count": 2,
   "metadata": {},
   "outputs": [
    {
     "name": "stdout",
     "output_type": "stream",
     "text": [
      "('Variable', 'hola')\n",
      "('Igual', '=')\n",
      "('int', '12')\n",
      "('Suma', '+')\n",
      "('int', '1')\n",
      "\n",
      "('Variable', 'hola')\n",
      "('Igual', '=')\n",
      "('Parentesis_izq', '(')\n",
      "('int', '12')\n",
      "('Suma', '+')\n",
      "('int', '1')\n",
      "('Parentesis_der', ')')\n",
      "('Espacio', '')\n",
      "('Mulpiplicacion', '*')\n",
      "('Espacio', '')\n",
      "('Variable', 'otra')\n",
      "('Espacio', '')\n",
      "('Potencia', '**')\n",
      "('int', '2')\n",
      "\n",
      "('Variable', 'promedio')\n",
      "('Espacio', '')\n",
      "('Igual', '=')\n",
      "('Espacio', '')\n",
      "('Variable', 'suma')\n",
      "('Espacio', '')\n",
      "('Modulo', '%')\n",
      "('Espacio', '')\n",
      "('Variable', 'longitud')\n",
      "\n",
      "('Parentesis_izq', '(')\n",
      "('int', '12')\n",
      "('Potencia', '**')\n",
      "('float', '0.5')\n",
      "('Parentesis_der', ')')\n",
      "('Espacio', '')\n",
      "('Distinto', '!=')\n",
      "('Espacio', '')\n",
      "('float', '.2')\n",
      "('Resta', '-')\n",
      "('int', '4')\n",
      "\n",
      "('int', '1')\n",
      "('Igual', '=')\n",
      "('Parentesis_izq', '(')\n",
      "('float', '.5')\n",
      "('Parentesis_der', ')')\n",
      "('Suma', '+')\n",
      "('Resta', '-')\n",
      "('Mulpiplicacion', '*')\n",
      "('Division', '/')\n",
      "('Potencia', '**')\n",
      "('Division_exacta', '//')\n",
      "('Mayor', '>')\n",
      "('Menor', '<')\n",
      "('Mayor_Igual', '>=')\n",
      "('Menor_Igual', '<=')\n",
      "('Distinto', '!=')\n",
      "('Exacto', '==')\n",
      "('float', '0.1')\n",
      "('Modulo', '%')\n",
      "('Espacio', '')\n",
      "('float', '8.')\n"
     ]
    }
   ],
   "source": [
    "print(*token_expr(\"hola=12+1\"),sep=\"\\n\")\n",
    "print()\n",
    "print(*token_expr(\"hola=(12+1) * otra **2\"),sep=\"\\n\")\n",
    "print()\n",
    "print(*token_expr(\"promedio = suma % longitud\"),sep=\"\\n\")\n",
    "print()\n",
    "print(*token_expr(\"(12**0.5) != .2-4\"),sep=\"\\n\")\n",
    "print()\n",
    "print(*token_expr(\"1=(.5)+-*/**//><>=<=!===0.1% 8.\"),sep=\"\\n\")"
   ]
  },
  {
   "cell_type": "code",
   "execution_count": 3,
   "metadata": {},
   "outputs": [
    {
     "data": {
      "text/plain": [
       "[('Variable', 'hola'),\n",
       " ('Igual', '='),\n",
       " ('Parentesis_izq', '('),\n",
       " ('int', '12'),\n",
       " ('Suma', '+'),\n",
       " ('int', '1'),\n",
       " ('Parentesis_der', ')'),\n",
       " ('Espacio', ''),\n",
       " ('Mulpiplicacion', '*'),\n",
       " ('Espacio', ''),\n",
       " ('Variable', 'otra'),\n",
       " ('Espacio', ''),\n",
       " ('Potencia', '**'),\n",
       " ('int', '2')]"
      ]
     },
     "execution_count": 3,
     "metadata": {},
     "output_type": "execute_result"
    }
   ],
   "source": [
    "token_expr(\"hola=(12+1) * otra **2\")"
   ]
  },
  {
   "cell_type": "code",
   "execution_count": 4,
   "metadata": {},
   "outputs": [
    {
     "data": {
      "text/plain": [
       "[('Variable', 'promedio'),\n",
       " ('Espacio', ''),\n",
       " ('Igual', '='),\n",
       " ('Espacio', ''),\n",
       " ('Variable', 'suma'),\n",
       " ('Espacio', ''),\n",
       " ('Modulo', '%'),\n",
       " ('Espacio', ''),\n",
       " ('Variable', 'longitud')]"
      ]
     },
     "execution_count": 4,
     "metadata": {},
     "output_type": "execute_result"
    }
   ],
   "source": [
    "token_expr(\"promedio = suma % longitud\")"
   ]
  },
  {
   "cell_type": "code",
   "execution_count": 5,
   "metadata": {},
   "outputs": [
    {
     "data": {
      "text/plain": [
       "[('Parentesis_izq', '('),\n",
       " ('int', '12'),\n",
       " ('Potencia', '**'),\n",
       " ('float', '0.5'),\n",
       " ('Parentesis_der', ')'),\n",
       " ('Espacio', ''),\n",
       " ('Distinto', '!='),\n",
       " ('Espacio', ''),\n",
       " ('float', '.2'),\n",
       " ('Resta', '-'),\n",
       " ('int', '4')]"
      ]
     },
     "execution_count": 5,
     "metadata": {},
     "output_type": "execute_result"
    }
   ],
   "source": [
    "token_expr(\"(12**0.5) != .2-4\")"
   ]
  },
  {
   "cell_type": "code",
   "execution_count": 6,
   "metadata": {},
   "outputs": [
    {
     "data": {
      "text/plain": [
       "[('int', '1'),\n",
       " ('Igual', '='),\n",
       " ('Parentesis_izq', '('),\n",
       " ('float', '.5'),\n",
       " ('Parentesis_der', ')'),\n",
       " ('Suma', '+'),\n",
       " ('Resta', '-'),\n",
       " ('Mulpiplicacion', '*'),\n",
       " ('Division', '/'),\n",
       " ('Potencia', '**'),\n",
       " ('Division_exacta', '//'),\n",
       " ('Mayor', '>'),\n",
       " ('Menor', '<'),\n",
       " ('Mayor_Igual', '>='),\n",
       " ('Menor_Igual', '<='),\n",
       " ('Distinto', '!='),\n",
       " ('Exacto', '=='),\n",
       " ('float', '0.1'),\n",
       " ('float', '8.')]"
      ]
     },
     "execution_count": 6,
     "metadata": {},
     "output_type": "execute_result"
    }
   ],
   "source": [
    "token_expr(\"1=(.5)+-*/**//><>=<=!===0.1 8.\")"
   ]
  },
  {
   "cell_type": "code",
   "execution_count": null,
   "metadata": {},
   "outputs": [],
   "source": []
  },
  {
   "cell_type": "code",
   "execution_count": null,
   "metadata": {},
   "outputs": [],
   "source": []
  }
 ],
 "metadata": {
  "kernelspec": {
   "display_name": "Py310",
   "language": "python",
   "name": "py310"
  },
  "language_info": {
   "codemirror_mode": {
    "name": "ipython",
    "version": 3
   },
   "file_extension": ".py",
   "mimetype": "text/x-python",
   "name": "python",
   "nbconvert_exporter": "python",
   "pygments_lexer": "ipython3",
   "version": "3.10.9"
  }
 },
 "nbformat": 4,
 "nbformat_minor": 4
}
