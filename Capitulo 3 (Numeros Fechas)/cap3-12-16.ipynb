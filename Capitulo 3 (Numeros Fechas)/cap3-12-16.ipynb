{
 "cells": [
  {
   "cell_type": "markdown",
   "metadata": {},
   "source": [
    "# Conversión de días a segundos y Conversiones básicos a otro tiempo  \n",
    "\n",
    "3.12\n",
    "\n",
    "- Problema\n",
    "        \n",
    "        Tiene un código que necesita realizar conversiones de tiempo simples, como días a segundos, horas a minutos y así sucesivamente.  \n",
    "\n",
    "\n",
    "- Solución\n",
    "        \n",
    "        Para realizar conversiones y aritmética que involucran diferentes unidades de tiempo, use la fecha del módulo datetime. \n",
    "        Por ejemplo, para representar un intervalo de tiempo, cree una instancia timedelta,\n",
    "\n",
    "Me gusta esto:"
   ]
  },
  {
   "cell_type": "code",
   "execution_count": 9,
   "metadata": {},
   "outputs": [],
   "source": [
    "from datetime import timedelta"
   ]
  },
  {
   "cell_type": "code",
   "execution_count": 3,
   "metadata": {},
   "outputs": [
    {
     "data": {
      "text/plain": [
       "datetime.timedelta(days=2, seconds=37800)"
      ]
     },
     "execution_count": 3,
     "metadata": {},
     "output_type": "execute_result"
    }
   ],
   "source": [
    "a = timedelta(days=2, hours=6)\n",
    "b = timedelta(hours=4.5)\n",
    "c = a + b\n",
    "c"
   ]
  },
  {
   "cell_type": "code",
   "execution_count": 4,
   "metadata": {},
   "outputs": [
    {
     "data": {
      "text/plain": [
       "2"
      ]
     },
     "execution_count": 4,
     "metadata": {},
     "output_type": "execute_result"
    }
   ],
   "source": [
    "c.days"
   ]
  },
  {
   "cell_type": "code",
   "execution_count": 5,
   "metadata": {},
   "outputs": [
    {
     "data": {
      "text/plain": [
       "210600.0"
      ]
     },
     "execution_count": 5,
     "metadata": {},
     "output_type": "execute_result"
    }
   ],
   "source": [
    "c.total_seconds()"
   ]
  },
  {
   "cell_type": "code",
   "execution_count": 6,
   "metadata": {},
   "outputs": [
    {
     "data": {
      "text/plain": [
       "datetime.timedelta(microseconds=1)"
      ]
     },
     "execution_count": 6,
     "metadata": {},
     "output_type": "execute_result"
    }
   ],
   "source": [
    "c.resolution"
   ]
  },
  {
   "cell_type": "code",
   "execution_count": 7,
   "metadata": {},
   "outputs": [
    {
     "data": {
      "text/plain": [
       "10.5"
      ]
     },
     "execution_count": 7,
     "metadata": {},
     "output_type": "execute_result"
    }
   ],
   "source": [
    "c.seconds / 3600"
   ]
  },
  {
   "cell_type": "code",
   "execution_count": 8,
   "metadata": {},
   "outputs": [
    {
     "data": {
      "text/plain": [
       "58.5"
      ]
     },
     "execution_count": 8,
     "metadata": {},
     "output_type": "execute_result"
    }
   ],
   "source": [
    "c.total_seconds() / 3600"
   ]
  },
  {
   "cell_type": "markdown",
   "metadata": {},
   "source": [
    "Si necesita representar fechas y horas específicas, cree instancias de fecha y hora y use el operaciones matemáticas estándar para manipularlas.   \n",
    "Por ejemplo:"
   ]
  },
  {
   "cell_type": "code",
   "execution_count": 9,
   "metadata": {},
   "outputs": [],
   "source": [
    "from datetime import datetime"
   ]
  },
  {
   "cell_type": "code",
   "execution_count": 10,
   "metadata": {},
   "outputs": [
    {
     "name": "stdout",
     "output_type": "stream",
     "text": [
      "2012-10-03 00:00:00\n"
     ]
    }
   ],
   "source": [
    "a = datetime(2012, 9, 23)\n",
    "print(a + timedelta(days=10))"
   ]
  },
  {
   "cell_type": "code",
   "execution_count": 11,
   "metadata": {},
   "outputs": [
    {
     "data": {
      "text/plain": [
       "89"
      ]
     },
     "execution_count": 11,
     "metadata": {},
     "output_type": "execute_result"
    }
   ],
   "source": [
    "b = datetime(2012, 12, 21)\n",
    "d = b - a\n",
    "d.days"
   ]
  },
  {
   "cell_type": "code",
   "execution_count": 12,
   "metadata": {},
   "outputs": [
    {
     "name": "stdout",
     "output_type": "stream",
     "text": [
      "2025-03-23 15:03:48.990620\n"
     ]
    }
   ],
   "source": [
    "now = datetime.today()\n",
    "print(now)"
   ]
  },
  {
   "cell_type": "markdown",
   "metadata": {},
   "source": [
    "Al hacer cálculos, debe tenerse en cuenta que datetime es consciente de los años bisiestos.   \n",
    "por ejemplo:"
   ]
  },
  {
   "cell_type": "code",
   "execution_count": 13,
   "metadata": {},
   "outputs": [
    {
     "data": {
      "text/plain": [
       "datetime.timedelta(days=2)"
      ]
     },
     "execution_count": 13,
     "metadata": {},
     "output_type": "execute_result"
    }
   ],
   "source": [
    "a = datetime(2012,3,1)\n",
    "b = datetime(2012,2,28)\n",
    "a - b"
   ]
  },
  {
   "cell_type": "code",
   "execution_count": 14,
   "metadata": {},
   "outputs": [
    {
     "data": {
      "text/plain": [
       "datetime.timedelta(days=1)"
      ]
     },
     "execution_count": 14,
     "metadata": {},
     "output_type": "execute_result"
    }
   ],
   "source": [
    "a = datetime(2013,3,1)\n",
    "b = datetime(2013,2,28)\n",
    "a - b"
   ]
  },
  {
   "cell_type": "markdown",
   "metadata": {},
   "source": [
    "Para la mayoría de los problemas básicos de manipulación de fecha y hora, el módulo datetime será suficiente.\n",
    "Si necesita realizar manipulaciones de fechas más complejas, como lidiar con el tiempo\n",
    "zonas, rangos de tiempo difusos, calcular las fechas de vacaciones, etc., mire el\n",
    "módulo dateutil.  \n",
    "\n",
    "Para ilustrar, se pueden realizar muchos cálculos de tiempo similares con dateutil.rel\n",
    "ativedelta(). Sin embargo, una característica notable es que llena algunos vacíos por\n",
    "al manejo de meses (y su diferente número de días).   \n",
    "Por ejemplo:"
   ]
  },
  {
   "cell_type": "code",
   "execution_count": 15,
   "metadata": {},
   "outputs": [
    {
     "ename": "TypeError",
     "evalue": "'months' is an invalid keyword argument for __new__()",
     "output_type": "error",
     "traceback": [
      "\u001b[0;31m---------------------------------------------------------------------------\u001b[0m",
      "\u001b[0;31mTypeError\u001b[0m                                 Traceback (most recent call last)",
      "Cell \u001b[0;32mIn[15], line 2\u001b[0m\n\u001b[1;32m      1\u001b[0m a \u001b[38;5;241m=\u001b[39m datetime(\u001b[38;5;241m2012\u001b[39m, \u001b[38;5;241m9\u001b[39m, \u001b[38;5;241m23\u001b[39m)\n\u001b[0;32m----> 2\u001b[0m a \u001b[38;5;241m+\u001b[39m \u001b[43mtimedelta\u001b[49m\u001b[43m(\u001b[49m\u001b[43mmonths\u001b[49m\u001b[38;5;241;43m=\u001b[39;49m\u001b[38;5;241;43m1\u001b[39;49m\u001b[43m)\u001b[49m\n",
      "\u001b[0;31mTypeError\u001b[0m: 'months' is an invalid keyword argument for __new__()"
     ]
    }
   ],
   "source": [
    "a = datetime(2012, 9, 23)\n",
    "a + timedelta(months=1)"
   ]
  },
  {
   "cell_type": "code",
   "execution_count": 16,
   "metadata": {},
   "outputs": [],
   "source": [
    "from dateutil.relativedelta import relativedelta"
   ]
  },
  {
   "cell_type": "code",
   "execution_count": 17,
   "metadata": {},
   "outputs": [
    {
     "data": {
      "text/plain": [
       "datetime.datetime(2012, 10, 23, 0, 0)"
      ]
     },
     "execution_count": 17,
     "metadata": {},
     "output_type": "execute_result"
    }
   ],
   "source": [
    "a + relativedelta(months=+1)"
   ]
  },
  {
   "cell_type": "code",
   "execution_count": 18,
   "metadata": {},
   "outputs": [
    {
     "data": {
      "text/plain": [
       "datetime.datetime(2013, 1, 23, 0, 0)"
      ]
     },
     "execution_count": 18,
     "metadata": {},
     "output_type": "execute_result"
    }
   ],
   "source": [
    "a + relativedelta(months=+4)"
   ]
  },
  {
   "cell_type": "code",
   "execution_count": 19,
   "metadata": {},
   "outputs": [
    {
     "data": {
      "text/plain": [
       "datetime.timedelta(days=89)"
      ]
     },
     "execution_count": 19,
     "metadata": {},
     "output_type": "execute_result"
    }
   ],
   "source": [
    "b = datetime(2012, 12, 21)\n",
    "d = b - a\n",
    "d"
   ]
  },
  {
   "cell_type": "code",
   "execution_count": 20,
   "metadata": {},
   "outputs": [
    {
     "data": {
      "text/plain": [
       "relativedelta(months=+2, days=+28)"
      ]
     },
     "execution_count": 20,
     "metadata": {},
     "output_type": "execute_result"
    }
   ],
   "source": [
    "d = relativedelta(b, a)\n",
    "d"
   ]
  },
  {
   "cell_type": "code",
   "execution_count": 21,
   "metadata": {},
   "outputs": [
    {
     "data": {
      "text/plain": [
       "2"
      ]
     },
     "execution_count": 21,
     "metadata": {},
     "output_type": "execute_result"
    }
   ],
   "source": [
    "d.months"
   ]
  },
  {
   "cell_type": "code",
   "execution_count": 22,
   "metadata": {},
   "outputs": [
    {
     "data": {
      "text/plain": [
       "28"
      ]
     },
     "execution_count": 22,
     "metadata": {},
     "output_type": "execute_result"
    }
   ],
   "source": [
    "d.days"
   ]
  },
  {
   "cell_type": "markdown",
   "metadata": {},
   "source": []
  },
  {
   "cell_type": "markdown",
   "metadata": {},
   "source": [
    "# Determinando la fecha del último viernes\n",
    "\n",
    "3.13\n",
    "\n",
    "- Problema\n",
    "        \n",
    "        Desea una solución general para encontrar una fecha para la última ocurrencia de un día del semana. El viernes pasado, por ejemplo.  \n",
    "        \n",
    "        \n",
    "- Solución\n",
    "        \n",
    "        El módulo de datetime de Python tiene funciones y clases de utilidad para ayudar a realizar cálculos. Me gusta esto. Una solución genérica y decente para este problema se ve así:"
   ]
  },
  {
   "cell_type": "code",
   "execution_count": 23,
   "metadata": {},
   "outputs": [],
   "source": [
    "from datetime import datetime, timedelta"
   ]
  },
  {
   "cell_type": "code",
   "execution_count": 24,
   "metadata": {},
   "outputs": [],
   "source": [
    "weekdays = ['Monday', 'Tuesday', 'Wednesday', 'Thursday',\n",
    "'Friday', 'Saturday', 'Sunday']"
   ]
  },
  {
   "cell_type": "code",
   "execution_count": 25,
   "metadata": {},
   "outputs": [],
   "source": [
    "def get_previous_byday(dayname, start_date = None):\n",
    "    if start_date is None:\n",
    "        start_date = datetime.today()\n",
    "    day_num = start_date.weekday()\n",
    "    day_num_target = weekdays.index(dayname)\n",
    "    days_ago = (7 + day_num - day_num_target) % 7\n",
    "    if days_ago == 0:\n",
    "        days_ago = 7\n",
    "    target_date = start_date - timedelta(days=days_ago)\n",
    "    return target_date"
   ]
  },
  {
   "cell_type": "code",
   "execution_count": 26,
   "metadata": {},
   "outputs": [
    {
     "data": {
      "text/plain": [
       "datetime.datetime(2025, 3, 23, 15, 7, 35, 801169)"
      ]
     },
     "execution_count": 26,
     "metadata": {},
     "output_type": "execute_result"
    }
   ],
   "source": [
    "datetime.today()"
   ]
  },
  {
   "cell_type": "code",
   "execution_count": 28,
   "metadata": {},
   "outputs": [
    {
     "data": {
      "text/plain": [
       "datetime.datetime(2025, 3, 21, 15, 8, 38, 192958)"
      ]
     },
     "execution_count": 28,
     "metadata": {},
     "output_type": "execute_result"
    }
   ],
   "source": [
    "get_previous_byday('Friday')"
   ]
  },
  {
   "cell_type": "code",
   "execution_count": 29,
   "metadata": {},
   "outputs": [],
   "source": [
    "dias = \"Lunes Martes Miercoles Jueves Viernes Sabado Domingo\""
   ]
  },
  {
   "cell_type": "code",
   "execution_count": 30,
   "metadata": {},
   "outputs": [],
   "source": [
    "def fecha_del_ultmimo(dia, fecha_inicio = None):\n",
    "    dias = \"Lunes Martes Miercoles Jueves Viernes Sabado Domingo\".split()\n",
    "    if fecha_inicio is None:\n",
    "        fecha_inicio = datetime.today()\n",
    "    num_dia    = fecha_inicio.weekday()\n",
    "    dia_index  = dias.index(dia)\n",
    "    dia_numero = (7 + num_dia - dia_index) % 7\n",
    "    if  dia_numero == 0:\n",
    "        dia_numero = 7\n",
    "    target_date = fecha_inicio - timedelta(days=dia_numero)\n",
    "    return target_date.strftime(\"%d/%m/%Y\")"
   ]
  },
  {
   "cell_type": "code",
   "execution_count": 32,
   "metadata": {},
   "outputs": [
    {
     "data": {
      "text/plain": [
       "'21/03/2025'"
      ]
     },
     "execution_count": 32,
     "metadata": {},
     "output_type": "execute_result"
    }
   ],
   "source": [
    "fecha_del_ultmimo(\"Viernes\")"
   ]
  },
  {
   "cell_type": "markdown",
   "metadata": {},
   "source": [
    "Esta receta funciona mapeando la fecha de inicio y la fecha objetivo a su posición numérica en la semana (con el lunes como día 0). Luego se usa aritmética modular para averiguar cómo hace cuanto se produjo la última fecha prevista. A partir de ahí, se calcula la fecha deseada.\n",
    "De la fecha de inicio restando una instancia de timedelta apropiada.\n",
    "Si está realizando muchos cálculos de fechas como este, es mejor que instale\n",
    "en su lugar, el paquete python-dateutil.   \n",
    "Por ejemplo, aquí hay un ejemplo de cómo realizar el mismo cálculo usando la función relativadelta () de dateutil:"
   ]
  },
  {
   "cell_type": "code",
   "execution_count": 33,
   "metadata": {},
   "outputs": [
    {
     "name": "stdout",
     "output_type": "stream",
     "text": [
      "2025-03-23 15:09:52.504911\n"
     ]
    }
   ],
   "source": [
    "from datetime import datetime\n",
    "from dateutil.relativedelta import relativedelta\n",
    "from dateutil.rrule import *\n",
    "d = datetime.now()\n",
    "print(d)"
   ]
  },
  {
   "cell_type": "code",
   "execution_count": 34,
   "metadata": {},
   "outputs": [
    {
     "name": "stdout",
     "output_type": "stream",
     "text": [
      "2025-03-29 15:09:52.504911\n"
     ]
    }
   ],
   "source": [
    "print(d + relativedelta(weekday=SA))  # MO TU WE TH FR SA SU -lunes a domingo"
   ]
  },
  {
   "cell_type": "code",
   "execution_count": 35,
   "metadata": {},
   "outputs": [
    {
     "data": {
      "text/plain": [
       "'29/03/2025'"
      ]
     },
     "execution_count": 35,
     "metadata": {},
     "output_type": "execute_result"
    }
   ],
   "source": [
    "(d + relativedelta(weekday=SA)).strftime(\"%d/%m/%Y\")"
   ]
  },
  {
   "cell_type": "code",
   "execution_count": 36,
   "metadata": {},
   "outputs": [
    {
     "name": "stdout",
     "output_type": "stream",
     "text": [
      "['DAILY', 'FR', 'FREQNAMES', 'HOURLY', 'M365MASK', 'M365RANGE', 'M366MASK', 'M366RANGE', 'MDAY365MASK', 'MDAY366MASK', 'MINUTELY', 'MO', 'MONTHLY', 'NMDAY365MASK', 'NMDAY366MASK', 'SA', 'SECONDLY', 'SU', 'TH', 'TU', 'WDAYMASK', 'WE', 'WEEKLY', 'YEARLY', '__all__', '__builtins__', '__cached__', '__doc__', '__file__', '__loader__', '__name__', '__package__', '__spec__', '_invalidates_cache', '_iterinfo', '_rrulestr', '_thread', 'advance_iterator', 'calendar', 'datetime', 'easter', 'gcd', 'heapq', 'integer_types', 'itertools', 'parser', 'range', 're', 'rrule', 'rrulebase', 'rruleset', 'rrulestr', 'sys', 'warn', 'weekday', 'weekdaybase', 'weekdays', 'wraps']\n"
     ]
    }
   ],
   "source": [
    "import dateutil\n",
    "print(dir(dateutil.rrule))"
   ]
  },
  {
   "cell_type": "markdown",
   "metadata": {},
   "source": [
    "# Encontrar el rango de fechas para el mes actual\n",
    "\n",
    "3.14\n",
    "\n",
    "- Problema\n",
    "        \n",
    "        Tiene un código que necesita recorrer cada fecha en el mes actual, y quiere una forma eficaz de calcular ese intervalo de fechas.  \n",
    "        \n",
    "        \n",
    "- Solución\n",
    "        \n",
    "        Recorrer las fechas no requiere crear una lista de todas las fechas con anticipación. usted puede simplemente calcular la fecha de inicio y finalización en el rango, luego usar datetime.time para incrementar la fecha a medida que avanza.\n",
    "        Aquí hay una función que toma cualquier objeto de detetime y devuelve una tupla que contiene el primer fecha del mes y fecha de inicio del mes siguiente:"
   ]
  },
  {
   "cell_type": "code",
   "execution_count": 37,
   "metadata": {},
   "outputs": [],
   "source": [
    "from datetime import datetime, date, timedelta\n",
    "import calendar"
   ]
  },
  {
   "cell_type": "code",
   "execution_count": 38,
   "metadata": {},
   "outputs": [
    {
     "data": {
      "text/plain": [
       "datetime.date(1, 3, 23)"
      ]
     },
     "execution_count": 38,
     "metadata": {},
     "output_type": "execute_result"
    }
   ],
   "source": [
    "date.today().replace(year = 1)"
   ]
  },
  {
   "cell_type": "code",
   "execution_count": 39,
   "metadata": {},
   "outputs": [
    {
     "data": {
      "text/plain": [
       "(0, 28)"
      ]
     },
     "execution_count": 39,
     "metadata": {},
     "output_type": "execute_result"
    }
   ],
   "source": [
    "calendar.monthrange(2021,2)"
   ]
  },
  {
   "cell_type": "code",
   "execution_count": 40,
   "metadata": {},
   "outputs": [],
   "source": [
    "def rango_mes(fecha_inicio = None):\n",
    "    if fecha_inicio is None:\n",
    "        fecha_inicio = date.today().replace(day = 1)\n",
    "    else:\n",
    "        try:\n",
    "            fecha_inicio = datetime(*fecha_inicio)\n",
    "        except:\n",
    "            print(\"fecha incorrecta\")\n",
    "    dias = calendar.monthrange(fecha_inicio.year, fecha_inicio.month)[1]\n",
    "    fin_fecha = fecha_inicio + timedelta(days=dias)\n",
    "    return (fecha_inicio, fin_fecha)"
   ]
  },
  {
   "cell_type": "code",
   "execution_count": 46,
   "metadata": {},
   "outputs": [
    {
     "name": "stdout",
     "output_type": "stream",
     "text": [
      "24/03/2025\n",
      "31/03/2025\n",
      "07/04/2025\n",
      "14/04/2025\n",
      "21/04/2025\n"
     ]
    }
   ],
   "source": [
    "a_day = timedelta(days=7 )\n",
    "first_day, last_day =rango_mes((2025,3,24))\n",
    "while first_day < last_day:\n",
    "    print(first_day.strftime(\"%d/%m/%Y\"))\n",
    "    first_day += a_day"
   ]
  },
  {
   "cell_type": "markdown",
   "metadata": {},
   "source": [
    "Esta receta funciona calculando primero una fecha correspondiente al primer día del mes.\n",
    "Una forma rápida de hacer esto es usar el método replace () de un objeto date o datetime para simplemente establezca el atributo days en 1. Una cosa buena sobre el método replace () es que crea el mismo tipo de objeto con el que empezó. Por tanto, si la entrada fuera una fecha ejemplo, el resultado es una fecha. Del mismo modo, si la entrada era una instancia de fecha y hora, obtiene un instancia de fecha y hora.  \n",
    "\n",
    "Después de eso, la función calendar.monthrange () se usa para averiguar cuántos días son\n",
    "en el mes en cuestión.  \n",
    "\n",
    "Siempre que necesite obtener información básica sobre calendarios,\n",
    "el módulo de calendario puede resultar útil. monthrange () es solo una de esas funciones que devuelve una tupla que contiene el día de la semana junto con el número de días del mes. \n",
    "\n",
    "Una vez que se conoce el número de días del mes, la fecha de finalización se calcula agregando un timedelta apropiado a la fecha de inicio. Es sutil, pero un aspecto importante de esto receta es que la fecha de finalización no debe incluirse en el rango (en realidad es la primera día del mes siguiente). Esto refleja el comportamiento de los cortes de Python y el metodo range, que tampoco incluyen nunca el punto final.  \n",
    "\n",
    "Para recorrer el rango de fechas, se utilizan operadores matemáticos y de comparación estándar.  \n",
    "Por ejemplo, las instancias de timedelta se pueden utilizar para incrementar la fecha. Se utiliza el operador < para comprobar si una fecha es anterior a la fecha de finalización."
   ]
  },
  {
   "cell_type": "markdown",
   "metadata": {},
   "source": [
    "Idealmente, sería bueno crear una función que funcione como la función incorporada range (), pero para las fechas. Afortunadamente, esto es extremadamente fácil de implementar usando un generador:"
   ]
  },
  {
   "cell_type": "code",
   "execution_count": 47,
   "metadata": {},
   "outputs": [],
   "source": [
    "def date_range(start, stop, step):\n",
    "    while start < stop:\n",
    "        yield start\n",
    "        start += step"
   ]
  },
  {
   "cell_type": "code",
   "execution_count": 48,
   "metadata": {},
   "outputs": [
    {
     "name": "stdout",
     "output_type": "stream",
     "text": [
      "01/09/2012 00:00\n",
      "01/09/2012 06:00\n",
      "01/09/2012 12:00\n",
      "01/09/2012 18:00\n",
      "02/09/2012 00:00\n",
      "02/09/2012 06:00\n",
      "02/09/2012 12:00\n",
      "02/09/2012 18:00\n",
      "03/09/2012 00:00\n",
      "03/09/2012 06:00\n",
      "03/09/2012 12:00\n",
      "03/09/2012 18:00\n"
     ]
    }
   ],
   "source": [
    "for d in date_range(datetime(2012, 9, 1), datetime(2012,9,3,22,0), timedelta(hours=6)):\n",
    "    print(d.strftime(\"%d/%m/%Y %H:%M\"))"
   ]
  },
  {
   "cell_type": "markdown",
   "metadata": {},
   "source": [
    "# Conversión de cadenas en fechas y horas\n",
    "\n",
    "3.15\n",
    "\n",
    "- Problema\n",
    "        Su aplicación recibe datos temporales en formato de cadena, pero desea convertirlos cadenas en objetos de fecha y hora para realizar operaciones que no sean cadenas en ellos.    \n",
    "        \n",
    "        \n",
    "- Solución\n",
    "        El módulo de datetime estándar de Python suele ser la solución fácil para esto.  \n",
    "        \n",
    "Por ejemplo:"
   ]
  },
  {
   "cell_type": "code",
   "execution_count": 49,
   "metadata": {},
   "outputs": [
    {
     "data": {
      "text/plain": [
       "datetime.timedelta(days=4567, seconds=55162, microseconds=563872)"
      ]
     },
     "execution_count": 49,
     "metadata": {},
     "output_type": "execute_result"
    }
   ],
   "source": [
    "from datetime import datetime\n",
    "text = '2012-09-20'\n",
    "y = datetime.strptime(text, '%Y-%m-%d')\n",
    "z = datetime.now()\n",
    "diff = z - y\n",
    "diff"
   ]
  },
  {
   "cell_type": "markdown",
   "metadata": {},
   "source": [
    "El método datetime.strptime () admite una gran cantidad de códigos de formato, como `%Y` para año de cuatro dígitos y %m para el mes de dos dígitos. También vale la pena señalar que estos marcadores de posición de formato también funcionan a la inversa, en caso de que necesite representar un objeto de fecha y hora en la salida de cadena y hacer que se vea bien.  \n",
    "\n",
    "Por ejemplo, supongamos que tiene un código que genera un objeto de fecha y hora, pero necesita formatear una fecha agradable y legible por humanos para colocarla en el encabezado de una carta generada automáticamente o informe:"
   ]
  },
  {
   "cell_type": "code",
   "execution_count": 50,
   "metadata": {},
   "outputs": [
    {
     "data": {
      "text/plain": [
       "'Sunday March 23, 2025'"
      ]
     },
     "execution_count": 50,
     "metadata": {},
     "output_type": "execute_result"
    }
   ],
   "source": [
    "datetime(2012, 9, 23, 21, 37, 4, 177393)\n",
    "nice_z = datetime.strftime(z, '%A %B %d, %Y')\n",
    "nice_z"
   ]
  },
  {
   "cell_type": "markdown",
   "metadata": {},
   "source": [
    "Vale la pena señalar que el rendimiento de strptime () suele ser mucho peor que el tuyo\n",
    "podría esperar, debido al hecho de que está escrito en Python puro y tiene que lidiar con todos tipos de configuraciones regionales del sistema. Si está analizando muchas fechas en su código y conoce el formato preciso, probablemente obtendrá un rendimiento mucho mejor cocinando en su lugar, cree una solución personalizada. Por ejemplo, si supiera que las fechas eran de la forma \"AAAA-MM-DD\", podría escribir una función como esta:\n",
    "\n",
    "```python\n",
    "    from datetime import datetime\n",
    "    def parse_ymd(s):\n",
    "        year_s, mon_s, day_s = s.split('-')\n",
    "        return datetime(int(year_s), int(mon_s), int(day_s))\n",
    "```\n",
    "Cuando se prueba, esta función se ejecuta siete veces más rápido que datetime.strptime ().\n",
    "Probablemente esto sea algo a considerar si está procesando grandes cantidades de datos wue involucren fechas."
   ]
  },
  {
   "cell_type": "markdown",
   "metadata": {},
   "source": [
    "# Manipulación de fechas que involucran zonas horarias\n",
    "\n",
    "3.16\n",
    "\n",
    "- Problema\n",
    "        \n",
    "        Tenía una conferencia telefónica programada para el 21 de diciembre de 2012 a las 9:30 a.m. en Chicago.¿A qué hora local tenía que presentarse su amigo en Bangalore, India para asistir?  \n",
    "        \n",
    "        \n",
    "- Solución\n",
    "        \n",
    "        Para casi cualquier problema que involucre zonas horarias, debe usar el módulo pytz. Este paquete proporciona la base de datos de zona horaria de Olson, que es el estándar de facto para el información de zona que se encuentra en muchos idiomas y sistemas operativos.\n",
    "        Un uso importante de pytz es la localización de fechas simples creadas con la biblioteca datetime.  \n",
    "        \n",
    "Por ejemplo, así es como representaría una fecha en la hora de Chicago:"
   ]
  },
  {
   "cell_type": "code",
   "execution_count": 2,
   "metadata": {},
   "outputs": [],
   "source": [
    "from datetime import datetime\n",
    "from pytz import timezone"
   ]
  },
  {
   "cell_type": "code",
   "execution_count": 3,
   "metadata": {},
   "outputs": [
    {
     "name": "stdout",
     "output_type": "stream",
     "text": [
      "2012-12-21 09:30:00\n"
     ]
    }
   ],
   "source": [
    "d = datetime(2012, 12, 21, 9, 30, 0)\n",
    "print(d)"
   ]
  },
  {
   "cell_type": "code",
   "execution_count": 4,
   "metadata": {},
   "outputs": [
    {
     "name": "stdout",
     "output_type": "stream",
     "text": [
      "2012-12-21 09:30:00-06:00\n"
     ]
    }
   ],
   "source": [
    "central = timezone('US/Central')\n",
    "loc_d = central.localize(d)\n",
    "print(loc_d)"
   ]
  },
  {
   "cell_type": "code",
   "execution_count": 5,
   "metadata": {},
   "outputs": [
    {
     "name": "stdout",
     "output_type": "stream",
     "text": [
      "2025-03-23 15:23:47.655645-03:00\n"
     ]
    }
   ],
   "source": [
    "d=datetime.now()\n",
    "Buenos_aires = timezone('America/Argentina/Buenos_Aires')\n",
    "loc_d = Buenos_aires.localize(d)\n",
    "print(loc_d)"
   ]
  },
  {
   "cell_type": "markdown",
   "metadata": {},
   "source": [
    "Una vez que se ha localizado la fecha, se puede convertir a otras zonas horarias. Para encontrar el Al mismo tiempo en Bangalore, harías esto:"
   ]
  },
  {
   "cell_type": "code",
   "execution_count": 6,
   "metadata": {},
   "outputs": [
    {
     "name": "stdout",
     "output_type": "stream",
     "text": [
      "2025-03-23 23:53:47.655645+05:30\n"
     ]
    }
   ],
   "source": [
    "bang_d = loc_d.astimezone(timezone('Asia/Kolkata'))\n",
    "print(bang_d)"
   ]
  },
  {
   "cell_type": "markdown",
   "metadata": {},
   "source": [
    "Si va a realizar aritmética con fechas localizadas, debe ser particularmente\n",
    "consciente de las transiciones de horario de verano y otros detalles. Por ejemplo, en 2013, las normas de EE. UU. El horario de verano comenzó el 13 de marzo a las 2:00 a.m. hora local (en ese momento, la hora se adelantó una hora). Si está realizando aritmética ingenua, se equivocará.   \n",
    "por ejemplo:"
   ]
  },
  {
   "cell_type": "code",
   "execution_count": 7,
   "metadata": {},
   "outputs": [
    {
     "name": "stdout",
     "output_type": "stream",
     "text": [
      "2013-03-10 01:45:00-06:00\n"
     ]
    }
   ],
   "source": [
    "d = datetime(2013, 3, 10, 1, 45)\n",
    "loc_d = central.localize(d)\n",
    "print(loc_d)"
   ]
  },
  {
   "cell_type": "code",
   "execution_count": 10,
   "metadata": {},
   "outputs": [
    {
     "name": "stdout",
     "output_type": "stream",
     "text": [
      "2013-03-10 02:15:00-06:00\n"
     ]
    }
   ],
   "source": [
    "later = loc_d + timedelta(minutes=30)\n",
    "print(later)"
   ]
  },
  {
   "cell_type": "markdown",
   "metadata": {},
   "source": [
    "La respuesta es incorrecta porque no tiene en cuenta el salto de una hora en la hora local.\n",
    "Para solucionar este problema, utilice el método normalize () de la zona horaria. Por ejemplo:"
   ]
  },
  {
   "cell_type": "code",
   "execution_count": 11,
   "metadata": {},
   "outputs": [
    {
     "name": "stdout",
     "output_type": "stream",
     "text": [
      "2013-03-10 03:15:00-05:00\n"
     ]
    }
   ],
   "source": [
    "later = central.normalize(loc_d + timedelta(minutes=30))\n",
    "print(later)"
   ]
  },
  {
   "cell_type": "markdown",
   "metadata": {},
   "source": [
    "Para evitar que su cabeza explote por completo, una estrategia común para la fecha localizada\n",
    "El manejo es convertir todas las fechas a la hora UTC y usar eso para todo el almacenamiento interno y\n",
    "manipulación. Por ejemplo:"
   ]
  },
  {
   "cell_type": "code",
   "execution_count": 12,
   "metadata": {},
   "outputs": [
    {
     "name": "stdout",
     "output_type": "stream",
     "text": [
      "2013-03-10 01:45:00-06:00\n"
     ]
    }
   ],
   "source": [
    "print(loc_d)"
   ]
  },
  {
   "cell_type": "code",
   "execution_count": 14,
   "metadata": {},
   "outputs": [],
   "source": [
    "from pytz import utc"
   ]
  },
  {
   "cell_type": "code",
   "execution_count": 15,
   "metadata": {},
   "outputs": [
    {
     "name": "stdout",
     "output_type": "stream",
     "text": [
      "2013-03-10 07:45:00+00:00\n"
     ]
    }
   ],
   "source": [
    "utc_d = loc_d.astimezone(utc)\n",
    "print(utc_d)"
   ]
  },
  {
   "cell_type": "markdown",
   "metadata": {},
   "source": [
    "Una vez en UTC, no tiene que preocuparse por problemas relacionados con el horario de verano y otros asuntos. Por lo tanto, simplemente puede realizar la aritmética de fechas normal como antes. Debería generar la fecha en la hora localizada, simplemente conviértala a la hora adecuada.  \n",
    "Por ejemplo:"
   ]
  },
  {
   "cell_type": "code",
   "execution_count": 16,
   "metadata": {},
   "outputs": [
    {
     "name": "stdout",
     "output_type": "stream",
     "text": [
      "2013-03-10 05:15:00-03:00\n"
     ]
    }
   ],
   "source": [
    "later_utc = utc_d + timedelta(minutes=30)\n",
    "print(later_utc.astimezone(Buenos_aires))"
   ]
  },
  {
   "cell_type": "markdown",
   "metadata": {},
   "source": [
    "Un problema al trabajar con zonas horarias es simplemente averiguar qué nombres de zona horaria utilizar. Por ejemplo, en esta receta, ¿cómo se supo que \"Asia / Kolkata\" era el nombre correcto de la zona horaria de la India? Para averiguarlo, puede consultar pytz.country_timezones utilizando el código de país ISO 3166 como clave.   \n",
    "Por ejemplo:"
   ]
  },
  {
   "cell_type": "code",
   "execution_count": 17,
   "metadata": {},
   "outputs": [],
   "source": [
    "import pytz"
   ]
  },
  {
   "cell_type": "code",
   "execution_count": 18,
   "metadata": {},
   "outputs": [
    {
     "data": {
      "text/plain": [
       "['Asia/Kolkata']"
      ]
     },
     "execution_count": 18,
     "metadata": {},
     "output_type": "execute_result"
    }
   ],
   "source": [
    "pytz.country_timezones['IN']"
   ]
  },
  {
   "cell_type": "code",
   "execution_count": 72,
   "metadata": {},
   "outputs": [
    {
     "data": {
      "text/plain": [
       "['America/Argentina/Buenos_Aires',\n",
       " 'America/Argentina/Cordoba',\n",
       " 'America/Argentina/Salta',\n",
       " 'America/Argentina/Jujuy',\n",
       " 'America/Argentina/Tucuman',\n",
       " 'America/Argentina/Catamarca',\n",
       " 'America/Argentina/La_Rioja',\n",
       " 'America/Argentina/San_Juan',\n",
       " 'America/Argentina/Mendoza',\n",
       " 'America/Argentina/San_Luis',\n",
       " 'America/Argentina/Rio_Gallegos',\n",
       " 'America/Argentina/Ushuaia']"
      ]
     },
     "execution_count": 72,
     "metadata": {},
     "output_type": "execute_result"
    }
   ],
   "source": [
    "pytz.country_timezones['AR']"
   ]
  }
 ],
 "metadata": {
  "kernelspec": {
   "display_name": "Py_Global",
   "language": "python",
   "name": "py_global"
  },
  "language_info": {
   "codemirror_mode": {
    "name": "ipython",
    "version": 3
   },
   "file_extension": ".py",
   "mimetype": "text/x-python",
   "name": "python",
   "nbconvert_exporter": "python",
   "pygments_lexer": "ipython3",
   "version": "3.8.10"
  }
 },
 "nbformat": 4,
 "nbformat_minor": 4
}
