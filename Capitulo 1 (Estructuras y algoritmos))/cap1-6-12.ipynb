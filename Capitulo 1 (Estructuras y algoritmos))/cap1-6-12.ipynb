{
 "cells": [
  {
   "cell_type": "markdown",
   "metadata": {},
   "source": [
    "# Asignación de claves a varios valores en un diccionario\n",
    "\n",
    "1.6"
   ]
  },
  {
   "cell_type": "markdown",
   "metadata": {},
   "source": [
    "- Problema\n",
    "\n",
    "        Desea crear un diccionario que asigne claves a más de un valor (un llamado “Multidict”).\n",
    "- Solución\n",
    "\n",
    "        Un diccionario es una asignación en la que cada clave se asigna a un valor único.   \n",
    "        Si quieres asignar claves a múltiples valores, necesita almacenar los múltiples   \n",
    "        valores en otro contenedor como una lista o conjunto.   \n",
    "        Por ejemplo, puede crear diccionarios como este:"
   ]
  },
  {
   "cell_type": "code",
   "execution_count": 2,
   "metadata": {},
   "outputs": [],
   "source": [
    "d = {\n",
    "'a' : [1, 2, 3],\n",
    "'b' : [4, 5]\n",
    "}\n",
    "e = {\n",
    "'a' : {1, 2, 3},\n",
    "'b' : {4, 5}\n",
    "}"
   ]
  },
  {
   "cell_type": "code",
   "execution_count": 3,
   "metadata": {},
   "outputs": [
    {
     "data": {
      "text/plain": [
       "{'a': [1, 2, 3], 'b': [4, 5]}"
      ]
     },
     "execution_count": 3,
     "metadata": {},
     "output_type": "execute_result"
    }
   ],
   "source": [
    "d"
   ]
  },
  {
   "cell_type": "code",
   "execution_count": 4,
   "metadata": {},
   "outputs": [
    {
     "data": {
      "text/plain": [
       "{'a': {1, 2, 3}, 'b': {4, 5}}"
      ]
     },
     "execution_count": 4,
     "metadata": {},
     "output_type": "execute_result"
    }
   ],
   "source": [
    "e"
   ]
  },
  {
   "cell_type": "markdown",
   "metadata": {},
   "source": [
    "La elección de utilizar o no listas o conjuntos depende del uso previsto.  \n",
    "Use una lista si desea conservar el orden de inserción de los elementos.  \n",
    "Utilice un conjunto si desea eliminar duplicados (y no les importa el orden).  \n",
    "Para construir fácilmente dichos diccionarios, puede usar defaultdict en las colecciones módulo.   \n",
    "Una característica de defaultdict es que inicializa automáticamente el primer valor para\n",
    "simplemente puede concentrarse en agregar elementos.    \n",
    "Por ejemplo:"
   ]
  },
  {
   "cell_type": "code",
   "execution_count": 5,
   "metadata": {},
   "outputs": [],
   "source": [
    "from collections import defaultdict"
   ]
  },
  {
   "cell_type": "code",
   "execution_count": 6,
   "metadata": {},
   "outputs": [],
   "source": [
    "d = defaultdict(list)\n",
    "d['a'].append(1)\n",
    "d['a'].append(2)\n",
    "d['b'].append(4)"
   ]
  },
  {
   "cell_type": "code",
   "execution_count": 7,
   "metadata": {},
   "outputs": [
    {
     "data": {
      "text/plain": [
       "defaultdict(list, {'a': [1, 2], 'b': [4]})"
      ]
     },
     "execution_count": 7,
     "metadata": {},
     "output_type": "execute_result"
    }
   ],
   "source": [
    "d"
   ]
  },
  {
   "cell_type": "code",
   "execution_count": 8,
   "metadata": {},
   "outputs": [],
   "source": [
    "s = defaultdict(set)\n",
    "s['a'].add(1)\n",
    "s['a'].add(2)\n",
    "s['b'].add(4)\n",
    "s['a'].add(1)\n",
    "s['a'].add(2)\n",
    "s['b'].add(4)"
   ]
  },
  {
   "cell_type": "code",
   "execution_count": 9,
   "metadata": {},
   "outputs": [
    {
     "data": {
      "text/plain": [
       "defaultdict(set, {'a': {1, 2}, 'b': {4}})"
      ]
     },
     "execution_count": 9,
     "metadata": {},
     "output_type": "execute_result"
    }
   ],
   "source": [
    "s"
   ]
  },
  {
   "cell_type": "markdown",
   "metadata": {},
   "source": [
    "Una precaución con defaultdict es que creará automáticamente entradas de diccionario para\n",
    "claves a las que se accede más adelante (incluso si no se encuentran actualmente en el diccionario).   \n",
    "Si no desea este comportamiento, puede usar setdefault () en un diccionario ordinario. por\n",
    "ejemplo:"
   ]
  },
  {
   "cell_type": "code",
   "execution_count": 10,
   "metadata": {},
   "outputs": [],
   "source": [
    "e = {} # Un diccionario normal\n",
    "e.setdefault('a', []).append(1)\n",
    "e.setdefault('a', []).append(2)\n",
    "e.setdefault('b', []).append(4)\n",
    "# Sin embargo, muchos programadores encuentran que setdefault () es un poco antinatural, \n",
    "# sin mencionar el hecho de que siempre crea una nueva instancia del valor inicial en cada invocación.\n",
    "# (la lista vacía [] en el ejemplo)."
   ]
  },
  {
   "cell_type": "code",
   "execution_count": 11,
   "metadata": {},
   "outputs": [
    {
     "data": {
      "text/plain": [
       "{'a': [1, 2], 'b': [4]}"
      ]
     },
     "execution_count": 11,
     "metadata": {},
     "output_type": "execute_result"
    }
   ],
   "source": [
    "e"
   ]
  },
  {
   "cell_type": "code",
   "execution_count": 12,
   "metadata": {},
   "outputs": [
    {
     "data": {
      "text/plain": [
       "{'a': [[1, 2]], 'b': [[4]]}"
      ]
     },
     "execution_count": 12,
     "metadata": {},
     "output_type": "execute_result"
    }
   ],
   "source": [
    "\n",
    "d = {}\n",
    "for key, value in e.items():\n",
    "    if key not in d:\n",
    "        d[key] = []\n",
    "    d[key].append(value)\n",
    "d"
   ]
  },
  {
   "cell_type": "code",
   "execution_count": 13,
   "metadata": {},
   "outputs": [
    {
     "data": {
      "text/plain": [
       "defaultdict(list, {'a': [[1, 2]], 'b': [[4]]})"
      ]
     },
     "execution_count": 13,
     "metadata": {},
     "output_type": "execute_result"
    }
   ],
   "source": [
    "d = defaultdict(list)\n",
    "for key, value in e.items():\n",
    "    d[key].append(value)\n",
    "d"
   ]
  },
  {
   "cell_type": "markdown",
   "metadata": {},
   "source": [
    "# Mantener los diccionarios en orden\n",
    "\n",
    "1.7"
   ]
  },
  {
   "cell_type": "markdown",
   "metadata": {},
   "source": [
    "- Problema\n",
    "\n",
    "        Quiere crear un diccionario y también quiere controlar el orden de los elementos cuando\n",
    "        iterando o serializando.\n",
    "- Solución\n",
    "\n",
    "        Para controlar el orden de los elementos en un diccionario, puede utilizar un OrderedDict del\n",
    "        módulo de collections . Conserva exactamente el orden de inserción original de los datos cuando iterando.   \n",
    "\n",
    "Por ejemplo:"
   ]
  },
  {
   "cell_type": "code",
   "execution_count": 14,
   "metadata": {},
   "outputs": [],
   "source": [
    "from collections import OrderedDict"
   ]
  },
  {
   "cell_type": "code",
   "execution_count": 15,
   "metadata": {},
   "outputs": [],
   "source": [
    "d = OrderedDict()\n",
    "d['foo'] = 1\n",
    "d['bar'] = 2\n",
    "d['spam'] = 3\n",
    "d['grok'] = 4"
   ]
  },
  {
   "cell_type": "code",
   "execution_count": 16,
   "metadata": {},
   "outputs": [
    {
     "data": {
      "text/plain": [
       "OrderedDict([('foo', 1), ('bar', 2), ('spam', 3), ('grok', 4)])"
      ]
     },
     "execution_count": 16,
     "metadata": {},
     "output_type": "execute_result"
    }
   ],
   "source": [
    "d"
   ]
  },
  {
   "cell_type": "code",
   "execution_count": 17,
   "metadata": {},
   "outputs": [
    {
     "name": "stdout",
     "output_type": "stream",
     "text": [
      "foo 1\n",
      "bar 2\n",
      "spam 3\n",
      "grok 4\n"
     ]
    }
   ],
   "source": [
    "for key in d:\n",
    "    print(key, d[key])"
   ]
  },
  {
   "cell_type": "markdown",
   "metadata": {},
   "source": [
    "Un OrderedDict puede resultar especialmente útil cuando desee crear un mapeo que es posible que desee serializar o codificar posteriormente en un formato diferente.  \n",
    "Por ejemplo, si quieres para controlar con precisión el orden de los campos que aparecen en una codificación JSON,   \n",
    "primero construyendo el Los datos en un OrderedDict "
   ]
  },
  {
   "cell_type": "code",
   "execution_count": 18,
   "metadata": {},
   "outputs": [
    {
     "data": {
      "text/plain": [
       "'{\"foo\": 1, \"bar\": 2, \"spam\": 3, \"grok\": 4}'"
      ]
     },
     "execution_count": 18,
     "metadata": {},
     "output_type": "execute_result"
    }
   ],
   "source": [
    "import json\n",
    "json.dumps(d)"
   ]
  },
  {
   "cell_type": "markdown",
   "metadata": {},
   "source": [
    "> *Nota*:\n",
    "\n",
    "> Un OrderedDict mantiene internamente una lista doblemente enlazada que ordena las claves según al pedido de inserción. Cuando se inserta un nuevo elemento por primera vez, se coloca al final de esta lista. \n",
    "La reasignación posterior de una clave existente no cambia el orden.\n",
    "Tenga en cuenta que el tamaño de un OrderedDict es más del doble que un dictado normal.\n",
    "importante debido a la lista adicional vinculada que se crea. Por lo tanto, si va a crear un\n",
    "estructura que involucra una gran cantidad de instancias de OrderedDict (por ejemplo, leer 100,000 líneas\n",
    "de un archivo CSV en una lista de instancias de OrderedDict), necesitaría estudiar los requisitos de su aplicación para > determinar si los beneficios de usar un OrderedDict\n",
    "superó la sobrecarga de memoria adicional."
   ]
  },
  {
   "cell_type": "markdown",
   "metadata": {
    "jp-MarkdownHeadingCollapsed": true,
    "tags": []
   },
   "source": [
    "# Calcular con diccionarios\n",
    "\n",
    "1.8"
   ]
  },
  {
   "cell_type": "markdown",
   "metadata": {},
   "source": [
    "- Problema\n",
    "\n",
    "        Quiere realizar varios cálculos (por ejemplo, valor mínimo, valor máximo, clasificación etc.) \n",
    "        en un diccionario de datos.\n",
    "\n",
    "- Solución\n",
    "        \n",
    "        Considere un diccionario que correlacione los nombres de las acciones con los precios:"
   ]
  },
  {
   "cell_type": "code",
   "execution_count": 19,
   "metadata": {},
   "outputs": [],
   "source": [
    "precios = {\n",
    "            'ACME': 45.23,\n",
    "            'AAPL': 612.78,\n",
    "            'IBM' : 205.55,\n",
    "            'HPQ' : 37.20,\n",
    "            'FB'  : 10.75\n",
    "}"
   ]
  },
  {
   "cell_type": "code",
   "execution_count": 20,
   "metadata": {},
   "outputs": [
    {
     "data": {
      "text/plain": [
       "(612.78, 'AAPL')"
      ]
     },
     "execution_count": 20,
     "metadata": {},
     "output_type": "execute_result"
    }
   ],
   "source": [
    "max(zip(precios.values(),precios.keys()))"
   ]
  },
  {
   "cell_type": "code",
   "execution_count": 21,
   "metadata": {},
   "outputs": [
    {
     "data": {
      "text/plain": [
       "(10.75, 'FB')"
      ]
     },
     "execution_count": 21,
     "metadata": {},
     "output_type": "execute_result"
    }
   ],
   "source": [
    "min(zip(precios.values(),precios.keys()))"
   ]
  },
  {
   "cell_type": "code",
   "execution_count": 22,
   "metadata": {},
   "outputs": [],
   "source": [
    "precios_ordenados=sorted(zip(precios.values(),precios.keys()))"
   ]
  },
  {
   "cell_type": "code",
   "execution_count": 23,
   "metadata": {},
   "outputs": [
    {
     "data": {
      "text/plain": [
       "[(10.75, 'FB'),\n",
       " (37.2, 'HPQ'),\n",
       " (45.23, 'ACME'),\n",
       " (205.55, 'IBM'),\n",
       " (612.78, 'AAPL')]"
      ]
     },
     "execution_count": 23,
     "metadata": {},
     "output_type": "execute_result"
    }
   ],
   "source": [
    "precios_ordenados"
   ]
  },
  {
   "cell_type": "code",
   "execution_count": 24,
   "metadata": {},
   "outputs": [
    {
     "data": {
      "text/plain": [
       "{'FB': 10.75, 'HPQ': 37.2, 'ACME': 45.23, 'IBM': 205.55, 'AAPL': 612.78}"
      ]
     },
     "execution_count": 24,
     "metadata": {},
     "output_type": "execute_result"
    }
   ],
   "source": [
    "{x[1]:x[0] for x in sorted(zip(precios.values(),precios.keys()))}"
   ]
  },
  {
   "cell_type": "code",
   "execution_count": 37,
   "metadata": {},
   "outputs": [
    {
     "name": "stdout",
     "output_type": "stream",
     "text": [
      "(10.75, 'FB')\n"
     ]
    },
    {
     "ename": "ValueError",
     "evalue": "max() arg is an empty sequence",
     "output_type": "error",
     "traceback": [
      "\u001b[0;31m---------------------------------------------------------------------------\u001b[0m",
      "\u001b[0;31mValueError\u001b[0m                                Traceback (most recent call last)",
      "\u001b[0;32m<ipython-input-37-edd4db144272>\u001b[0m in \u001b[0;36m<module>\u001b[0;34m\u001b[0m\n\u001b[1;32m      2\u001b[0m \u001b[0mprint\u001b[0m\u001b[0;34m(\u001b[0m\u001b[0mmin\u001b[0m\u001b[0;34m(\u001b[0m\u001b[0mprices_and_names\u001b[0m\u001b[0;34m)\u001b[0m\u001b[0;34m)\u001b[0m\u001b[0;34m\u001b[0m\u001b[0;34m\u001b[0m\u001b[0m\n\u001b[1;32m      3\u001b[0m \u001b[0;31m# OK\u001b[0m\u001b[0;34m\u001b[0m\u001b[0;34m\u001b[0m\u001b[0;34m\u001b[0m\u001b[0m\n\u001b[0;32m----> 4\u001b[0;31m \u001b[0mprint\u001b[0m\u001b[0;34m(\u001b[0m\u001b[0mmax\u001b[0m\u001b[0;34m(\u001b[0m\u001b[0mprices_and_names\u001b[0m\u001b[0;34m)\u001b[0m\u001b[0;34m)\u001b[0m\u001b[0;34m\u001b[0m\u001b[0;34m\u001b[0m\u001b[0m\n\u001b[0m\u001b[1;32m      5\u001b[0m \u001b[0;31m# ValueError: max() arg is an empty sequence\u001b[0m\u001b[0;34m\u001b[0m\u001b[0;34m\u001b[0m\u001b[0;34m\u001b[0m\u001b[0m\n",
      "\u001b[0;31mValueError\u001b[0m: max() arg is an empty sequence"
     ]
    }
   ],
   "source": [
    "prices_and_names = zip(precios.values(), precios.keys())\n",
    "print(min(prices_and_names))\n",
    "# OK\n",
    "print(max(prices_and_names))\n",
    "# ValueError: max() arg is an empty sequence"
   ]
  },
  {
   "cell_type": "code",
   "execution_count": 25,
   "metadata": {},
   "outputs": [
    {
     "name": "stdout",
     "output_type": "stream",
     "text": [
      "(45.23, 'AAA')\n",
      "\n",
      "(45.23, 'ZZZ')\n"
     ]
    }
   ],
   "source": [
    "prices = { 'AAA' : 45.23, 'ZZZ': 45.23 }\n",
    "print(min(zip(prices.values(), prices.keys())))\n",
    "print()\n",
    "print(max(zip(prices.values(), prices.keys())))\n"
   ]
  },
  {
   "cell_type": "markdown",
   "metadata": {
    "jp-MarkdownHeadingCollapsed": true,
    "tags": []
   },
   "source": [
    "# Encontrar puntos en común en dos diccionarios\n",
    "\n",
    "1.9"
   ]
  },
  {
   "cell_type": "markdown",
   "metadata": {},
   "source": [
    "- Problema\n",
    "\n",
    "        Tiene dos diccionarios y quiere saber qué pueden tener en común (el mismo claves, mismos valores, etc.).\n",
    "\n",
    "- Solución\n",
    "\n",
    "        Considere dos diccionarios:"
   ]
  },
  {
   "cell_type": "code",
   "execution_count": 27,
   "metadata": {},
   "outputs": [
    {
     "data": {
      "text/plain": [
       "{'x': 1, 'y': 2, 'z': 3}"
      ]
     },
     "metadata": {},
     "output_type": "display_data"
    },
    {
     "data": {
      "text/plain": [
       "{'w': 10, 'x': 11, 'y': 2}"
      ]
     },
     "metadata": {},
     "output_type": "display_data"
    }
   ],
   "source": [
    "a = {'x' : 1 ,'y' : 2 ,'z' : 3}\n",
    "b = {'w' : 10,'x' : 11,'y' : 2}\n",
    "display(a)\n",
    "display(b)"
   ]
  },
  {
   "cell_type": "markdown",
   "metadata": {},
   "source": [
    "Para averiguar qué tienen en común los dos diccionarios, simplemente realice un conjunto común\n",
    "operaciones utilizando los métodos keys () o items ().   \n",
    "Por ejemplo:"
   ]
  },
  {
   "cell_type": "code",
   "execution_count": 28,
   "metadata": {},
   "outputs": [
    {
     "name": "stdout",
     "output_type": "stream",
     "text": [
      "{'y', 'x'}\n",
      "{'z'}\n",
      "{('y', 2)}\n"
     ]
    }
   ],
   "source": [
    "# Buscar keys en comun\n",
    "print(a.keys() & b.keys())\n",
    "# { 'x', 'y' }\n",
    "# Buscar keys en  a que no estan en  b\n",
    "print(a.keys() - b.keys())\n",
    "# { 'z' }\n",
    "# buscar (key,value) pares en comun\n",
    "print(a.items() & b.items()) # { ('y', 2) }"
   ]
  },
  {
   "cell_type": "code",
   "execution_count": 29,
   "metadata": {},
   "outputs": [],
   "source": [
    "union=(a.items() | b.items())"
   ]
  },
  {
   "cell_type": "code",
   "execution_count": 30,
   "metadata": {},
   "outputs": [
    {
     "data": {
      "text/plain": [
       "set"
      ]
     },
     "execution_count": 30,
     "metadata": {},
     "output_type": "execute_result"
    }
   ],
   "source": [
    "type(union)"
   ]
  },
  {
   "cell_type": "code",
   "execution_count": 31,
   "metadata": {},
   "outputs": [
    {
     "data": {
      "text/plain": [
       "{('w', 10), ('x', 1), ('x', 11), ('y', 2), ('z', 3)}"
      ]
     },
     "execution_count": 31,
     "metadata": {},
     "output_type": "execute_result"
    }
   ],
   "source": [
    "union"
   ]
  },
  {
   "cell_type": "code",
   "execution_count": 32,
   "metadata": {},
   "outputs": [
    {
     "name": "stdout",
     "output_type": "stream",
     "text": [
      "{'x': 1, 'y': 2, 'z': 3}\n",
      "{'w': 10, 'x': 11, 'y': 2}\n"
     ]
    },
    {
     "data": {
      "text/plain": [
       "{'y': 2, 'x': 1}"
      ]
     },
     "execution_count": 32,
     "metadata": {},
     "output_type": "execute_result"
    }
   ],
   "source": [
    "print(a)\n",
    "print(b)\n",
    "c = { key : a[key] for key in a.keys() - {'z',\"w\"} }\n",
    "c"
   ]
  },
  {
   "cell_type": "markdown",
   "metadata": {},
   "source": [
    "___"
   ]
  },
  {
   "cell_type": "markdown",
   "metadata": {},
   "source": [
    "# Encontrar numeros impares que no son primos usando conjuntos por comprensión"
   ]
  },
  {
   "cell_type": "code",
   "execution_count": 2,
   "metadata": {},
   "outputs": [
    {
     "name": "stdout",
     "output_type": "stream",
     "text": [
      "Los impares que no son primos en un rango de 1 a 100:\n",
      " 1 9 15 21 25 27 33 35 39 45 49 51 55 57 63 65 69 75 77 81 85 87 91 93 95 99\n",
      "CPU times: user 255 µs, sys: 0 ns, total: 255 µs\n",
      "Wall time: 243 µs\n"
     ]
    }
   ],
   "source": [
    "%%time\n",
    "# Generar números impares del 1 al 100\n",
    "impares = {x for x in range(1, 101, 2)}\n",
    "\n",
    "# Función para verificar si un número es primo\n",
    "def es_primo(n):\n",
    "    if n < 2:\n",
    "        return False\n",
    "    for i in range(2, int(n**0.5) + 1):\n",
    "        if n % i == 0:\n",
    "            return False\n",
    "    return True\n",
    "\n",
    "# Obtener primos en el rango\n",
    "primos = {x for x in range(1, 101) if es_primo(x)}\n",
    "\n",
    "# Imprimir impares que no son primos\n",
    "print(\"Los impares que no son primos en un rango de 1 a 100:\\n\", *(impares - primos))"
   ]
  },
  {
   "cell_type": "markdown",
   "metadata": {},
   "source": [
    "# \n",
    "___"
   ]
  },
  {
   "cell_type": "markdown",
   "metadata": {
    "jp-MarkdownHeadingCollapsed": true,
    "tags": []
   },
   "source": [
    "# Eliminar duplicados de una secuencia mientras mantiene el orden\n",
    "\n",
    "1.10\n"
   ]
  },
  {
   "cell_type": "markdown",
   "metadata": {},
   "source": [
    "\n",
    "- Problema\n",
    "\n",
    "        Desea eliminar los valores duplicados en una secuencia, pero conserva el orden de los  \n",
    "        elementos restantes.\n",
    "\n",
    "- Solución\n",
    "\n",
    "        Si los valores de la secuencia son hash, el problema se puede resolver fácilmente usando un conjunto y un generador.   \n",
    "\n",
    "Por ejemplo:"
   ]
  },
  {
   "cell_type": "code",
   "execution_count": 5,
   "metadata": {},
   "outputs": [
    {
     "name": "stdout",
     "output_type": "stream",
     "text": [
      "[1235, 1, 356, 1, 1235, 25, -2, 356]\n",
      "\n",
      "{1, 356, 1235, 25, -2}\n",
      "\n",
      "[1235, 1, 356, 25, -2]\n"
     ]
    }
   ],
   "source": [
    "def unicos_con_orden(items): \n",
    "    def _unicos(items):\n",
    "        seen = set()              # Conjunto para almacenar elementos ya vistos\n",
    "        for item in items:        # iteremos sobre los elementos de la secuencia\n",
    "            if item not in seen:  # Si el elemento no está en el conjunto...\n",
    "                yield item        # Lo devuelve (lo \"produce\" como generador)\n",
    "                seen.add(item)    # Y lo agrega al conjunto para futuras comparaciones\n",
    "    return list(_unicos(items))   # Convierte el generador en una lista y la devuelve\n",
    "\n",
    "\n",
    "lista=[1235,1,356,1,1235,25,-2,356]\n",
    "print(lista)\n",
    "print()\n",
    "print(set(lista))\n",
    "print()\n",
    "print(unicos_con_orden(lista))"
   ]
  },
  {
   "cell_type": "code",
   "execution_count": 6,
   "metadata": {},
   "outputs": [
    {
     "data": {
      "text/plain": [
       "[1, 5, 2, 9, 10]"
      ]
     },
     "execution_count": 6,
     "metadata": {},
     "output_type": "execute_result"
    }
   ],
   "source": [
    "a = [1, 5, 2, 1, 9, 1, 5, 10]\n",
    "unicos_con_orden(a)"
   ]
  },
  {
   "cell_type": "markdown",
   "metadata": {},
   "source": [
    "Esto solo funciona si los elementos de la secuencia son hash. Si estas tratando de eliminar\n",
    "duplicados en una secuencia de tipos no codificables (como dicionarios), puede hacer un ligero\n",
    "cambio, de la siguiente manera:"
   ]
  },
  {
   "cell_type": "code",
   "execution_count": 36,
   "metadata": {},
   "outputs": [],
   "source": [
    "def unicos_con_orden2(items, key=None):\n",
    "    def _unicos(items):\n",
    "        seen = set()\n",
    "        for item in items:\n",
    "            val = item if key is None else key(item)\n",
    "            if val not in seen:\n",
    "                yield item\n",
    "                seen.add(val)\n",
    "    return list(_unicos(items))\n",
    "\n",
    "a = [ {'x':1, 'y':2}, {'x':1, 'y':3}, {'x':1, 'y':2}, {'x':2, 'y':4}]\n",
    "print(a)\n",
    "unicos_con_orden2(a, key = lambda d: (d['x'],d['y']))"
   ]
  },
  {
   "cell_type": "code",
   "execution_count": 7,
   "metadata": {},
   "outputs": [],
   "source": [
    "def unicos_con_orden2(items, key=None):\n",
    "    def _unicos(items):\n",
    "        seen = set()   # Conjunto para almacenar valores ya vistos\n",
    "        for item in items:\n",
    "            # Si hay una función `key`, se usa su resultado como identificador\n",
    "            val = item if key is None else key(item)  \n",
    "            if val not in seen:     # Si el identificador no ha sido visto antes...\n",
    "                yield item          # Se devuelve el elemento original\n",
    "                seen.add(val)       # Se agrega el identificador al conjunto de vistos\n",
    "    return list(_unicos(items))     # Convierte el generador en una lista y la retorna\n"
   ]
  },
  {
   "cell_type": "code",
   "execution_count": 8,
   "metadata": {},
   "outputs": [
    {
     "name": "stdout",
     "output_type": "stream",
     "text": [
      "[{'x': 1, 'y': 2}, {'x': 1, 'y': 3}, {'x': 1, 'y': 2}, {'x': 2, 'y': 4}]\n"
     ]
    },
    {
     "data": {
      "text/plain": [
       "[{'x': 1, 'y': 2}, {'x': 1, 'y': 3}, {'x': 2, 'y': 4}]"
      ]
     },
     "execution_count": 8,
     "metadata": {},
     "output_type": "execute_result"
    }
   ],
   "source": [
    "a = [ {'x':1, 'y':2}, {'x':1, 'y':3}, {'x':1, 'y':2}, {'x':2, 'y':4}]\n",
    "print(a)\n",
    "unicos_con_orden2(a, key = lambda d: (d['x'],d['y']))"
   ]
  },
  {
   "cell_type": "markdown",
   "metadata": {
    "tags": []
   },
   "source": [
    "# Nombrar Slice\n",
    "\n",
    "1.11"
   ]
  },
  {
   "cell_type": "markdown",
   "metadata": {},
   "source": [
    "- Problema\n",
    "\n",
    "        Su programa se ha convertido en un desorden ilegible de índices de rebanada codificados y desea limpiarlo.\n",
    "\n",
    "- Solución\n",
    "\n",
    "        Suponga que tiene algún código que está extrayendo campos específicos de un registro de\n",
    "cadena con campos fijos (por ejemplo, de un archivo plano o similar formato):"
   ]
  },
  {
   "cell_type": "code",
   "execution_count": 136,
   "metadata": {},
   "outputs": [
    {
     "data": {
      "text/plain": [
       "51325.0"
      ]
     },
     "execution_count": 136,
     "metadata": {},
     "output_type": "execute_result"
    }
   ],
   "source": [
    "record = '....................100          .......513.25..........'\n",
    "cost = int(record[20:23]) * float(record[40:46])\n",
    "cost"
   ]
  },
  {
   "cell_type": "code",
   "execution_count": 137,
   "metadata": {},
   "outputs": [
    {
     "name": "stdout",
     "output_type": "stream",
     "text": [
      "slice(20, 23, None)\n",
      "slice(40, 46, None)\n"
     ]
    }
   ],
   "source": [
    "SHARES = slice(20,23)\n",
    "PRICE  = slice(40,46)\n",
    "print(SHARES)\n",
    "print(PRICE)"
   ]
  },
  {
   "cell_type": "code",
   "execution_count": 139,
   "metadata": {},
   "outputs": [
    {
     "name": "stdout",
     "output_type": "stream",
     "text": [
      "100\n",
      "513.25\n"
     ]
    }
   ],
   "source": [
    "print(record[SHARES])\n",
    "print(record[PRICE])"
   ]
  },
  {
   "cell_type": "code",
   "execution_count": 140,
   "metadata": {},
   "outputs": [
    {
     "name": "stdout",
     "output_type": "stream",
     "text": [
      "51325.0\n"
     ]
    }
   ],
   "source": [
    "print(int(record[SHARES]) * float(record[PRICE]))"
   ]
  },
  {
   "cell_type": "code",
   "execution_count": 142,
   "metadata": {},
   "outputs": [
    {
     "data": {
      "text/plain": [
       "[2, 3]"
      ]
     },
     "execution_count": 142,
     "metadata": {},
     "output_type": "execute_result"
    }
   ],
   "source": [
    "items = [0, 1, 2, 3, 4, 5, 6]\n",
    "a     = slice(2, 4)\n",
    "items[a]"
   ]
  },
  {
   "cell_type": "code",
   "execution_count": 143,
   "metadata": {},
   "outputs": [
    {
     "data": {
      "text/plain": [
       "[0, 1, 10, 11, 4, 5, 6]"
      ]
     },
     "execution_count": 143,
     "metadata": {},
     "output_type": "execute_result"
    }
   ],
   "source": [
    "items[a] = [10,11]\n",
    "items"
   ]
  },
  {
   "cell_type": "code",
   "execution_count": 144,
   "metadata": {},
   "outputs": [
    {
     "data": {
      "text/plain": [
       "[0, 1, 4, 5, 6]"
      ]
     },
     "execution_count": 144,
     "metadata": {},
     "output_type": "execute_result"
    }
   ],
   "source": [
    "del items[a]\n",
    "items"
   ]
  },
  {
   "cell_type": "markdown",
   "metadata": {
    "jp-MarkdownHeadingCollapsed": true,
    "tags": []
   },
   "source": [
    "# Determinación de los elementos que ocurren con más frecuencia en una secuencia\n",
    "\n",
    "1.12"
   ]
  },
  {
   "cell_type": "markdown",
   "metadata": {},
   "source": [
    "\n",
    "- Problema\n",
    "\n",
    "        Tiene una secuencia de elementos y le gustaría determinar los que ocurren con más frecuencia elementos de la secuencia.\n",
    "\n",
    "- Solución\n",
    "\n",
    "        La clase collections.Counter está diseñada para tal problema. Incluso viene con\n",
    "        un práctico método most_common () que le dará la respuesta.\n",
    "        Para ilustrarlo, supongamos que tiene una lista de palabras y desea averiguar qué palabras ocurren con mayor frecuencia. \n",
    "\n",
    "Así es como lo haría:"
   ]
  },
  {
   "cell_type": "code",
   "execution_count": 145,
   "metadata": {},
   "outputs": [],
   "source": [
    "from collections import Counter"
   ]
  },
  {
   "cell_type": "code",
   "execution_count": 175,
   "metadata": {},
   "outputs": [],
   "source": [
    "texto=\"\"\"\n",
    "Problema\n",
    "        Tiene una secuencia de elementos y le gustaría determinar los que ocurren con más frecuencia\n",
    "        elementos de la secuencia.\n",
    "- Solución\n",
    "        La clase collections.Counter está diseñada para tal problema. Incluso viene con\n",
    "        un práctico método most_common () que le dará la respuesta.\n",
    "        Para ilustrarlo, supongamos que tiene una lista de palabras y desea averiguar qué palabras\n",
    "        ocurren con mayor frecuencia. \n",
    "\"\"\".split()"
   ]
  },
  {
   "cell_type": "code",
   "execution_count": 176,
   "metadata": {},
   "outputs": [
    {
     "name": "stdout",
     "output_type": "stream",
     "text": [
      "[('de', 3), ('que', 3), ('con', 3), ('una', 2)]\n"
     ]
    }
   ],
   "source": [
    "palabras = Counter(texto)\n",
    "top_4 = palabras.most_common(4)\n",
    "print(top_4)"
   ]
  },
  {
   "cell_type": "code",
   "execution_count": 177,
   "metadata": {},
   "outputs": [
    {
     "data": {
      "text/plain": [
       "1"
      ]
     },
     "execution_count": 177,
     "metadata": {},
     "output_type": "execute_result"
    }
   ],
   "source": [
    "palabras[\"lista\"]"
   ]
  },
  {
   "cell_type": "code",
   "execution_count": 178,
   "metadata": {},
   "outputs": [
    {
     "data": {
      "text/plain": [
       "2"
      ]
     },
     "execution_count": 178,
     "metadata": {},
     "output_type": "execute_result"
    }
   ],
   "source": [
    "palabras[\"elementos\"]"
   ]
  },
  {
   "cell_type": "code",
   "execution_count": 179,
   "metadata": {},
   "outputs": [
    {
     "data": {
      "text/plain": [
       "1"
      ]
     },
     "execution_count": 179,
     "metadata": {},
     "output_type": "execute_result"
    }
   ],
   "source": [
    "palabras[\"()\"]"
   ]
  },
  {
   "cell_type": "code",
   "execution_count": 180,
   "metadata": {},
   "outputs": [],
   "source": [
    "masPalabras = \"\"\"\n",
    "Como entrada, los objetos Counter se pueden alimentar con cualquier secuencia de elementos de entrada hash. \n",
    "Por devajo , un contador es un diccionario que asigna los elementos al número de ocurrencias. por ejemplo:\"\"\".split()\n",
    "for palabra in masPalabras:\n",
    "    palabras[palabra] += 1\n"
   ]
  },
  {
   "cell_type": "code",
   "execution_count": 181,
   "metadata": {},
   "outputs": [
    {
     "data": {
      "text/plain": [
       "[('de', 6), ('elementos', 4), ('que', 4), ('con', 4)]"
      ]
     },
     "execution_count": 181,
     "metadata": {},
     "output_type": "execute_result"
    }
   ],
   "source": [
    "palabras.most_common(4)"
   ]
  },
  {
   "cell_type": "code",
   "execution_count": 182,
   "metadata": {},
   "outputs": [],
   "source": [
    "otras = \"O, alternativamente, puede usar el método update () :\".split()\n",
    "palabras.update(otras)"
   ]
  },
  {
   "cell_type": "code",
   "execution_count": 183,
   "metadata": {},
   "outputs": [
    {
     "data": {
      "text/plain": [
       "2"
      ]
     },
     "execution_count": 183,
     "metadata": {},
     "output_type": "execute_result"
    }
   ],
   "source": [
    "palabras[\"()\"]"
   ]
  },
  {
   "cell_type": "code",
   "execution_count": 187,
   "metadata": {},
   "outputs": [],
   "source": [
    "combinando = \"\"\"\n",
    "Una característica poco conocida de las instancias de Counter es que se pueden combinar fácilmente usando\n",
    "varias operaciones matemáticas. \n",
    "Por ejemplo :\"\"\".split()\n"
   ]
  },
  {
   "cell_type": "code",
   "execution_count": 188,
   "metadata": {},
   "outputs": [],
   "source": [
    "combinado2=\"\"\"\n",
    "No hace falta decir que los objetos Counter son una herramienta tremendamente útil para casi cualquier tipo de\n",
    "problema en el que es necesario tabular y contar datos. Deberías preferir esto al Soluciones escritas \n",
    "manualmente que involucran diccionarios.\"\"\".split()"
   ]
  },
  {
   "cell_type": "code",
   "execution_count": 197,
   "metadata": {},
   "outputs": [
    {
     "name": "stdout",
     "output_type": "stream",
     "text": [
      "Counter({'que': 4, 'de': 3, 'Counter': 2, 'es': 2, 'Una': 1, 'característica': 1, 'poco': 1, 'conocida': 1, 'las': 1, 'instancias': 1, 'se': 1, 'pueden': 1, 'combinar': 1, 'fácilmente': 1, 'usando': 1, 'varias': 1, 'operaciones': 1, 'matemáticas.': 1, 'Por': 1, 'ejemplo': 1, ':': 1, 'No': 1, 'hace': 1, 'falta': 1, 'decir': 1, 'los': 1, 'objetos': 1, 'son': 1, 'una': 1, 'herramienta': 1, 'tremendamente': 1, 'útil': 1, 'para': 1, 'casi': 1, 'cualquier': 1, 'tipo': 1, 'problema': 1, 'en': 1, 'el': 1, 'necesario': 1, 'tabular': 1, 'y': 1, 'contar': 1, 'datos.': 1, 'Deberías': 1, 'preferir': 1, 'esto': 1, 'al': 1, 'Soluciones': 1, 'escritas': 1, 'manualmente': 1, 'involucran': 1, 'diccionarios.': 1})\n"
     ]
    }
   ],
   "source": [
    "a = Counter(combinando)\n",
    "b = Counter(combinado2)\n",
    "c = a + b\n",
    "print( c)"
   ]
  },
  {
   "cell_type": "code",
   "execution_count": 201,
   "metadata": {},
   "outputs": [
    {
     "name": "stdout",
     "output_type": "stream",
     "text": [
      "2\n",
      "1\n"
     ]
    },
    {
     "data": {
      "text/plain": [
       "3"
      ]
     },
     "execution_count": 201,
     "metadata": {},
     "output_type": "execute_result"
    }
   ],
   "source": [
    "print(a[\"de\"])\n",
    "print(b[\"de\"])\n",
    "c[\"de\"]"
   ]
  },
  {
   "cell_type": "code",
   "execution_count": 193,
   "metadata": {},
   "outputs": [
    {
     "name": "stdout",
     "output_type": "stream",
     "text": [
      "Counter({'Una': 1, 'característica': 1, 'poco': 1, 'conocida': 1, 'de': 1, 'las': 1, 'instancias': 1, 'se': 1, 'pueden': 1, 'combinar': 1, 'fácilmente': 1, 'usando': 1, 'varias': 1, 'operaciones': 1, 'matemáticas.': 1, 'Por': 1, 'ejemplo': 1, ':': 1})\n"
     ]
    }
   ],
   "source": [
    "d = a - b \n",
    "print(d)"
   ]
  },
  {
   "cell_type": "code",
   "execution_count": 202,
   "metadata": {},
   "outputs": [
    {
     "name": "stdout",
     "output_type": "stream",
     "text": [
      "2\n",
      "1\n"
     ]
    },
    {
     "data": {
      "text/plain": [
       "1"
      ]
     },
     "execution_count": 202,
     "metadata": {},
     "output_type": "execute_result"
    }
   ],
   "source": [
    "print(a[\"de\"])\n",
    "print(b[\"de\"])\n",
    "d[\"de\"]"
   ]
  }
 ],
 "metadata": {
  "kernelspec": {
   "display_name": "Py310",
   "language": "python",
   "name": "py310"
  },
  "language_info": {
   "codemirror_mode": {
    "name": "ipython",
    "version": 3
   },
   "file_extension": ".py",
   "mimetype": "text/x-python",
   "name": "python",
   "nbconvert_exporter": "python",
   "pygments_lexer": "ipython3",
   "version": "3.10.9"
  }
 },
 "nbformat": 4,
 "nbformat_minor": 4
}
