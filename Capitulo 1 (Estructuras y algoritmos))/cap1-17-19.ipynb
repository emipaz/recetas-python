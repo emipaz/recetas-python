{
 "cells": [
  {
   "cell_type": "markdown",
   "metadata": {},
   "source": [
    "# Asignación de nombres a elementos de secuencia\n",
    "\n",
    "1.17"
   ]
  },
  {
   "cell_type": "markdown",
   "metadata": {},
   "source": [
    "- Problema\n",
    "\n",
    "        Tiene código que accede a elementos de lista o tupla por posición, pero esto hace que el código algo difícil de leer a veces. También le gustaría depender menos de la posición en la estructura, accediendo a los elementos por su nombre\n",
    "        \n",
    "- Solución\n",
    "\n",
    "        collections.namedtuple () proporciona estos beneficios, al tiempo que agrega una sobrecarga mínima sobre el uso de un objeto de tupla normal. collections.namedtuple () es en realidad es un método que devuelve una subclase del tipo de tupla estándar de Python. Lo alimentas un tipo nombre, y los campos que debería tener, y devuelve una clase que puede instanciar, pasando en valores para los campos que ha definido, y así sucesivamente. \n",
    "        \n",
    "Por ejemplo:"
   ]
  },
  {
   "cell_type": "code",
   "execution_count": 1,
   "metadata": {},
   "outputs": [],
   "source": [
    "from collections import namedtuple"
   ]
  },
  {
   "cell_type": "code",
   "execution_count": 2,
   "metadata": {},
   "outputs": [],
   "source": [
    "alumno = namedtuple(\"alumno\",[\"nombre\",\"curso\"])\n",
    "emi    = alumno(\"emiliano\",\"python\")\n",
    "jenny  = alumno(\"jenny\",\"estadistica\")"
   ]
  },
  {
   "cell_type": "code",
   "execution_count": 3,
   "metadata": {},
   "outputs": [
    {
     "data": {
      "text/plain": [
       "alumno(nombre='emiliano', curso='python')"
      ]
     },
     "execution_count": 3,
     "metadata": {},
     "output_type": "execute_result"
    }
   ],
   "source": [
    "emi"
   ]
  },
  {
   "cell_type": "code",
   "execution_count": 6,
   "metadata": {},
   "outputs": [
    {
     "data": {
      "text/plain": [
       "'emiliano'"
      ]
     },
     "execution_count": 6,
     "metadata": {},
     "output_type": "execute_result"
    }
   ],
   "source": [
    "emi[0]"
   ]
  },
  {
   "cell_type": "code",
   "execution_count": 4,
   "metadata": {},
   "outputs": [
    {
     "data": {
      "text/plain": [
       "'emiliano'"
      ]
     },
     "execution_count": 4,
     "metadata": {},
     "output_type": "execute_result"
    }
   ],
   "source": [
    "emi.nombre"
   ]
  },
  {
   "cell_type": "code",
   "execution_count": 5,
   "metadata": {},
   "outputs": [
    {
     "data": {
      "text/plain": [
       "'python'"
      ]
     },
     "execution_count": 5,
     "metadata": {},
     "output_type": "execute_result"
    }
   ],
   "source": [
    "emi.curso"
   ]
  },
  {
   "cell_type": "markdown",
   "metadata": {},
   "source": [
    "Aunque una instancia de una tupla con nombre parece una instancia de clase normal, es intercambiable con una tupla y admite todas las operaciones de tupla habituales, como la indexación.\n",
    "y desembalaje.   \n",
    "Por ejemplo:"
   ]
  },
  {
   "cell_type": "code",
   "execution_count": 7,
   "metadata": {},
   "outputs": [],
   "source": [
    "nombre=jenny[0]"
   ]
  },
  {
   "cell_type": "code",
   "execution_count": 8,
   "metadata": {},
   "outputs": [
    {
     "data": {
      "text/plain": [
       "'jenny'"
      ]
     },
     "execution_count": 8,
     "metadata": {},
     "output_type": "execute_result"
    }
   ],
   "source": [
    "nombre"
   ]
  },
  {
   "cell_type": "code",
   "execution_count": 9,
   "metadata": {},
   "outputs": [
    {
     "data": {
      "text/plain": [
       "2"
      ]
     },
     "execution_count": 9,
     "metadata": {},
     "output_type": "execute_result"
    }
   ],
   "source": [
    "len(jenny)"
   ]
  },
  {
   "cell_type": "code",
   "execution_count": 10,
   "metadata": {},
   "outputs": [
    {
     "name": "stdout",
     "output_type": "stream",
     "text": [
      "alumno(nombre='jenny', curso='estadistica')\n"
     ]
    }
   ],
   "source": [
    "print(jenny)"
   ]
  },
  {
   "cell_type": "code",
   "execution_count": 11,
   "metadata": {},
   "outputs": [
    {
     "data": {
      "text/plain": [
       "__main__.alumno"
      ]
     },
     "execution_count": 11,
     "metadata": {},
     "output_type": "execute_result"
    }
   ],
   "source": [
    "type(jenny)"
   ]
  },
  {
   "cell_type": "code",
   "execution_count": 12,
   "metadata": {},
   "outputs": [],
   "source": [
    "Stock = namedtuple('Stock', ['name', 'shares', 'price'])"
   ]
  },
  {
   "cell_type": "code",
   "execution_count": 24,
   "metadata": {},
   "outputs": [
    {
     "data": {
      "text/plain": [
       "['__add__',\n",
       " '__class__',\n",
       " '__class_getitem__',\n",
       " '__contains__',\n",
       " '__delattr__',\n",
       " '__dir__',\n",
       " '__doc__',\n",
       " '__eq__',\n",
       " '__format__',\n",
       " '__ge__',\n",
       " '__getattribute__',\n",
       " '__getitem__',\n",
       " '__getnewargs__',\n",
       " '__gt__',\n",
       " '__hash__',\n",
       " '__init__',\n",
       " '__init_subclass__',\n",
       " '__iter__',\n",
       " '__le__',\n",
       " '__len__',\n",
       " '__lt__',\n",
       " '__match_args__',\n",
       " '__module__',\n",
       " '__mul__',\n",
       " '__ne__',\n",
       " '__new__',\n",
       " '__reduce__',\n",
       " '__reduce_ex__',\n",
       " '__repr__',\n",
       " '__rmul__',\n",
       " '__setattr__',\n",
       " '__sizeof__',\n",
       " '__slots__',\n",
       " '__str__',\n",
       " '__subclasshook__',\n",
       " '_asdict',\n",
       " '_field_defaults',\n",
       " '_fields',\n",
       " '_make',\n",
       " '_replace',\n",
       " 'count',\n",
       " 'date',\n",
       " 'index',\n",
       " 'name',\n",
       " 'price',\n",
       " 'shares',\n",
       " 'time']"
      ]
     },
     "execution_count": 24,
     "metadata": {},
     "output_type": "execute_result"
    }
   ],
   "source": [
    "dir(Stock)"
   ]
  },
  {
   "cell_type": "code",
   "execution_count": 13,
   "metadata": {},
   "outputs": [],
   "source": [
    "def compute_cost(records,name):\n",
    "    total = 0.0\n",
    "    for rec in records:\n",
    "        if not isinstance(rec,(Stock)):\n",
    "            try:\n",
    "                rec = Stock(*rec)\n",
    "            except:\n",
    "                continue\n",
    "        if rec.name==name:\n",
    "            total += rec.shares * rec.price\n",
    "    return total"
   ]
  },
  {
   "cell_type": "code",
   "execution_count": 15,
   "metadata": {},
   "outputs": [
    {
     "data": {
      "text/plain": [
       "[Stock(name='Nisan', shares=100, price=23.45),\n",
       " Stock(name='Toyota', shares=100, price=123.45),\n",
       " ('Fiat', 10, 1000),\n",
       " Stock(name='Ford', shares=150, price=23.45),\n",
       " Stock(name='Ford', shares=100, price=123.45),\n",
       " ('Toyota', 10, 1000),\n",
       " ('Fiat', 1, 100),\n",
       " Stock(name='Ford', shares=100, price=123.45),\n",
       " ('Toyota', 10, 1000),\n",
       " (13, 3)]"
      ]
     },
     "execution_count": 15,
     "metadata": {},
     "output_type": "execute_result"
    }
   ],
   "source": [
    "s =[Stock('Nisan', 100, 23.45),\n",
    "    Stock('Toyota', 100, 123.45),\n",
    "    ('Fiat', 10,1000),\n",
    "    Stock('Ford', 150, 23.45),\n",
    "    Stock('Ford', 100, 123.45),('Toyota', 10,1000),\n",
    "    ('Fiat', 1, 100),\n",
    "    Stock('Ford', 100, 123.45),\n",
    "    ('Toyota', 10,1000),\n",
    "    (13,3)]\n",
    "s"
   ]
  },
  {
   "cell_type": "code",
   "execution_count": 49,
   "metadata": {},
   "outputs": [
    {
     "name": "stdout",
     "output_type": "stream",
     "text": [
      "Fiat   : 10100.0\n",
      "Ford   : 28207.5\n",
      "Toyota : 32345.0\n",
      "Nisan  : 2345.0\n"
     ]
    }
   ],
   "source": [
    "print(\"Fiat   :\",compute_cost(s,\"Fiat\"))\n",
    "print(\"Ford   :\",compute_cost(s,\"Ford\"))\n",
    "print(\"Toyota :\",compute_cost(s,\"Toyota\"))\n",
    "print(\"Nisan  :\",compute_cost(s,\"Nisan\"))"
   ]
  },
  {
   "cell_type": "markdown",
   "metadata": {},
   "source": [
    "Un posible uso de una tupla con nombre es como reemplazo de un diccionario, que requiere\n",
    "más espacio para almacenar. Por lo tanto, si está creando grandes estructuras de datos con diccionarios,\n",
    "el uso de una tupla con nombre será más eficiente. Sin embargo, tenga en cuenta que, a diferencia de un diccionario,\n",
    "una tupla con nombre es inmutable.   \n",
    "Por ejemplo:"
   ]
  },
  {
   "cell_type": "code",
   "execution_count": 16,
   "metadata": {},
   "outputs": [
    {
     "data": {
      "text/plain": [
       "Stock(name='ACME', shares=100, price=123.45)"
      ]
     },
     "execution_count": 16,
     "metadata": {},
     "output_type": "execute_result"
    }
   ],
   "source": [
    "s = Stock('ACME', 100, 123.45)\n",
    "s"
   ]
  },
  {
   "cell_type": "code",
   "execution_count": 17,
   "metadata": {},
   "outputs": [
    {
     "ename": "AttributeError",
     "evalue": "can't set attribute",
     "output_type": "error",
     "traceback": [
      "\u001b[0;31m---------------------------------------------------------------------------\u001b[0m",
      "\u001b[0;31mAttributeError\u001b[0m                            Traceback (most recent call last)",
      "Cell \u001b[0;32mIn[17], line 1\u001b[0m\n\u001b[0;32m----> 1\u001b[0m \u001b[43ms\u001b[49m\u001b[38;5;241;43m.\u001b[39;49m\u001b[43mshares\u001b[49m \u001b[38;5;241m=\u001b[39m \u001b[38;5;241m75\u001b[39m\n",
      "\u001b[0;31mAttributeError\u001b[0m: can't set attribute"
     ]
    }
   ],
   "source": [
    "s.shares = 75"
   ]
  },
  {
   "cell_type": "markdown",
   "metadata": {},
   "source": [
    "Si necesita cambiar alguno de los atributos, puede hacerlo usando el método _replace ()\n",
    "de una instancia de tupla con nombre, que crea una tupla con nombre completamente nueva con un valor especificado\n",
    "ues reemplazado.   \n",
    "Por ejemplo:"
   ]
  },
  {
   "cell_type": "code",
   "execution_count": 18,
   "metadata": {},
   "outputs": [
    {
     "name": "stdout",
     "output_type": "stream",
     "text": [
      "Stock(name='ACME', shares=100, price=123.45)\n",
      "Stock(name='ACME', shares=75, price=123.45)\n"
     ]
    }
   ],
   "source": [
    "print(s)\n",
    "s = s._replace(shares=75)\n",
    "print(s)"
   ]
  },
  {
   "cell_type": "markdown",
   "metadata": {},
   "source": [
    "Un uso sutil del método _replace () es que puede ser una forma conveniente de completar\n",
    "tuplas con nombre que tienen campos opcionales o faltantes.   \n",
    "Para hacer esto, haces un prototipo\n",
    "tupla que contiene los valores predeterminados y luego use _replace () para crear nuevas instancias\n",
    "con valores reemplazados.   \n",
    "Por ejemplo:"
   ]
  },
  {
   "cell_type": "code",
   "execution_count": 20,
   "metadata": {},
   "outputs": [],
   "source": [
    "Stock = namedtuple('Stock', ['name', 'shares', 'price', 'date', 'time'])\n",
    "# Crea un prototipo de instancia\n",
    "stock_prototype = Stock('', 0, 0.0, None, None)"
   ]
  },
  {
   "cell_type": "code",
   "execution_count": 21,
   "metadata": {},
   "outputs": [],
   "source": [
    "# Funcion que convierte un diccionario a Stock\n",
    "def dict_to_stock(s):\n",
    "    return stock_prototype._replace(**s)"
   ]
  },
  {
   "cell_type": "code",
   "execution_count": 22,
   "metadata": {},
   "outputs": [],
   "source": [
    "a = {'name': 'ACME', 'shares': 100, 'price': 123.45}"
   ]
  },
  {
   "cell_type": "code",
   "execution_count": 23,
   "metadata": {},
   "outputs": [
    {
     "name": "stdout",
     "output_type": "stream",
     "text": [
      "Stock(name='ACME', shares=100, price=123.45, date=None, time=None)\n"
     ]
    }
   ],
   "source": [
    "b=dict_to_stock(a)\n",
    "print(b)"
   ]
  },
  {
   "cell_type": "code",
   "execution_count": null,
   "metadata": {},
   "outputs": [],
   "source": []
  },
  {
   "cell_type": "markdown",
   "metadata": {},
   "source": [
    "# Transformar y reducir datos al mismo tiempo\n",
    "\n",
    "1.18\n"
   ]
  },
  {
   "cell_type": "markdown",
   "metadata": {},
   "source": [
    "\n",
    "- Problema\n",
    "        \n",
    "        Necesita ejecutar una función de reducción (por ejemplo, sum (), min (), max ()), pero primero debe transformar o filtrar los datos.\n",
    "\n",
    "\n",
    "- Solución\n",
    "        \n",
    "        Una forma muy elegante de combinar una reducción de datos y una transformación es utilizar un argumento de expresión-generadora. Por ejemplo, si desea calcular la suma de cuadrados, haga lo siguiente:"
   ]
  },
  {
   "cell_type": "code",
   "execution_count": 25,
   "metadata": {},
   "outputs": [],
   "source": [
    "nums = [1, 2, 3, 4, 5]\n",
    "s = sum(x * x for x in nums)"
   ]
  },
  {
   "cell_type": "code",
   "execution_count": 26,
   "metadata": {},
   "outputs": [
    {
     "data": {
      "text/plain": [
       "55"
      ]
     },
     "execution_count": 26,
     "metadata": {},
     "output_type": "execute_result"
    }
   ],
   "source": [
    "s"
   ]
  },
  {
   "cell_type": "code",
   "execution_count": 70,
   "metadata": {},
   "outputs": [
    {
     "name": "stdout",
     "output_type": "stream",
     "text": [
      "ACME,50,123.45\n"
     ]
    }
   ],
   "source": [
    "# preparar el contenido de una tupla para guardar en un cvs\n",
    "s = ('ACME', 50, 123.45)\n",
    "print(','.join(str(x) for x in s))"
   ]
  },
  {
   "cell_type": "code",
   "execution_count": 29,
   "metadata": {},
   "outputs": [],
   "source": [
    "portfolio = [\n",
    "{'name':'GOOG', 'shares': 50},\n",
    "{'name':'YHOO', 'shares': 75},\n",
    "{'name':'AOL' , 'shares': 20},\n",
    "{'name':'SCOX', 'shares': 65}]"
   ]
  },
  {
   "cell_type": "code",
   "execution_count": 30,
   "metadata": {},
   "outputs": [],
   "source": [
    "min_shares = min(s['shares'] for s in portfolio)"
   ]
  },
  {
   "cell_type": "code",
   "execution_count": 31,
   "metadata": {},
   "outputs": [
    {
     "data": {
      "text/plain": [
       "20"
      ]
     },
     "execution_count": 31,
     "metadata": {},
     "output_type": "execute_result"
    }
   ],
   "source": [
    "min_shares"
   ]
  },
  {
   "cell_type": "code",
   "execution_count": 32,
   "metadata": {},
   "outputs": [],
   "source": [
    "numeros = range(100)"
   ]
  },
  {
   "cell_type": "code",
   "execution_count": 33,
   "metadata": {},
   "outputs": [],
   "source": [
    "s  = sum( (x * x for x in numeros if x % 2 == 0) ) # Pasar generator-expr como argumento\n",
    "si = sum( x * x for x in numeros if x % 2 != 0) # Sintaxis más elegante"
   ]
  },
  {
   "cell_type": "code",
   "execution_count": 34,
   "metadata": {},
   "outputs": [
    {
     "data": {
      "text/plain": [
       "(161700, 166650)"
      ]
     },
     "execution_count": 34,
     "metadata": {},
     "output_type": "execute_result"
    }
   ],
   "source": [
    "s,si"
   ]
  },
  {
   "cell_type": "markdown",
   "metadata": {},
   "source": [
    "# Combinar múltiples asignaciones en una sola Asignacion\n",
    "\n",
    "1.19\n"
   ]
  },
  {
   "cell_type": "markdown",
   "metadata": {},
   "source": [
    "\n",
    "- Problema\n",
    "\n",
    "        Tiene varios diccionarios o asignaciones que desea combinar lógicamente en un mapeo único para realizar ciertas operaciones, como buscar valores o verificar por la existencia de claves.\n",
    "\n",
    "- Solucion\n",
    " \n",
    "        Suponga que tiene dos diccionarios:"
   ]
  },
  {
   "cell_type": "code",
   "execution_count": 104,
   "metadata": {},
   "outputs": [],
   "source": [
    "a = {'x': 1, 'z': 3 }\n",
    "b = {'y': 2, 'z': 4 }"
   ]
  },
  {
   "cell_type": "markdown",
   "metadata": {},
   "source": [
    "Ahora suponga que desea realizar búsquedas en las que debe verificar ambos diccionarios\n",
    "(por ejemplo, primero marcando en a y luego en b si no se encuentra). Una forma sencilla de hacerlo es utilizar el\n",
    "Clase ChainMap del módulo de colecciones.  \n",
    "Por ejemplo:"
   ]
  },
  {
   "cell_type": "code",
   "execution_count": 105,
   "metadata": {},
   "outputs": [
    {
     "name": "stdout",
     "output_type": "stream",
     "text": [
      "1\n",
      "2\n",
      "3\n"
     ]
    }
   ],
   "source": [
    "from collections import ChainMap\n",
    "c = ChainMap(a,b)\n",
    "print(c['x'])\n",
    "# Outputs 1 (from a)\n",
    "print(c['y'])\n",
    "# Outputs 2 (from b)\n",
    "print(c['z'])\n",
    "# Outputs 3 (from a)"
   ]
  },
  {
   "cell_type": "code",
   "execution_count": 106,
   "metadata": {},
   "outputs": [
    {
     "name": "stdout",
     "output_type": "stream",
     "text": [
      "1\n",
      "2\n",
      "4\n"
     ]
    }
   ],
   "source": [
    "d = ChainMap(b,a)\n",
    "print(d['x'])\n",
    "# Outputs 1 (from a)\n",
    "print(d['y'])\n",
    "# Outputs 2 (from b)\n",
    "print(d['z'])\n",
    "# Outputs 3 (from b)"
   ]
  },
  {
   "cell_type": "markdown",
   "metadata": {},
   "source": [
    "ChainMap toma múltiples asignaciones y las hace aparecer lógicamente como una. \n",
    "Sin embargo, las asignaciones no se fusionan literalmente. \n",
    "En cambio, un ChainMap simplemente mantiene una lista de las asignaciones subyacentes \n",
    "y redefine las operaciones comunes del diccionario para escanear la lista. \n",
    "La mayoría de las operaciones funcionarán.  \n",
    "Por ejemplo:"
   ]
  },
  {
   "cell_type": "code",
   "execution_count": 107,
   "metadata": {},
   "outputs": [
    {
     "name": "stdout",
     "output_type": "stream",
     "text": [
      "3\n",
      "KeysView(ChainMap({'x': 1, 'z': 3}, {'y': 2, 'z': 4}))\n",
      "ValuesView(ChainMap({'x': 1, 'z': 3}, {'y': 2, 'z': 4}))\n"
     ]
    }
   ],
   "source": [
    "print(len(c))\n",
    "print(c.keys())\n",
    "print(c.values())"
   ]
  },
  {
   "cell_type": "markdown",
   "metadata": {},
   "source": [
    "Si hay claves duplicadas, se utilizan los valores del primer mapeo. Por lo tanto, la entrada\n",
    "c ['z'] en el ejemplo siempre se referiría al valor en el diccionario a, no al valor en\n",
    "diccionario b.\n",
    "Las operaciones que mutan el mapeo siempre afectan al primer mapeo listado.   \n",
    "Por ejemplo:"
   ]
  },
  {
   "cell_type": "code",
   "execution_count": 108,
   "metadata": {},
   "outputs": [
    {
     "name": "stdout",
     "output_type": "stream",
     "text": [
      "{'x': 1, 'z': 3}\n"
     ]
    }
   ],
   "source": [
    "print(a)\n",
    "c['z'] = 10\n",
    "c['w'] = 40\n",
    "del c['x']"
   ]
  },
  {
   "cell_type": "code",
   "execution_count": 109,
   "metadata": {},
   "outputs": [
    {
     "data": {
      "text/plain": [
       "{'z': 10, 'w': 40}"
      ]
     },
     "execution_count": 109,
     "metadata": {},
     "output_type": "execute_result"
    }
   ],
   "source": [
    "a"
   ]
  },
  {
   "cell_type": "code",
   "execution_count": null,
   "metadata": {},
   "outputs": [],
   "source": []
  },
  {
   "cell_type": "markdown",
   "metadata": {},
   "source": [
    "# \n",
    "___"
   ]
  },
  {
   "cell_type": "code",
   "execution_count": null,
   "metadata": {},
   "outputs": [],
   "source": [
    "# leer el contenido de una carpeta y ver si hay alguna notebook\n",
    "\n",
    "import os\n",
    "files = os.listdir(os.getcwd())\n",
    "if any(name.endswith('.ipynb') for name in files):\n",
    "    print('Hay notebook de jupyter')\n",
    "else:\n",
    "    print('No hay nada.')"
   ]
  }
 ],
 "metadata": {
  "kernelspec": {
   "display_name": "Py310",
   "language": "python",
   "name": "py310"
  },
  "language_info": {
   "codemirror_mode": {
    "name": "ipython",
    "version": 3
   },
   "file_extension": ".py",
   "mimetype": "text/x-python",
   "name": "python",
   "nbconvert_exporter": "python",
   "pygments_lexer": "ipython3",
   "version": "3.10.9"
  }
 },
 "nbformat": 4,
 "nbformat_minor": 4
}
