{
 "cells": [
  {
   "cell_type": "markdown",
   "metadata": {
    "jp-MarkdownHeadingCollapsed": true,
    "tags": []
   },
   "source": [
    "# Desempaquetamiento de variables\n",
    "1.1\n",
    "\n",
    "- Problema\n",
    "\n",
    "Tiene una tupla o secuencia de N elementos que le gustaría desempaquetar en una colección o N variables.\n",
    "\n",
    "\n",
    "- Solución\n",
    "\n",
    "Cualquier secuencia (o iterable) se puede desempaquetar en variables usando una simple operación de asignación. El único requisito es que el número de variables y la estructura coincidan con la secuencia. Por ejemplo:\n"
   ]
  },
  {
   "cell_type": "code",
   "execution_count": 1,
   "metadata": {},
   "outputs": [],
   "source": [
    "p = (4, 5)"
   ]
  },
  {
   "cell_type": "code",
   "execution_count": 2,
   "metadata": {},
   "outputs": [
    {
     "name": "stdout",
     "output_type": "stream",
     "text": [
      "4 5\n"
     ]
    }
   ],
   "source": [
    "x,y = p\n",
    "print(x,y)"
   ]
  },
  {
   "cell_type": "code",
   "execution_count": 5,
   "metadata": {},
   "outputs": [],
   "source": [
    "data = [ 'ACME', 50, 91.1, (2012, 12, 21) ]\n",
    "name, shares, price, date = data\n",
    "año, mes, dia = date"
   ]
  },
  {
   "cell_type": "code",
   "execution_count": 8,
   "metadata": {},
   "outputs": [
    {
     "name": "stdout",
     "output_type": "stream",
     "text": [
      "ACME\n",
      "50\n",
      "91.1\n",
      "(2012, 12, 21)\n",
      "2012\n",
      "12\n",
      "21\n"
     ]
    }
   ],
   "source": [
    "print(name)\n",
    "print(shares)\n",
    "print(price)\n",
    "print(date)\n",
    "print(año)\n",
    "print(mes)\n",
    "print(dia)"
   ]
  },
  {
   "cell_type": "markdown",
   "metadata": {},
   "source": [
    "# Desempaquetar elementos de iterables de longitud arbitraria\n",
    "\n",
    "1.2\n",
    "\n",
    "- Problema\n",
    "\n",
    "    Necesita desempaquetar N elementos de un iterable, pero el iterable puede ser más largo que N elementos, lo que causa una excepción de \"demasiados valores para desempaquetar\".\n",
    "\n",
    "- Solución    \n",
    "\n",
    "    Las \"expresiones de estrella\" de Python se pueden utilizar para abordar este problema. Por ejemplo, suponga que ejecuta un curso y decide al final del semestre que va a eliminar las primeras y últimas calificaciones de tareas, y solo promediar el resto de ellas. Si solo hay cuatro tareas, tal vez simplemente desempaque las cuatro, pero ¿qué pasa si hay 24? Una expresión de estrella lo hace fácil:\n",
    "\n"
   ]
  },
  {
   "cell_type": "code",
   "execution_count": 9,
   "metadata": {},
   "outputs": [],
   "source": [
    "record = ('Dave', 'dave@example.com', '773-555-1212', '847-555-1212')\n",
    "name, email, *telefonos = record\n"
   ]
  },
  {
   "cell_type": "code",
   "execution_count": 10,
   "metadata": {},
   "outputs": [
    {
     "data": {
      "text/plain": [
       "'Dave'"
      ]
     },
     "execution_count": 10,
     "metadata": {},
     "output_type": "execute_result"
    }
   ],
   "source": [
    "name\n"
   ]
  },
  {
   "cell_type": "code",
   "execution_count": 11,
   "metadata": {},
   "outputs": [
    {
     "data": {
      "text/plain": [
       "'dave@example.com'"
      ]
     },
     "execution_count": 11,
     "metadata": {},
     "output_type": "execute_result"
    }
   ],
   "source": [
    "email\n"
   ]
  },
  {
   "cell_type": "code",
   "execution_count": 12,
   "metadata": {},
   "outputs": [
    {
     "data": {
      "text/plain": [
       "['773-555-1212', '847-555-1212']"
      ]
     },
     "execution_count": 12,
     "metadata": {},
     "output_type": "execute_result"
    }
   ],
   "source": [
    "telefonos"
   ]
  },
  {
   "cell_type": "code",
   "execution_count": 13,
   "metadata": {},
   "outputs": [],
   "source": [
    "def drop_first_last(grades, in_place = False):\n",
    "    \"\"\"\n",
    "    elimina el primero y ultimo de una lista y devuelve una lista sin esos elemantos\n",
    "    si el parametro in_place esta en True modifica la lista original\n",
    "    si el  parametro in_place esta en False devuelve una tupla con la (lista, primer, ultimo)\n",
    "    \"\"\"\n",
    "    first, *middle, last = grades\n",
    "    if in_place:\n",
    "        grades[:] = middle\n",
    "        return (grades, first, last)\n",
    "    else:\n",
    "        return (middle, first, last)"
   ]
  },
  {
   "cell_type": "code",
   "execution_count": 14,
   "metadata": {},
   "outputs": [
    {
     "data": {
      "text/plain": [
       "[1, 2, 3, 4, 5]"
      ]
     },
     "execution_count": 14,
     "metadata": {},
     "output_type": "execute_result"
    }
   ],
   "source": [
    "numeros = [1,2,3,4,5]\n",
    "numeros"
   ]
  },
  {
   "cell_type": "code",
   "execution_count": 15,
   "metadata": {},
   "outputs": [
    {
     "data": {
      "text/plain": [
       "([2, 3, 4], 1, 5)"
      ]
     },
     "execution_count": 15,
     "metadata": {},
     "output_type": "execute_result"
    }
   ],
   "source": [
    "drop_first_last(numeros)"
   ]
  },
  {
   "cell_type": "code",
   "execution_count": 16,
   "metadata": {},
   "outputs": [
    {
     "data": {
      "text/plain": [
       "[1, 2, 3, 4, 5]"
      ]
     },
     "execution_count": 16,
     "metadata": {},
     "output_type": "execute_result"
    }
   ],
   "source": [
    "numeros"
   ]
  },
  {
   "cell_type": "code",
   "execution_count": 17,
   "metadata": {},
   "outputs": [
    {
     "data": {
      "text/plain": [
       "[2, 3, 4]"
      ]
     },
     "execution_count": 17,
     "metadata": {},
     "output_type": "execute_result"
    }
   ],
   "source": [
    "drop_first_last(numeros, in_place = True)\n",
    "numeros"
   ]
  },
  {
   "cell_type": "code",
   "execution_count": 18,
   "metadata": {},
   "outputs": [
    {
     "name": "stdout",
     "output_type": "stream",
     "text": [
      "foo [1, 2]\n",
      "foo 1 2\n",
      "bar ['hello']\n",
      "bar hello\n",
      "foo [3, 4]\n",
      "foo 3 4\n"
     ]
    }
   ],
   "source": [
    "records = [\n",
    "('foo', 1, 2),\n",
    "('bar', 'hello'),\n",
    "('foo', 3, 4),\n",
    "]\n",
    "def do_foo(x, y):\n",
    "    print('foo', x, y)\n",
    "def do_bar(s):\n",
    "    print('bar', s)\n",
    "\n",
    "for tag, *args in records:\n",
    "    print(tag, args)\n",
    "    if tag == 'foo':\n",
    "        do_foo(*args)\n",
    "    elif tag == 'bar':\n",
    "        do_bar(*args)"
   ]
  },
  {
   "cell_type": "code",
   "execution_count": 19,
   "metadata": {},
   "outputs": [],
   "source": [
    "uname, *fields, homedir, sh = 'nobody:*:-2:-2:Unprivileged User:/var/empty:/usr/bin/fals'.split(\":\")"
   ]
  },
  {
   "cell_type": "code",
   "execution_count": 20,
   "metadata": {},
   "outputs": [
    {
     "data": {
      "text/plain": [
       "'nobody'"
      ]
     },
     "execution_count": 20,
     "metadata": {},
     "output_type": "execute_result"
    }
   ],
   "source": [
    "uname"
   ]
  },
  {
   "cell_type": "code",
   "execution_count": 21,
   "metadata": {},
   "outputs": [
    {
     "data": {
      "text/plain": [
       "['*', '-2', '-2', 'Unprivileged User']"
      ]
     },
     "execution_count": 21,
     "metadata": {},
     "output_type": "execute_result"
    }
   ],
   "source": [
    "fields"
   ]
  },
  {
   "cell_type": "code",
   "execution_count": 22,
   "metadata": {},
   "outputs": [
    {
     "data": {
      "text/plain": [
       "'/var/empty'"
      ]
     },
     "execution_count": 22,
     "metadata": {},
     "output_type": "execute_result"
    }
   ],
   "source": [
    "homedir"
   ]
  },
  {
   "cell_type": "code",
   "execution_count": 23,
   "metadata": {},
   "outputs": [
    {
     "data": {
      "text/plain": [
       "'/usr/bin/fals'"
      ]
     },
     "execution_count": 23,
     "metadata": {},
     "output_type": "execute_result"
    }
   ],
   "source": [
    "sh"
   ]
  },
  {
   "cell_type": "code",
   "execution_count": 24,
   "metadata": {},
   "outputs": [],
   "source": [
    "record = ('ACME', 50, 123.45, (9,12, 2018))\n",
    "name, *__, (*_, year) = record"
   ]
  },
  {
   "cell_type": "code",
   "execution_count": 25,
   "metadata": {},
   "outputs": [
    {
     "data": {
      "text/plain": [
       "2018"
      ]
     },
     "execution_count": 25,
     "metadata": {},
     "output_type": "execute_result"
    }
   ],
   "source": [
    "year"
   ]
  },
  {
   "cell_type": "code",
   "execution_count": 26,
   "metadata": {},
   "outputs": [
    {
     "data": {
      "text/plain": [
       "'ACME'"
      ]
     },
     "execution_count": 26,
     "metadata": {},
     "output_type": "execute_result"
    }
   ],
   "source": [
    "name"
   ]
  },
  {
   "cell_type": "code",
   "execution_count": 27,
   "metadata": {},
   "outputs": [
    {
     "data": {
      "text/plain": [
       "[9, 12]"
      ]
     },
     "execution_count": 27,
     "metadata": {},
     "output_type": "execute_result"
    }
   ],
   "source": [
    "_"
   ]
  },
  {
   "cell_type": "code",
   "execution_count": 28,
   "metadata": {},
   "outputs": [
    {
     "data": {
      "text/plain": [
       "[50, 123.45]"
      ]
     },
     "execution_count": 28,
     "metadata": {},
     "output_type": "execute_result"
    }
   ],
   "source": [
    "__"
   ]
  },
  {
   "cell_type": "code",
   "execution_count": 35,
   "metadata": {},
   "outputs": [],
   "source": [
    "def suma(*items):\n",
    "    if items:\n",
    "        head, *tail = items\n",
    "        return (head + sum(tail)) if tail else head"
   ]
  },
  {
   "cell_type": "code",
   "execution_count": 36,
   "metadata": {},
   "outputs": [
    {
     "data": {
      "text/plain": [
       "500"
      ]
     },
     "execution_count": 36,
     "metadata": {},
     "output_type": "execute_result"
    }
   ],
   "source": [
    "suma(1000,-500)"
   ]
  },
  {
   "cell_type": "code",
   "execution_count": 37,
   "metadata": {},
   "outputs": [
    {
     "data": {
      "text/plain": [
       "10"
      ]
     },
     "execution_count": 37,
     "metadata": {},
     "output_type": "execute_result"
    }
   ],
   "source": [
    "suma(10)"
   ]
  },
  {
   "cell_type": "markdown",
   "metadata": {
    "jp-MarkdownHeadingCollapsed": true,
    "tags": []
   },
   "source": [
    "# Conservación de los últimos N elementos\n",
    "1.3\n",
    "- Problema  \n",
    "\n",
    "        Desea mantener un historial limitado de los últimos elementos vistos durante la iteración o durante\n",
    "        algún otro tipo de procesamiento.\n",
    "\n",
    "- Solución  \n",
    "        \n",
    "        Mantener un historial limitado es un uso perfecto para una colección.deque. \n",
    "        \n",
    "        Por ejemplo\n",
    "        \n",
    "        El siguiente código realiza una coincidencia de texto simple en una secuencia de líneas y produce \n",
    "        la línea coincidente junto con las N líneas anteriores de contexto cuando se encuentran:"
   ]
  },
  {
   "cell_type": "code",
   "execution_count": 52,
   "metadata": {},
   "outputs": [
    {
     "name": "stdout",
     "output_type": "stream",
     "text": [
      "Metodos :\n",
      "\tappend\n",
      "\tappendleft\n",
      "\tclear\n",
      "\tcopy\n",
      "\tcount\n",
      "\textend\n",
      "\textendleft\n",
      "\tindex\n",
      "\tinsert\n",
      "\tmaxlen\n",
      "\tpop\n",
      "\tpopleft\n",
      "\tremove\n",
      "\treverse\n",
      "\trotate\n"
     ]
    }
   ],
   "source": [
    "from collections import deque\n",
    "print(\"Metodos:\",*[x for x in dir(deque) if not x.startswith('_')],sep='\\n\\t')"
   ]
  },
  {
   "cell_type": "markdown",
   "metadata": {},
   "source": [
    "El uso de deque (maxlen = N) crea una cola de tamaño fijo. \n",
    "Cuando se agregan nuevos elementos y la cola ya está llena, el elemento más antiguo se elimina automáticamente.\n",
    "\n",
    "Por ejemplo:\n"
   ]
  },
  {
   "cell_type": "code",
   "execution_count": 39,
   "metadata": {},
   "outputs": [],
   "source": [
    "q = deque(maxlen=3)\n"
   ]
  },
  {
   "cell_type": "code",
   "execution_count": 40,
   "metadata": {},
   "outputs": [
    {
     "data": {
      "text/plain": [
       "deque([1, 2, 3], maxlen=3)"
      ]
     },
     "execution_count": 40,
     "metadata": {},
     "output_type": "execute_result"
    }
   ],
   "source": [
    "q.append(1)\n",
    "q.append(2)\n",
    "q.append(3)\n",
    "q\n"
   ]
  },
  {
   "cell_type": "code",
   "execution_count": 41,
   "metadata": {},
   "outputs": [
    {
     "data": {
      "text/plain": [
       "deque([2, 3, 4], maxlen=3)"
      ]
     },
     "execution_count": 41,
     "metadata": {},
     "output_type": "execute_result"
    }
   ],
   "source": [
    "q.append(4)\n",
    "q\n"
   ]
  },
  {
   "cell_type": "code",
   "execution_count": 42,
   "metadata": {},
   "outputs": [
    {
     "data": {
      "text/plain": [
       "deque([3, 4, 5], maxlen=3)"
      ]
     },
     "execution_count": 42,
     "metadata": {},
     "output_type": "execute_result"
    }
   ],
   "source": [
    "q.append(5)\n",
    "q\n"
   ]
  },
  {
   "cell_type": "code",
   "execution_count": 43,
   "metadata": {},
   "outputs": [
    {
     "data": {
      "text/plain": [
       "deque([5, 3, 4], maxlen=3)"
      ]
     },
     "execution_count": 43,
     "metadata": {},
     "output_type": "execute_result"
    }
   ],
   "source": [
    "q.rotate()\n",
    "q\n"
   ]
  },
  {
   "cell_type": "code",
   "execution_count": 44,
   "metadata": {},
   "outputs": [
    {
     "data": {
      "text/plain": [
       "deque([4, 5, 3], maxlen=3)"
      ]
     },
     "execution_count": 44,
     "metadata": {},
     "output_type": "execute_result"
    }
   ],
   "source": [
    "q.appendleft(4)\n",
    "q\n"
   ]
  },
  {
   "cell_type": "code",
   "execution_count": 45,
   "metadata": {},
   "outputs": [
    {
     "name": "stdout",
     "output_type": "stream",
     "text": [
      "3\n"
     ]
    },
    {
     "data": {
      "text/plain": [
       "deque([4, 5], maxlen=3)"
      ]
     },
     "execution_count": 45,
     "metadata": {},
     "output_type": "execute_result"
    }
   ],
   "source": [
    "a=q.pop()\n",
    "print(a)\n",
    "q"
   ]
  },
  {
   "cell_type": "code",
   "execution_count": 53,
   "metadata": {},
   "outputs": [],
   "source": [
    "def search(items, patron, cantidad = 5):\n",
    "    from collections import deque\n",
    "    previous_lines = deque(maxlen = cantidad)\n",
    "    for line in items:\n",
    "        if patron in line:\n",
    "            yield line, list(previous_lines)\n",
    "            previous_lines.append(line)"
   ]
  },
  {
   "cell_type": "code",
   "execution_count": 54,
   "metadata": {},
   "outputs": [],
   "source": [
    "a = search([\"emi\",\"maru emi\",\"luca\",\"emi\",\"maru\",\"otro emi\",\"un emi mas\", \"no hay mas\", \"capaz no\", \"m\"],\"m\",5)"
   ]
  },
  {
   "cell_type": "code",
   "execution_count": 55,
   "metadata": {},
   "outputs": [
    {
     "name": "stdout",
     "output_type": "stream",
     "text": [
      "\n",
      "|  Numero de iteracion                          : 0 \n",
      "|  Elemento encontrado                          : \"emi\" \n",
      "|  Lista de los ultimos 5 elementos encontrados : []\n",
      "\n",
      "|  Numero de iteracion                          : 1 \n",
      "|  Elemento encontrado                          : \"maru emi\" \n",
      "|  Lista de los ultimos 5 elementos encontrados : ['emi']\n",
      "\n",
      "|  Numero de iteracion                          : 2 \n",
      "|  Elemento encontrado                          : \"emi\" \n",
      "|  Lista de los ultimos 5 elementos encontrados : ['emi', 'maru emi']\n",
      "\n",
      "|  Numero de iteracion                          : 3 \n",
      "|  Elemento encontrado                          : \"maru\" \n",
      "|  Lista de los ultimos 5 elementos encontrados : ['emi', 'maru emi', 'emi']\n",
      "\n",
      "|  Numero de iteracion                          : 4 \n",
      "|  Elemento encontrado                          : \"otro emi\" \n",
      "|  Lista de los ultimos 5 elementos encontrados : ['emi', 'maru emi', 'emi', 'maru']\n",
      "\n",
      "|  Numero de iteracion                          : 5 \n",
      "|  Elemento encontrado                          : \"un emi mas\" \n",
      "|  Lista de los ultimos 5 elementos encontrados : ['emi', 'maru emi', 'emi', 'maru', 'otro emi']\n",
      "\n",
      "|  Numero de iteracion                          : 6 \n",
      "|  Elemento encontrado                          : \"no hay mas\" \n",
      "|  Lista de los ultimos 5 elementos encontrados : ['maru emi', 'emi', 'maru', 'otro emi', 'un emi mas']\n",
      "\n",
      "|  Numero de iteracion                          : 7 \n",
      "|  Elemento encontrado                          : \"m\" \n",
      "|  Lista de los ultimos 5 elementos encontrados : ['emi', 'maru', 'otro emi', 'un emi mas', 'no hay mas']\n"
     ]
    }
   ],
   "source": [
    "for g,i in enumerate(a):\n",
    "    print(f\"\"\"\n",
    "|  Numero de iteracion                          : {g} \n",
    "|  Elemento encontrado                          : \"{i[0]}\" \n",
    "|  Lista de los ultimos 5 elementos encontrados : {i[1]}\"\"\")"
   ]
  },
  {
   "cell_type": "code",
   "execution_count": 56,
   "metadata": {},
   "outputs": [
    {
     "name": "stdout",
     "output_type": "stream",
     "text": [
      "\n",
      "Since 2008, the Python world has been watching the slow evolution of Python 3\n",
      "--------------------\n",
      " \n",
      "It was always known that the adoption of Python 3 would likely take a long time\n",
      "\n",
      "\n",
      "Since 2008, the Python world has been watching the slow evolution of Python 3 ,\n",
      "--------------------\n",
      " \n",
      "In fact, even at the time of this writing (2013), most working Python programmers continue to use\n",
      "Python 2 in production\n",
      "\n",
      "\n",
      "Since 2008, the Python world has been watching the slow evolution of Python 3 ,\n",
      "\n",
      " \n",
      "It was always known that the adoption of Python 3 would likely take a long time ,\n",
      "--------------------\n",
      " A lot has been made about the fact that Python 3 is not backward\n",
      "compatible with past versions\n",
      "\n",
      " \n",
      "It was always known that the adoption of Python 3 would likely take a long time ,\n",
      "\n",
      " \n",
      "In fact, even at the time of this writing (2013), most working Python programmers continue to use\n",
      "Python 2 in production ,\n",
      "--------------------\n",
      " However, if you shift your view toward the future, you’ll find\n",
      "that Python 3 offers much more than meets the eye\n",
      "\n",
      " \n",
      "In fact, even at the time of this writing (2013), most working Python programmers continue to use\n",
      "Python 2 in production ,\n",
      "\n",
      " A lot has been made about the fact that Python 3 is not backward\n",
      "compatible with past versions ,\n",
      "--------------------\n"
     ]
    }
   ],
   "source": [
    "f=\"\"\"\n",
    "Since 2008, the Python world has been watching the slow evolution of Python 3. \n",
    "It was always known that the adoption of Python 3 would likely take a long time. \n",
    "In fact, even at the time of this writing (2013), most working Python programmers continue to use\n",
    "Python 2 in production. A lot has been made about the fact that Python 3 is not backward\n",
    "compatible with past versions. \n",
    "To be sure, backward compatibility is an issue for anyone\n",
    "with an existing code base. However, if you shift your view toward the future, you’ll find\n",
    "that Python 3 offers much more than meets the eye.\"\"\"\n",
    "\n",
    "for line, prevlines in search(f.split(\".\"), 'Py', 2):\n",
    "    print(line)\n",
    "    for pline in prevlines:\n",
    "        #print(line, end=' ,')\n",
    "        print()\n",
    "        print(pline, end=' ,')\n",
    "        #print(line, end=' ,')\n",
    "        print(\"\")\n",
    "    print('-'*20)"
   ]
  },
  {
   "cell_type": "markdown",
   "metadata": {
    "jp-MarkdownHeadingCollapsed": true,
    "tags": []
   },
   "source": [
    "# Encontrar los elementos N más grandes o más pequeños\n",
    "\n",
    "1.4\n",
    "\n",
    "- Problema\n",
    "\n",
    "        Desea hacer una lista de los N elementos más grandes o más pequeños de una colección.\n",
    "- Solución\n",
    "  \n",
    "        El módulo heapq tiene dos funciones, nlargest () y nsmallest (), que hacen exactamente\n",
    "\n",
    "Lo que quieras. Por ejemplo:"
   ]
  },
  {
   "cell_type": "code",
   "execution_count": 73,
   "metadata": {},
   "outputs": [
    {
     "name": "stdout",
     "output_type": "stream",
     "text": [
      "Metodos:\n",
      "\t_heapify_max\n",
      "\t_heappop_max\n",
      "\t_heapreplace_max\n",
      "\t_siftdown\n",
      "\t_siftdown_max\n",
      "\t_siftup\n",
      "\t_siftup_max\n",
      "\theapify\n",
      "\theappop\n",
      "\theappush\n",
      "\theappushpop\n",
      "\theapreplace\n",
      "\tmerge\n",
      "\tnlargest\n",
      "\tnsmallest\n"
     ]
    }
   ],
   "source": [
    "import heapq\n",
    "\n",
    "print(\"Metodos:\",*[x for x in dir(heapq) if not x.startswith('__')],sep='\\n\\t')"
   ]
  },
  {
   "cell_type": "code",
   "execution_count": 58,
   "metadata": {},
   "outputs": [
    {
     "name": "stdout",
     "output_type": "stream",
     "text": [
      "[42, 37, 23]\n",
      "[-4, 1, 2]\n"
     ]
    }
   ],
   "source": [
    "nums = [1, 8, 2, 23, 7, -4, 18, 23, 42, 37, 2]\n",
    "print(heapq.nlargest(3, nums)) # Prints [42, 37, 23]\n",
    "print(heapq.nsmallest(3, nums)) # Prints [-4, 1, 2]"
   ]
  },
  {
   "cell_type": "code",
   "execution_count": 59,
   "metadata": {},
   "outputs": [],
   "source": [
    "# Ambas funciones también aceptan un parámetro clave que les permite ser utilizadas con más\n",
    "# estructuras de datos complicadas. \n",
    "# Por ejemplo:\n",
    "portfolio =[\n",
    "            {'name':'IBM' , 'shares': 100, 'price': 91.1},\n",
    "            {'name':'AAPL', 'shares': 50 , 'price': 543.22},\n",
    "            {'name':'FB'  , 'shares': 200, 'price': 21.09},\n",
    "            {'name':'HPQ' , 'shares': 35 , 'price': 31.75},\n",
    "            {'name':'YHOO', 'shares': 45 , 'price': 16.35},\n",
    "            {'name':'ACME', 'shares': 75 , 'price': 115.65}\n",
    "            ]\n",
    "baratos   = heapq.nsmallest(3, portfolio, key = lambda s: s['price'])\n",
    "caros     = heapq.nlargest( 3, portfolio, key = lambda s: s['price'])"
   ]
  },
  {
   "cell_type": "code",
   "execution_count": 60,
   "metadata": {},
   "outputs": [
    {
     "data": {
      "text/plain": [
       "[{'name': 'YHOO', 'shares': 45, 'price': 16.35},\n",
       " {'name': 'FB', 'shares': 200, 'price': 21.09},\n",
       " {'name': 'HPQ', 'shares': 35, 'price': 31.75}]"
      ]
     },
     "execution_count": 60,
     "metadata": {},
     "output_type": "execute_result"
    }
   ],
   "source": [
    "baratos"
   ]
  },
  {
   "cell_type": "code",
   "execution_count": 61,
   "metadata": {},
   "outputs": [
    {
     "data": {
      "text/plain": [
       "[{'name': 'AAPL', 'shares': 50, 'price': 543.22},\n",
       " {'name': 'ACME', 'shares': 75, 'price': 115.65},\n",
       " {'name': 'IBM', 'shares': 100, 'price': 91.1}]"
      ]
     },
     "execution_count": 61,
     "metadata": {},
     "output_type": "execute_result"
    }
   ],
   "source": [
    "caros"
   ]
  },
  {
   "cell_type": "markdown",
   "metadata": {},
   "source": [
    "Si está buscando N elementos más pequeños o más grandes y N es pequeño en comparación con el\n",
    "tamaño total de la colección, estas funciones proporcionan un rendimiento superior. \n",
    "Por debajo , funcionan convirtiendo primero los datos en una lista donde los elementos se ordenan como\n",
    "un heapq. \n",
    "Por ejemplo:"
   ]
  },
  {
   "cell_type": "code",
   "execution_count": 66,
   "metadata": {},
   "outputs": [
    {
     "name": "stdout",
     "output_type": "stream",
     "text": [
      "[1, 8, 2, 23, 7, -4, 18, 23, 42, 37, 2]\n",
      "[1, 8, 2, 23, 7, -4, 18, 23, 42, 37, 2]\n"
     ]
    },
    {
     "data": {
      "text/plain": [
       "[-4, 2, 1, 23, 7, 2, 18, 23, 42, 37, 8]"
      ]
     },
     "execution_count": 66,
     "metadata": {},
     "output_type": "execute_result"
    }
   ],
   "source": [
    "nums = [1, 8, 2, 23, 7, -4 ,18, 23, 42, 37, 2]\n",
    "print(nums)\n",
    "heap = list(nums)\n",
    "print(heap)\n",
    "heapq.heapify(heap)\n",
    "heap"
   ]
  },
  {
   "cell_type": "markdown",
   "metadata": {},
   "source": [
    "La característica más importante de un heapq es que el heapq[0] es siempre el elemento más pequeño. \n",
    "Además, los elementos posteriores se pueden encontrar fácilmente utilizando el método heapq.heappop (), que\n",
    "saca el primer elemento y lo reemplaza con el siguiente elemento más pequeño (una operación que\n",
    "requiere operaciones O (log N) donde N es el tamaño del heapq). Por ejemplo, para encontrar el\n",
    "tres elementos más pequeños, harías esto:"
   ]
  },
  {
   "cell_type": "code",
   "execution_count": 67,
   "metadata": {},
   "outputs": [
    {
     "name": "stdout",
     "output_type": "stream",
     "text": [
      "menor elemento, -4\n",
      "queda en la lista [1, 2, 2, 23, 7, 8, 18, 23, 42, 37]\n",
      "\n",
      "menor elemento, 1\n",
      "queda en la lista [2, 2, 8, 23, 7, 37, 18, 23, 42]\n",
      "\n",
      "menor elemento, 2\n",
      "queda en la lista [2, 7, 8, 23, 42, 37, 18, 23]\n",
      "\n",
      "menor elemento, 2\n",
      "queda en la lista [7, 23, 8, 23, 42, 37, 18]\n",
      "\n",
      "menor elemento, 7\n",
      "queda en la lista [8, 23, 18, 23, 42, 37]\n",
      "\n"
     ]
    }
   ],
   "source": [
    "\n",
    "for i in range(5):\n",
    "    menor = heapq.heappop(heap)\n",
    "    print(\"menor elemento,\",menor)\n",
    "    print(\"queda en la lista\",heap)\n",
    "    print()"
   ]
  },
  {
   "cell_type": "code",
   "execution_count": 68,
   "metadata": {},
   "outputs": [],
   "source": [
    "def menores(n, lista):\n",
    "    import heapq\n",
    "    heap   = list(lista)\n",
    "    heapq.heapify(heap)\n",
    "    return [heapq.heappop(heap) for i in range(n)]"
   ]
  },
  {
   "cell_type": "code",
   "execution_count": 69,
   "metadata": {},
   "outputs": [
    {
     "data": {
      "text/plain": [
       "[12, 15, 45, 456]"
      ]
     },
     "execution_count": 69,
     "metadata": {},
     "output_type": "execute_result"
    }
   ],
   "source": [
    "menores(4,[556,1500,12,45,789,456,15])"
   ]
  },
  {
   "cell_type": "code",
   "execution_count": 70,
   "metadata": {},
   "outputs": [
    {
     "data": {
      "text/plain": [
       "[12, 15, 45, 456]"
      ]
     },
     "execution_count": 70,
     "metadata": {},
     "output_type": "execute_result"
    }
   ],
   "source": [
    "heapq.nsmallest(4, [556,1500,12,45,789,456,15])"
   ]
  },
  {
   "cell_type": "code",
   "execution_count": 71,
   "metadata": {},
   "outputs": [],
   "source": [
    "def mayores(n, lista):\n",
    "    import heapq\n",
    "    heap   = list(lista)\n",
    "    heapq._heapify_max(heap)\n",
    "    return [heapq.heappop(heap) for i in range(n)]"
   ]
  },
  {
   "cell_type": "code",
   "execution_count": 72,
   "metadata": {},
   "outputs": [
    {
     "data": {
      "text/plain": [
       "[1500, 456, 12, 15]"
      ]
     },
     "execution_count": 72,
     "metadata": {},
     "output_type": "execute_result"
    }
   ],
   "source": [
    "mayores(4,[556,1500,12,45,789,456,15])"
   ]
  },
  {
   "cell_type": "code",
   "execution_count": 141,
   "metadata": {},
   "outputs": [
    {
     "data": {
      "text/plain": [
       "[1500, 789, 556, 456]"
      ]
     },
     "execution_count": 141,
     "metadata": {},
     "output_type": "execute_result"
    }
   ],
   "source": [
    "heapq.nlargest(4, [556,1500,12,45,789,456,15])"
   ]
  },
  {
   "cell_type": "markdown",
   "metadata": {
    "jp-MarkdownHeadingCollapsed": true,
    "tags": []
   },
   "source": [
    "# Cola Prioritaria\n",
    "\n",
    "1.5\n",
    "\n",
    "- Problema\n",
    "\n",
    "    Desea implementar una cola que clasifique los elementos por una prioridad determinada y siempre devuelva\n",
    "el elemento con mayor prioridad en cada operación emergente.\n",
    "\n",
    "- Solución\n",
    "\n",
    "    La implementación de una cola prioritaria es uno de esos problemas clásicos que se pueden resolver\n",
    "con una estructura de datos que se conoce como heap.\n",
    "\n",
    "- Complejidad\n",
    "\n",
    "    La complejidad de las operaciones de inserción y extracción en un heap es O (log N), donde N es el\n",
    "número de elementos en el heap."
   ]
  },
  {
   "cell_type": "code",
   "execution_count": 74,
   "metadata": {},
   "outputs": [],
   "source": [
    "import heapq\n",
    "\n",
    "class ColaPrioritaria:\n",
    "    \n",
    "    def __init__(self):\n",
    "        self._queue = []\n",
    "        self._index = 0\n",
    "    \n",
    "    def push(self, item, prioridad):\n",
    "        heapq.heappush(self._queue, (prioridad, self._index, item))\n",
    "        self._index += 1\n",
    "    \n",
    "    def pop(self):\n",
    "        return heapq.heappop(self._queue)[-1]\n",
    "\n",
    "class Item:\n",
    "\n",
    "    def __init__(self, name):\n",
    "        self.name = name\n",
    "\n",
    "    def __repr__(self):\n",
    "        return 'Item({!r})'.format(self.name)"
   ]
  },
  {
   "cell_type": "code",
   "execution_count": 75,
   "metadata": {},
   "outputs": [
    {
     "name": "stdout",
     "output_type": "stream",
     "text": [
      "Item('foo')\n",
      "\n",
      "Item('bar')\n",
      "\n",
      "Item('grok')\n",
      "\n",
      "Item('spam')\n"
     ]
    }
   ],
   "source": [
    "q = ColaPrioritaria()\n",
    "q.push(Item('foo'),  1)\n",
    "q.push(Item('bar'),  1)\n",
    "q.push(Item('spam'), 4)\n",
    "q.push(Item('grok'), 2)\n",
    "print(q.pop())\n",
    "print()\n",
    "print(q.pop())\n",
    "print()\n",
    "print(q.pop())\n",
    "print()\n",
    "print(q.pop())"
   ]
  },
  {
   "cell_type": "code",
   "execution_count": null,
   "metadata": {},
   "outputs": [],
   "source": []
  }
 ],
 "metadata": {
  "kernelspec": {
   "display_name": "Py310",
   "language": "python",
   "name": "py310"
  },
  "language_info": {
   "codemirror_mode": {
    "name": "ipython",
    "version": 3
   },
   "file_extension": ".py",
   "mimetype": "text/x-python",
   "name": "python",
   "nbconvert_exporter": "python",
   "pygments_lexer": "ipython3",
   "version": "3.10.9"
  }
 },
 "nbformat": 4,
 "nbformat_minor": 4
}
