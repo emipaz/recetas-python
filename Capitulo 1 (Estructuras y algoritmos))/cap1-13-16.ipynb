{
 "cells": [
  {
   "cell_type": "markdown",
   "metadata": {},
   "source": [
    "# Ordenar una lista de diccionarios por una clave común\n",
    "\n",
    "1.13\n"
   ]
  },
  {
   "cell_type": "markdown",
   "metadata": {},
   "source": [
    "\n",
    "- Problema\n",
    "\n",
    "        Tiene una lista de diccionarios y le gustaría ordenar las entradas según una o más de los valores del diccionario.\n",
    "\n",
    "\n",
    "\n",
    "- Solución\n",
    "\n",
    "        Clasificar este tipo de estructura es fácil usando la función itemgetter del módulo operator.\n",
    "        Supongamos que ha consultado una tabla de base de datos para obtener una lista de los miembros de su sitio web, y recibe la siguiente estructura de datos a cambio:"
   ]
  },
  {
   "cell_type": "code",
   "execution_count": 1,
   "metadata": {},
   "outputs": [],
   "source": [
    "rows = [\n",
    "{'fname':'Brian', 'lname': 'Jones', 'uid': 1003},\n",
    "{'fname':'David', 'lname': 'Beazley', 'uid': 1002},\n",
    "{'fname':'John', 'lname': 'Cleese', 'uid': 1001},\n",
    "{'fname':'Big', 'lname': 'Jones', 'uid': 1004}\n",
    "]"
   ]
  },
  {
   "cell_type": "markdown",
   "metadata": {},
   "source": [
    "Es bastante fácil generar estas filas ordenadas por cualquiera de los campos comunes a todos los\n",
    "diccionarios. \n",
    "\n",
    "Por ejemplo:\n"
   ]
  },
  {
   "cell_type": "code",
   "execution_count": null,
   "metadata": {},
   "outputs": [],
   "source": [
    "from operator import itemgetter"
   ]
  },
  {
   "cell_type": "code",
   "execution_count": 3,
   "metadata": {},
   "outputs": [],
   "source": [
    "rows_by_fname = sorted(rows, key = itemgetter('fname'))\n",
    "rows_by_uid   = sorted(rows, key = itemgetter('uid'))"
   ]
  },
  {
   "cell_type": "code",
   "execution_count": 4,
   "metadata": {},
   "outputs": [
    {
     "name": "stdout",
     "output_type": "stream",
     "text": [
      "{'fname': 'Big', 'lname': 'Jones', 'uid': 1004}\n",
      "{'fname': 'Brian', 'lname': 'Jones', 'uid': 1003}\n",
      "{'fname': 'David', 'lname': 'Beazley', 'uid': 1002}\n",
      "{'fname': 'John', 'lname': 'Cleese', 'uid': 1001}\n"
     ]
    }
   ],
   "source": [
    "print(*rows_by_fname,sep=\"\\n\")"
   ]
  },
  {
   "cell_type": "code",
   "execution_count": 5,
   "metadata": {},
   "outputs": [
    {
     "name": "stdout",
     "output_type": "stream",
     "text": [
      "{'fname': 'John', 'lname': 'Cleese', 'uid': 1001}\n",
      "{'fname': 'David', 'lname': 'Beazley', 'uid': 1002}\n",
      "{'fname': 'Brian', 'lname': 'Jones', 'uid': 1003}\n",
      "{'fname': 'Big', 'lname': 'Jones', 'uid': 1004}\n"
     ]
    }
   ],
   "source": [
    "print(*rows_by_uid,sep=\"\\n\")"
   ]
  },
  {
   "cell_type": "markdown",
   "metadata": {},
   "source": [
    "La funcion itemgetter() tambien acepta multiple llaves.   \n",
    "Por exemplo"
   ]
  },
  {
   "cell_type": "code",
   "execution_count": 6,
   "metadata": {},
   "outputs": [
    {
     "name": "stdout",
     "output_type": "stream",
     "text": [
      "{'fname': 'David', 'lname': 'Beazley', 'uid': 1002}\n",
      "{'fname': 'John', 'lname': 'Cleese', 'uid': 1001}\n",
      "{'fname': 'Big', 'lname': 'Jones', 'uid': 1004}\n",
      "{'fname': 'Brian', 'lname': 'Jones', 'uid': 1003}\n"
     ]
    }
   ],
   "source": [
    "rows_by_lfname = sorted(rows, key=itemgetter('lname','fname'))\n",
    "print(*rows_by_lfname,sep=\"\\n\")"
   ]
  },
  {
   "cell_type": "markdown",
   "metadata": {},
   "source": [
    "La funcionalidad de itemgetter () a veces se reemplaza por expresiones lambda.   \n",
    "por ejemplo:"
   ]
  },
  {
   "cell_type": "code",
   "execution_count": 7,
   "metadata": {},
   "outputs": [
    {
     "name": "stdout",
     "output_type": "stream",
     "text": [
      "{'fname': 'Big', 'lname': 'Jones', 'uid': 1004}\n",
      "{'fname': 'Brian', 'lname': 'Jones', 'uid': 1003}\n",
      "{'fname': 'David', 'lname': 'Beazley', 'uid': 1002}\n",
      "{'fname': 'John', 'lname': 'Cleese', 'uid': 1001}\n"
     ]
    }
   ],
   "source": [
    "rows_by_fname2 = sorted(rows, key=lambda r: r['fname'])\n",
    "print(*rows_by_fname2,sep=\"\\n\")"
   ]
  },
  {
   "cell_type": "code",
   "execution_count": 8,
   "metadata": {},
   "outputs": [
    {
     "name": "stdout",
     "output_type": "stream",
     "text": [
      "{'fname': 'David', 'lname': 'Beazley', 'uid': 1002}\n",
      "{'fname': 'John', 'lname': 'Cleese', 'uid': 1001}\n",
      "{'fname': 'Big', 'lname': 'Jones', 'uid': 1004}\n",
      "{'fname': 'Brian', 'lname': 'Jones', 'uid': 1003}\n"
     ]
    }
   ],
   "source": [
    "rows_by_lfname2 = sorted(rows, key=lambda r: (r['lname'],r['fname']))\n",
    "print(*rows_by_lfname2,sep=\"\\n\")"
   ]
  },
  {
   "cell_type": "markdown",
   "metadata": {},
   "source": [
    "Esta solución a menudo funciona bien. Sin embargo, la solución que involucra itemgetter ()\n",
    "normalmente se ejecuta un poco más rápido. Por lo tanto, es posible que lo prefiera si el rendimiento es un problema.\n",
    "Por último, pero no menos importante, no olvide que la técnica que se muestra en esta receta se puede aplicar\n",
    "a funciones como min () y max ().   \n",
    "Por ejemplo:"
   ]
  },
  {
   "cell_type": "code",
   "execution_count": 9,
   "metadata": {},
   "outputs": [
    {
     "data": {
      "text/plain": [
       "{'fname': 'John', 'lname': 'Cleese', 'uid': 1001}"
      ]
     },
     "execution_count": 9,
     "metadata": {},
     "output_type": "execute_result"
    }
   ],
   "source": [
    "min(rows, key=itemgetter('uid'))"
   ]
  },
  {
   "cell_type": "code",
   "execution_count": 10,
   "metadata": {},
   "outputs": [
    {
     "data": {
      "text/plain": [
       "{'fname': 'Big', 'lname': 'Jones', 'uid': 1004}"
      ]
     },
     "execution_count": 10,
     "metadata": {},
     "output_type": "execute_result"
    }
   ],
   "source": [
    "max(rows, key=itemgetter('uid'))"
   ]
  },
  {
   "cell_type": "markdown",
   "metadata": {},
   "source": [
    "# Ordenar objetos sin soporte a la comparación\n",
    "\n",
    "1.14"
   ]
  },
  {
   "cell_type": "markdown",
   "metadata": {},
   "source": [
    "- Problema\n",
    "\n",
    "        Quieres ordenar los objetos de la misma clase, pero no admiten la comparación de forma nativa.\n",
    "\n",
    "- Solución\n",
    "\n",
    "        La función incorporada sorted () toma un argumento clave que se puede pasar un invocable que devolverá algún valor en el objeto que sorted utilizará para comparar los objetos.\n",
    "        Por ejemplo, si tiene una secuencia de instancias de usuario en su aplicación y desee ordenarlos por su atributo user_id, proporcionaría un invocable que toma un objeto user como entrada y devuelve el user_id.\n",
    "\n",
    "Por ejemplo:"
   ]
  },
  {
   "cell_type": "code",
   "execution_count": 42,
   "metadata": {},
   "outputs": [],
   "source": [
    "class User:\n",
    "    def __init__(self, user_id,name):\n",
    "        self.user_id = user_id\n",
    "        self.name    = name\n",
    "    def __repr__(self):\n",
    "        return 'User({})'.format(self.user_id)"
   ]
  },
  {
   "cell_type": "code",
   "execution_count": 43,
   "metadata": {},
   "outputs": [],
   "source": [
    "users = [User(23,\"luca\"), User(3,\"emi\"), User(99,\"jenny\"),User(10,\"luca\")]"
   ]
  },
  {
   "cell_type": "code",
   "execution_count": 44,
   "metadata": {},
   "outputs": [
    {
     "data": {
      "text/plain": [
       "[User(23), User(3), User(99), User(10)]"
      ]
     },
     "execution_count": 44,
     "metadata": {},
     "output_type": "execute_result"
    }
   ],
   "source": [
    "users"
   ]
  },
  {
   "cell_type": "code",
   "execution_count": 45,
   "metadata": {},
   "outputs": [
    {
     "data": {
      "text/plain": [
       "[User(3), User(10), User(23), User(99)]"
      ]
     },
     "execution_count": 45,
     "metadata": {},
     "output_type": "execute_result"
    }
   ],
   "source": [
    "from operator import attrgetter\n",
    "sorted(users, key=attrgetter('user_id'))"
   ]
  },
  {
   "cell_type": "markdown",
   "metadata": {},
   "source": [
    "La elección de utilizar lambda o attrgetter () puede ser preferencia personal. Sin embargo, attrgetter () es a menudo un poco más rápido y también tiene el agregado\n",
    "característica de permitir la extracción de múltiples campos simultáneamente. Esto es análogo a\n",
    "el uso de operator.itemgetter () para diccionarios . Por ejemplo, si\n",
    "Las instancias de usuario también tenían un atributo first_name y last_name, podría realizar una\n",
    "ordenar así:"
   ]
  },
  {
   "cell_type": "code",
   "execution_count": 48,
   "metadata": {},
   "outputs": [
    {
     "data": {
      "text/plain": [
       "[User(3), User(99), User(10), User(23)]"
      ]
     },
     "execution_count": 48,
     "metadata": {},
     "output_type": "execute_result"
    }
   ],
   "source": [
    "sorted(users, key=attrgetter(\"name\",\"user_id\"))"
   ]
  },
  {
   "cell_type": "markdown",
   "metadata": {},
   "source": [
    "También vale la pena señalar que la técnica utilizada en esta receta se puede aplicar a funciones\n",
    "como min () y max ().   \n",
    "Por ejemplo:"
   ]
  },
  {
   "cell_type": "code",
   "execution_count": 58,
   "metadata": {},
   "outputs": [
    {
     "data": {
      "text/plain": [
       "User(3)"
      ]
     },
     "execution_count": 58,
     "metadata": {},
     "output_type": "execute_result"
    }
   ],
   "source": [
    "min(users,key = attrgetter(\"name\"))"
   ]
  },
  {
   "cell_type": "code",
   "execution_count": 59,
   "metadata": {},
   "outputs": [
    {
     "data": {
      "text/plain": [
       "User(23)"
      ]
     },
     "execution_count": 59,
     "metadata": {},
     "output_type": "execute_result"
    }
   ],
   "source": [
    "max(users,key = attrgetter(\"name\"))"
   ]
  },
  {
   "cell_type": "markdown",
   "metadata": {},
   "source": [
    "# Agrupar registros en función de un campo\n",
    "\n",
    "1.15"
   ]
  },
  {
   "cell_type": "markdown",
   "metadata": {},
   "source": [
    "- Problema\n",
    "\n",
    "        Tiene una secuencia de diccionarios o instancias y desea iterar sobre los \n",
    "        datos en grupos según el valor de un campo en particular, como la fecha.\n",
    "\n",
    "- Solución\n",
    "\n",
    "        La función itertools.groupby () es particularmente útil para agrupar datos"
   ]
  },
  {
   "cell_type": "code",
   "execution_count": 11,
   "metadata": {},
   "outputs": [],
   "source": [
    "rows = [\n",
    "{'address':'5412 N CLARK'     , 'date': '07/01/2012'},\n",
    "{'address':'5148 N CLARK'     , 'date': '07/04/2012'},\n",
    "{'address':'5800 E 58TH'      , 'date': '07/02/2012'},\n",
    "{'address':'2122 N CLARK'     , 'date': '07/03/2012'},\n",
    "{'address':'5645 N RAVENSWOOD', 'date': '07/02/2012'},\n",
    "{'address':'1060 W ADDISON'   , 'date': '07/02/2012'},\n",
    "{'address':'4801 N BROADWAY'  , 'date': '07/01/2012'},\n",
    "{'address':'1039 W GRANVILLE' , 'date': '07/04/2012'},\n",
    "]"
   ]
  },
  {
   "cell_type": "markdown",
   "metadata": {},
   "source": [
    "Ahora suponga que desea iterar sobre los datos en fragmentos agrupados por fecha. Para hacerlo, primero\n",
    "ordenar por el campo deseado (en este caso, fecha) y luego usar itertools.groupby ():"
   ]
  },
  {
   "cell_type": "code",
   "execution_count": 12,
   "metadata": {},
   "outputs": [],
   "source": [
    "from operator import itemgetter\n",
    "from itertools import groupby"
   ]
  },
  {
   "cell_type": "code",
   "execution_count": 13,
   "metadata": {},
   "outputs": [],
   "source": [
    "rows.sort(key = itemgetter('date'))"
   ]
  },
  {
   "cell_type": "code",
   "execution_count": 14,
   "metadata": {},
   "outputs": [
    {
     "name": "stdout",
     "output_type": "stream",
     "text": [
      "07/01/2012\n",
      "      {'address': '5412 N CLARK', 'date': '07/01/2012'}\n",
      "      {'address': '4801 N BROADWAY', 'date': '07/01/2012'}\n",
      "07/02/2012\n",
      "      {'address': '5800 E 58TH', 'date': '07/02/2012'}\n",
      "      {'address': '5645 N RAVENSWOOD', 'date': '07/02/2012'}\n",
      "      {'address': '1060 W ADDISON', 'date': '07/02/2012'}\n",
      "07/03/2012\n",
      "      {'address': '2122 N CLARK', 'date': '07/03/2012'}\n",
      "07/04/2012\n",
      "      {'address': '5148 N CLARK', 'date': '07/04/2012'}\n",
      "      {'address': '1039 W GRANVILLE', 'date': '07/04/2012'}\n"
     ]
    }
   ],
   "source": [
    "for date, items in groupby(rows, key=itemgetter('date')):\n",
    "    print(date)\n",
    "    for i in items:\n",
    "        print(\"     \", i)"
   ]
  },
  {
   "cell_type": "markdown",
   "metadata": {},
   "source": [
    "La función groupby () funciona escaneando una secuencia y encontrando \"ejecuciones\" secuenciales\n",
    "de valores idénticos (o valores devueltos por la función clave dada). En cada iteración,\n",
    "devuelve el valor junto con un iterador que produce todos los elementos de un grupo con\n",
    "el mismo valor.\n",
    "Un paso preliminar importante es clasificar los datos según el campo de interés. Ya que\n",
    "groupby () solo examina elementos consecutivos, si no se clasifican primero, no se agruparán los registros\n",
    "como quieras.  \n",
    "\n",
    "Si su objetivo es simplemente agrupar los datos por fechas en una gran estructura de datos que\n",
    "permite el acceso aleatorio, es posible que tenga más suerte usando defaultdict () para construir un\n",
    "multidict.\n",
    "\n",
    "Por ejemplo:"
   ]
  },
  {
   "cell_type": "code",
   "execution_count": 15,
   "metadata": {},
   "outputs": [],
   "source": [
    "from collections import defaultdict\n",
    "rows_by_date = defaultdict(list)\n",
    "\n",
    "for row in rows:\n",
    "    rows_by_date[row['date']].append(row)"
   ]
  },
  {
   "cell_type": "code",
   "execution_count": 16,
   "metadata": {},
   "outputs": [
    {
     "data": {
      "text/plain": [
       "defaultdict(list,\n",
       "            {'07/01/2012': [{'address': '5412 N CLARK', 'date': '07/01/2012'},\n",
       "              {'address': '4801 N BROADWAY', 'date': '07/01/2012'}],\n",
       "             '07/02/2012': [{'address': '5800 E 58TH', 'date': '07/02/2012'},\n",
       "              {'address': '5645 N RAVENSWOOD', 'date': '07/02/2012'},\n",
       "              {'address': '1060 W ADDISON', 'date': '07/02/2012'}],\n",
       "             '07/03/2012': [{'address': '2122 N CLARK', 'date': '07/03/2012'}],\n",
       "             '07/04/2012': [{'address': '5148 N CLARK', 'date': '07/04/2012'},\n",
       "              {'address': '1039 W GRANVILLE', 'date': '07/04/2012'}]})"
      ]
     },
     "execution_count": 16,
     "metadata": {},
     "output_type": "execute_result"
    }
   ],
   "source": [
    "rows_by_date"
   ]
  },
  {
   "cell_type": "code",
   "execution_count": 17,
   "metadata": {},
   "outputs": [
    {
     "name": "stdout",
     "output_type": "stream",
     "text": [
      "{'address': '5412 N CLARK', 'date': '07/01/2012'}\n",
      "{'address': '4801 N BROADWAY', 'date': '07/01/2012'}\n"
     ]
    }
   ],
   "source": [
    "for r in rows_by_date['07/01/2012']:\n",
    "    print(r)"
   ]
  },
  {
   "cell_type": "markdown",
   "metadata": {},
   "source": [
    "# Filtrar elementos de secuencia\n",
    "\n",
    "1.16"
   ]
  },
  {
   "cell_type": "markdown",
   "metadata": {},
   "source": [
    "- Problema\n",
    "\n",
    "        Tiene datos dentro de una secuencia y necesita extraer valores o reducir la secuencia utilizando algunos criterios.\n",
    "\n",
    "- Solución\n",
    "\n",
    "        La forma más sencilla de filtrar los datos de la secuencia suele ser utilizar una lista de comprensión. \n",
    "\n",
    "Por ejemplo:"
   ]
  },
  {
   "cell_type": "code",
   "execution_count": 18,
   "metadata": {},
   "outputs": [],
   "source": [
    "mylist = [1, 4, -5, 10, -7, 2, 3, -1]"
   ]
  },
  {
   "cell_type": "code",
   "execution_count": 19,
   "metadata": {},
   "outputs": [
    {
     "data": {
      "text/plain": [
       "[1, 4, 10, 2, 3]"
      ]
     },
     "execution_count": 19,
     "metadata": {},
     "output_type": "execute_result"
    }
   ],
   "source": [
    "[n for n in mylist if n > 0]"
   ]
  },
  {
   "cell_type": "code",
   "execution_count": 20,
   "metadata": {},
   "outputs": [
    {
     "data": {
      "text/plain": [
       "[-5, -7, -1]"
      ]
     },
     "execution_count": 20,
     "metadata": {},
     "output_type": "execute_result"
    }
   ],
   "source": [
    "[n for n in mylist if n < 0]"
   ]
  },
  {
   "cell_type": "markdown",
   "metadata": {},
   "source": [
    "Una posible desventaja de usar una lista de comprensión es que puede producir una gran\n",
    "resultado si la entrada original es grande. Si esto le preocupa, puede usar expresiones generadoras\n",
    "para producir los valores filtrados de forma iterativa.   \n",
    "Por ejemplo:"
   ]
  },
  {
   "cell_type": "code",
   "execution_count": 21,
   "metadata": {},
   "outputs": [
    {
     "data": {
      "text/plain": [
       "<generator object <genexpr> at 0x7f188425cf20>"
      ]
     },
     "execution_count": 21,
     "metadata": {},
     "output_type": "execute_result"
    }
   ],
   "source": [
    "pos = (n for n in mylist if n > 0)\n",
    "pos"
   ]
  },
  {
   "cell_type": "code",
   "execution_count": 22,
   "metadata": {},
   "outputs": [
    {
     "name": "stdout",
     "output_type": "stream",
     "text": [
      "1 4 10 2 3 "
     ]
    }
   ],
   "source": [
    "for i in pos:\n",
    "    print(i,end=\" \")"
   ]
  },
  {
   "cell_type": "markdown",
   "metadata": {},
   "source": [
    "A veces, los criterios de filtrado no se pueden expresar fácilmente en una lista de comprensión o\n",
    "expresión generadora. Por ejemplo, suponga que el proceso de filtrado implica una excepción\n",
    "manipulación o algún otro detalle complicado. Para ello, ponga el código de filtrado en su propio\n",
    "función y utilice la función de filtro incorporada (). Por ejemplo:"
   ]
  },
  {
   "cell_type": "code",
   "execution_count": 23,
   "metadata": {},
   "outputs": [],
   "source": [
    "def is_int(val):\n",
    "    try:\n",
    "        x = int(val)\n",
    "        return True\n",
    "    except ValueError:\n",
    "        return False"
   ]
  },
  {
   "cell_type": "code",
   "execution_count": 24,
   "metadata": {},
   "outputs": [
    {
     "name": "stdout",
     "output_type": "stream",
     "text": [
      "['1', '2', '-3', '4', '5']\n"
     ]
    }
   ],
   "source": [
    "values = ['1', '2', '-3', '-', '4', 'N/A', '5']\n",
    "#filter crea un iterador, para obtenet una lista uso list\n",
    "ivals = list(filter(is_int, values))  \n",
    "print(ivals)"
   ]
  },
  {
   "cell_type": "code",
   "execution_count": 25,
   "metadata": {},
   "outputs": [
    {
     "data": {
      "text/plain": [
       "[1.0, 2.0, 3.1622776601683795, 1.4142135623730951, 1.7320508075688772]"
      ]
     },
     "execution_count": 25,
     "metadata": {},
     "output_type": "execute_result"
    }
   ],
   "source": [
    "mylist = [1, 4, -5, 10, -7, 2, 3, -1]\n",
    "import math\n",
    "[math.sqrt(n) for n in mylist if n > 0]"
   ]
  },
  {
   "cell_type": "code",
   "execution_count": 26,
   "metadata": {},
   "outputs": [
    {
     "data": {
      "text/plain": [
       "[None, None, -5, None, -7, None, None, -1]"
      ]
     },
     "execution_count": 26,
     "metadata": {},
     "output_type": "execute_result"
    }
   ],
   "source": [
    "[n if n < 0 else None for n in mylist]"
   ]
  },
  {
   "cell_type": "markdown",
   "metadata": {},
   "source": [
    "Otra herramienta de filtrado notable es itertools.compress (), que toma un método iterable y\n",
    "una secuencia selectora booleana adjunta como entrada. Como salida, le da todos los\n",
    "elementos en el iterable donde el elemento correspondiente en el selector es True. Esto puede\n",
    "ser útil si está intentando aplicar los resultados de filtrar una a otra secuencia relacionada  \n",
    "Por ejemplo,  \n",
    "suponga que tiene las siguientes dos columnas de datos:"
   ]
  },
  {
   "cell_type": "code",
   "execution_count": 35,
   "metadata": {},
   "outputs": [],
   "source": [
    "direc = [\n",
    "{'address':'5412 N CLARK'     , 'date': '07/01/2012'},\n",
    "{'address':'5148 N CLARK'     , 'date': '07/04/2012'},\n",
    "{'address':'5800 E 58TH'      , 'date': '07/02/2012'},\n",
    "{'address':'2122 N CLARK'     , 'date': '07/03/2012'},\n",
    "{'address':'5645 N RAVENSWOOD', 'date': '07/02/2012'},\n",
    "{'address':'1060 W ADDISON'   , 'date': '07/02/2012'},\n",
    "{'address':'4801 N BROADWAY'  , 'date': '07/01/2012'},\n",
    "{'address':'1039 W GRANVILLE' , 'date': '07/04/2012'},\n",
    "]\n",
    "cont=[1,4,5,9,5,10,6,1,15,25,35,12]"
   ]
  },
  {
   "cell_type": "code",
   "execution_count": 36,
   "metadata": {},
   "outputs": [],
   "source": [
    "from itertools import compress"
   ]
  },
  {
   "cell_type": "code",
   "execution_count": 37,
   "metadata": {},
   "outputs": [
    {
     "data": {
      "text/plain": [
       "[False, False, True, True, True, True, True, False, True, True, True, True]"
      ]
     },
     "execution_count": 37,
     "metadata": {},
     "output_type": "execute_result"
    }
   ],
   "source": [
    "mas_igual_5 = [n >= 5 for n in cont]\n",
    "mas_igual_5"
   ]
  },
  {
   "cell_type": "code",
   "execution_count": 38,
   "metadata": {},
   "outputs": [
    {
     "data": {
      "text/plain": [
       "[{'address': '5800 E 58TH', 'date': '07/02/2012'},\n",
       " {'address': '2122 N CLARK', 'date': '07/03/2012'},\n",
       " {'address': '5645 N RAVENSWOOD', 'date': '07/02/2012'},\n",
       " {'address': '1060 W ADDISON', 'date': '07/02/2012'},\n",
       " {'address': '4801 N BROADWAY', 'date': '07/01/2012'}]"
      ]
     },
     "execution_count": 38,
     "metadata": {},
     "output_type": "execute_result"
    }
   ],
   "source": [
    "list(compress(direc, mas_igual_5))"
   ]
  },
  {
   "cell_type": "code",
   "execution_count": null,
   "metadata": {},
   "outputs": [],
   "source": []
  }
 ],
 "metadata": {
  "kernelspec": {
   "display_name": "Py310",
   "language": "python",
   "name": "py310"
  },
  "language_info": {
   "codemirror_mode": {
    "name": "ipython",
    "version": 3
   },
   "file_extension": ".py",
   "mimetype": "text/x-python",
   "name": "python",
   "nbconvert_exporter": "python",
   "pygments_lexer": "ipython3",
   "version": "3.10.9"
  }
 },
 "nbformat": 4,
 "nbformat_minor": 4
}
