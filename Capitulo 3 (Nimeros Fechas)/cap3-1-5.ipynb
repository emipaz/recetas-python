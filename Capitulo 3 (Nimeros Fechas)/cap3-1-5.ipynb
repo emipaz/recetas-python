{
 "cells": [
  {
   "cell_type": "markdown",
   "metadata": {},
   "source": [
    "# Redondeo de valores numéricos\n",
    "\n",
    "3.1\n",
    "\n",
    "- Problema\n",
    "        \n",
    "        Desea redondear un número de punto flotante a un número fijo de decimales.\n",
    "\n",
    "- Solución\n",
    "        \n",
    "        Para redondeo simple, use la función de redondeo incorporada (valor, n dígitos).  \n",
    "        \n",
    "\n",
    "Por ejemplo:"
   ]
  },
  {
   "cell_type": "code",
   "execution_count": 1,
   "metadata": {},
   "outputs": [
    {
     "data": {
      "text/plain": [
       "1.2"
      ]
     },
     "execution_count": 1,
     "metadata": {},
     "output_type": "execute_result"
    }
   ],
   "source": [
    "round(1.23, 1)"
   ]
  },
  {
   "cell_type": "code",
   "execution_count": 2,
   "metadata": {},
   "outputs": [
    {
     "data": {
      "text/plain": [
       "1.3"
      ]
     },
     "execution_count": 2,
     "metadata": {},
     "output_type": "execute_result"
    }
   ],
   "source": [
    "round(1.27, 1)"
   ]
  },
  {
   "cell_type": "code",
   "execution_count": 3,
   "metadata": {},
   "outputs": [
    {
     "data": {
      "text/plain": [
       "-1.3"
      ]
     },
     "execution_count": 3,
     "metadata": {},
     "output_type": "execute_result"
    }
   ],
   "source": [
    "round(-1.27, 1)"
   ]
  },
  {
   "cell_type": "code",
   "execution_count": 4,
   "metadata": {},
   "outputs": [
    {
     "data": {
      "text/plain": [
       "1.254"
      ]
     },
     "execution_count": 4,
     "metadata": {},
     "output_type": "execute_result"
    }
   ],
   "source": [
    "round(1.25361,3)"
   ]
  },
  {
   "cell_type": "code",
   "execution_count": 5,
   "metadata": {},
   "outputs": [
    {
     "data": {
      "text/plain": [
       "1"
      ]
     },
     "execution_count": 5,
     "metadata": {},
     "output_type": "execute_result"
    }
   ],
   "source": [
    "round(1.25361)"
   ]
  },
  {
   "cell_type": "markdown",
   "metadata": {},
   "source": [
    "Cuando un valor está exactamente a medio camino entre dos opciones, el comportamiento de round es redondear\n",
    "al dígito par más cercano. Es decir, valores como 1,5 o 2,5 se redondean a 2.\n",
    "El número de dígitos dados a round () puede ser negativo, en cuyo caso el redondeo toma\n",
    "lugar para decenas, centenas, miles, etc.   \n",
    "Por ejemplo:"
   ]
  },
  {
   "cell_type": "code",
   "execution_count": 6,
   "metadata": {},
   "outputs": [
    {
     "data": {
      "text/plain": [
       "1627730"
      ]
     },
     "execution_count": 6,
     "metadata": {},
     "output_type": "execute_result"
    }
   ],
   "source": [
    "a = 1627731\n",
    "round(a, -1)"
   ]
  },
  {
   "cell_type": "code",
   "execution_count": 7,
   "metadata": {},
   "outputs": [
    {
     "data": {
      "text/plain": [
       "1627700"
      ]
     },
     "execution_count": 7,
     "metadata": {},
     "output_type": "execute_result"
    }
   ],
   "source": [
    "round(a, -2)"
   ]
  },
  {
   "cell_type": "code",
   "execution_count": 8,
   "metadata": {},
   "outputs": [
    {
     "data": {
      "text/plain": [
       "1628000"
      ]
     },
     "execution_count": 8,
     "metadata": {},
     "output_type": "execute_result"
    }
   ],
   "source": [
    "round(a, -3)"
   ]
  },
  {
   "cell_type": "markdown",
   "metadata": {},
   "source": [
    "No confunda el redondeo con el formato de un valor de salida. Si tu objetivo es simplemente\n",
    "generar un valor numérico con un cierto número de posiciones decimales, normalmente no\n",
    "necesita usar round (). En su lugar, solo especifique la precisión deseada al formatear.  \n",
    "por ejemplo:"
   ]
  },
  {
   "cell_type": "code",
   "execution_count": 9,
   "metadata": {},
   "outputs": [
    {
     "data": {
      "text/plain": [
       "'1.23'"
      ]
     },
     "execution_count": 9,
     "metadata": {},
     "output_type": "execute_result"
    }
   ],
   "source": [
    "x = 1.23456\n",
    "format(x, '0.2f')"
   ]
  },
  {
   "cell_type": "code",
   "execution_count": 10,
   "metadata": {},
   "outputs": [
    {
     "data": {
      "text/plain": [
       "'1.235'"
      ]
     },
     "execution_count": 10,
     "metadata": {},
     "output_type": "execute_result"
    }
   ],
   "source": [
    "format(x, '0.3f')"
   ]
  },
  {
   "cell_type": "code",
   "execution_count": 11,
   "metadata": {},
   "outputs": [
    {
     "data": {
      "text/plain": [
       "'value is 1.235'"
      ]
     },
     "execution_count": 11,
     "metadata": {},
     "output_type": "execute_result"
    }
   ],
   "source": [
    "'value is {:0.3f}'.format(x)"
   ]
  },
  {
   "cell_type": "markdown",
   "metadata": {},
   "source": [
    "Además, resista la tentación de redondear números de punto flotante para \"solucionar\" los problemas de precisión percibidos.   \n",
    "Por ejemplo, podría estar inclinado a hacer esto:"
   ]
  },
  {
   "cell_type": "code",
   "execution_count": 12,
   "metadata": {},
   "outputs": [
    {
     "data": {
      "text/plain": [
       "6.300000000000001"
      ]
     },
     "execution_count": 12,
     "metadata": {},
     "output_type": "execute_result"
    }
   ],
   "source": [
    "a = 2.1\n",
    "b = 4.2\n",
    "c = a + b\n",
    "c"
   ]
  },
  {
   "cell_type": "code",
   "execution_count": 13,
   "metadata": {},
   "outputs": [
    {
     "data": {
      "text/plain": [
       "6.3"
      ]
     },
     "execution_count": 13,
     "metadata": {},
     "output_type": "execute_result"
    }
   ],
   "source": [
    "c = round(c, 2)\n",
    "c"
   ]
  },
  {
   "cell_type": "markdown",
   "metadata": {},
   "source": [
    "Para la mayoría de las aplicaciones que involucran punto flotante, simplemente no es necesario (o se recomienda\n",
    "remendado) para hacer esto. Aunque se introducen pequeños errores en los cálculos,\n",
    "El comportamiento de esos errores es entendido y tolerado. Si evitar tales errores es importante\n",
    "importante (por ejemplo, en aplicaciones financieras, tal vez), considere el uso del módulo decimal."
   ]
  },
  {
   "cell_type": "markdown",
   "metadata": {},
   "source": [
    "# Realizar cálculos decimales precisos\n",
    "\n",
    "3.2\n",
    "\n",
    "- Problema\n",
    "        \n",
    "        Necesita realizar cálculos precisos con números decimales y no quiere pequeños errores que ocurren naturalmente con los flotadores.\n",
    "  \n",
    "  \n",
    "- Solución\n",
    "        \n",
    "        Un problema conocido con los números de punto flotante es que no pueden representar con precisión todos los decimales en base 10. Además, incluso los cálculos matemáticos simples introducen pequeños errores.   \n",
    "\n",
    "Por ejemplo:"
   ]
  },
  {
   "cell_type": "code",
   "execution_count": 1,
   "metadata": {},
   "outputs": [
    {
     "data": {
      "text/plain": [
       "6.300000000000001"
      ]
     },
     "execution_count": 1,
     "metadata": {},
     "output_type": "execute_result"
    }
   ],
   "source": [
    "a = 4.2\n",
    "b = 2.1\n",
    "a + b"
   ]
  },
  {
   "cell_type": "code",
   "execution_count": 2,
   "metadata": {},
   "outputs": [
    {
     "data": {
      "text/plain": [
       "False"
      ]
     },
     "execution_count": 2,
     "metadata": {},
     "output_type": "execute_result"
    }
   ],
   "source": [
    "(a + b) == 6.3"
   ]
  },
  {
   "cell_type": "markdown",
   "metadata": {},
   "source": [
    "Estos errores son una \"característica\" de la CPU subyacente y el patrón aritmético IEEE 754. formado por su unidad de punto flotante. \n",
    "Dado que el tipo de datos flotante de Python almacena datos usando el representación nativa, no hay nada que pueda hacer para evitar tales errores si escribe su\n",
    "código usando instancias flotantes.\n",
    "Si desea más precisión (y está dispuesto a renunciar a algo de rendimiento), puede utilizar el módulo decimal:"
   ]
  },
  {
   "cell_type": "code",
   "execution_count": 3,
   "metadata": {},
   "outputs": [
    {
     "data": {
      "text/plain": [
       "Decimal('6.3')"
      ]
     },
     "execution_count": 3,
     "metadata": {},
     "output_type": "execute_result"
    }
   ],
   "source": [
    "from decimal import Decimal\n",
    "a = Decimal('4.2')\n",
    "b = Decimal('2.1')\n",
    "a + b"
   ]
  },
  {
   "cell_type": "code",
   "execution_count": 4,
   "metadata": {},
   "outputs": [
    {
     "name": "stdout",
     "output_type": "stream",
     "text": [
      "6.3\n"
     ]
    }
   ],
   "source": [
    "print(a + b)"
   ]
  },
  {
   "cell_type": "code",
   "execution_count": 5,
   "metadata": {},
   "outputs": [
    {
     "data": {
      "text/plain": [
       "True"
      ]
     },
     "execution_count": 5,
     "metadata": {},
     "output_type": "execute_result"
    }
   ],
   "source": [
    "(a + b) == Decimal('6.3')"
   ]
  },
  {
   "cell_type": "markdown",
   "metadata": {},
   "source": [
    "A primera vista, puede parecer un poco extraño (es decir, especificar números como cadenas). Sin embargo,\n",
    "Los objetos decimales funcionan de todas las formas en las que cabría esperar que lo hicieran (admitiendo todos los\n",
    "operaciones matemáticas habituales, etc.). Si los imprime o los usa en la función de formato de cadena, parecen números normales.\n",
    "Una característica importante del decimal es que le permite controlar diferentes aspectos del cálculo.\n",
    "\n",
    "Si bien los decimales son geniales para la precisión, también son más lentos que los flotadores. Si está escribiendo un programa que realiza un montón de cálculos matemáticos intensivos, es posible que desee evitar el uso de decimales. Sin embargo, para aplicaciones que requieren alta precisión (por ejemplo, cálculos financieros, cálculos y representaciones de moneda, etc.), los decimales son esenciales."
   ]
  },
  {
   "cell_type": "markdown",
   "metadata": {},
   "source": [
    "Un aspecto importante de los decimales es que le permite controlar diferentes aspectos de los cálculos, incluido el número de dígitos y el redondeo. Para hacer esto, cree un contexto local y cambie su configuración. Por ejemplo:\n"
   ]
  },
  {
   "cell_type": "code",
   "execution_count": 6,
   "metadata": {},
   "outputs": [
    {
     "name": "stdout",
     "output_type": "stream",
     "text": [
      "0.7647058823529411764705882353\n"
     ]
    }
   ],
   "source": [
    "a = Decimal('1.3')\n",
    "b = Decimal('1.7')\n",
    "print(a / b)"
   ]
  },
  {
   "cell_type": "code",
   "execution_count": 7,
   "metadata": {},
   "outputs": [
    {
     "name": "stdout",
     "output_type": "stream",
     "text": [
      "0.765\n"
     ]
    }
   ],
   "source": [
    "from decimal import localcontext\n",
    "with localcontext() as ctx:\n",
    "    ctx.prec = 3\n",
    "    print(a / b)"
   ]
  },
  {
   "cell_type": "code",
   "execution_count": 9,
   "metadata": {},
   "outputs": [
    {
     "name": "stdout",
     "output_type": "stream",
     "text": [
      "0.76470588235294117647058823529411764705882352941176\n"
     ]
    }
   ],
   "source": [
    "with localcontext() as ctx:\n",
    "    ctx.prec = 50\n",
    "    print(a / b)"
   ]
  },
  {
   "cell_type": "markdown",
   "metadata": {},
   "source": [
    "El módulo decimal implementa la \"Especificación aritmética decimal general\" de IBM.   \n",
    "\n",
    "No hace falta decir que hay una gran cantidad de opciones de configuración que van más allá del alcance de este libro.  \n",
    "\n",
    "Los recién llegados a Python pueden estar inclinados a usar el módulo decimal para solucionar problemas de precisión percibidos con el tipo de datos flotantes. Sin embargo, es muy importante para comprender el dominio de su aplicación. Si trabaja con problemas de ciencia o ingeniería, gráficos por computadora o la mayoría de las cosas de naturaleza científica, es simplemente más común para usar el tipo de punto flotante normal.  \n",
    "\n",
    "Por un lado, muy pocas cosas en el mundo real se miden con los 17 dígitos de precisión que proporcionan los flotantes . Así, que se introdujeran pequeños errores en los cálculos simplemente no importa. En segundo lugar, el rendimiento de los flotantes nativos es significativamente más rápido, algo que es importante si está realizando una gran cantidad de cálculos.  \n",
    "\n",
    "Dicho esto, no puede ignorar los errores por completo. Los matemáticos han invertido mucho tiempo estudiando varios algoritmos, y algunos manejan los errores mejor que otros.  \n",
    "Hay que tener un poco de cuidado con los efectos debido a cosas como la cancelación sustractiva y sumando números grandes y pequeños juntos.    \n",
    "Por ejemplo:"
   ]
  },
  {
   "cell_type": "code",
   "execution_count": 10,
   "metadata": {},
   "outputs": [],
   "source": [
    "nums = [1.23e+18, 1, -1.23e+18]"
   ]
  },
  {
   "cell_type": "code",
   "execution_count": 11,
   "metadata": {},
   "outputs": [
    {
     "data": {
      "text/plain": [
       "0.0"
      ]
     },
     "execution_count": 11,
     "metadata": {},
     "output_type": "execute_result"
    }
   ],
   "source": [
    "sum(nums)"
   ]
  },
  {
   "cell_type": "markdown",
   "metadata": {},
   "source": [
    "Este último ejemplo se puede abordar mediante una implementación más precisa en\n",
    "math.fsum ():"
   ]
  },
  {
   "cell_type": "code",
   "execution_count": 12,
   "metadata": {},
   "outputs": [
    {
     "data": {
      "text/plain": [
       "1.0"
      ]
     },
     "execution_count": 12,
     "metadata": {},
     "output_type": "execute_result"
    }
   ],
   "source": [
    "import math\n",
    "math.fsum(nums)"
   ]
  },
  {
   "cell_type": "markdown",
   "metadata": {},
   "source": [
    "Sin embargo, para otros algoritmos, realmente necesita estudiar el algoritmo y comprender\n",
    "sus propiedades de propagación de errores.\n",
    "Dicho todo esto, el uso principal del módulo decimal es en programas que involucran cosas\n",
    "como las finanzas. En tales programas, es extremadamente molesto que se produzcan pequeños errores en el cálculo. Por lo tanto, decimal proporciona una forma de evitarlo.  \n",
    "También es común encontrar objetos Decimal cuando Python interactúa con bases de datos, de nuevo, especialmente al acceder a datos financieros."
   ]
  },
  {
   "cell_type": "markdown",
   "metadata": {},
   "source": [
    "# Formateo de números para salida\n",
    "\n",
    "3.3\n",
    "\n",
    "- Problema\n",
    "        \n",
    "        Debe formatear un número para la salida, controlando el número de dígitos, alineación, inclusión de un separador de miles y otros detalles.  \n",
    "  \n",
    "\n",
    "- Solución\n",
    "        \n",
    "        Para formatear un solo número para la salida, use la función integrada de formato ().   \n",
    "  \n",
    "Por ejemplo:"
   ]
  },
  {
   "cell_type": "code",
   "execution_count": 13,
   "metadata": {},
   "outputs": [
    {
     "data": {
      "text/plain": [
       "'1234.57'"
      ]
     },
     "execution_count": 13,
     "metadata": {},
     "output_type": "execute_result"
    }
   ],
   "source": [
    "x = 1234.56789\n",
    "format(x, '0.2f') #presicion de 2 decimales"
   ]
  },
  {
   "cell_type": "code",
   "execution_count": 14,
   "metadata": {},
   "outputs": [
    {
     "data": {
      "text/plain": [
       "'    1234.6'"
      ]
     },
     "execution_count": 14,
     "metadata": {},
     "output_type": "execute_result"
    }
   ],
   "source": [
    "format(x, '>10.1f') # alineado a la derecha en un espacio de 10 con presicion de 1 decimal"
   ]
  },
  {
   "cell_type": "code",
   "execution_count": 15,
   "metadata": {},
   "outputs": [
    {
     "data": {
      "text/plain": [
       "'1234.6    '"
      ]
     },
     "execution_count": 15,
     "metadata": {},
     "output_type": "execute_result"
    }
   ],
   "source": [
    "format(x, '<10.1f') # alineado a la izquierda en un espacio de 10 con presicion de 1 decimal"
   ]
  },
  {
   "cell_type": "code",
   "execution_count": 16,
   "metadata": {},
   "outputs": [
    {
     "data": {
      "text/plain": [
       "'  1234.6  '"
      ]
     },
     "execution_count": 16,
     "metadata": {},
     "output_type": "execute_result"
    }
   ],
   "source": [
    "format(x, '^10.1f') # centrado espacio de 10 con presicion de 1 decimal"
   ]
  },
  {
   "cell_type": "code",
   "execution_count": 17,
   "metadata": {},
   "outputs": [
    {
     "data": {
      "text/plain": [
       "'--1234.6--'"
      ]
     },
     "execution_count": 17,
     "metadata": {},
     "output_type": "execute_result"
    }
   ],
   "source": [
    "'{:-^10.1f}'.format(x) # centrado y rellenado con UN caracter especifico"
   ]
  },
  {
   "cell_type": "code",
   "execution_count": 18,
   "metadata": {},
   "outputs": [
    {
     "data": {
      "text/plain": [
       "'###1234.57'"
      ]
     },
     "execution_count": 18,
     "metadata": {},
     "output_type": "execute_result"
    }
   ],
   "source": [
    "format(x, '#>10.2f')"
   ]
  },
  {
   "cell_type": "code",
   "execution_count": 25,
   "metadata": {},
   "outputs": [
    {
     "data": {
      "text/plain": [
       "'1,234.56789'"
      ]
     },
     "execution_count": 25,
     "metadata": {},
     "output_type": "execute_result"
    }
   ],
   "source": [
    "format(x, ',') # insertando un caracter para representar los miles"
   ]
  },
  {
   "cell_type": "code",
   "execution_count": 55,
   "metadata": {},
   "outputs": [
    {
     "data": {
      "text/plain": [
       "'  1,234.57'"
      ]
     },
     "execution_count": 55,
     "metadata": {},
     "output_type": "execute_result"
    }
   ],
   "source": [
    "format(x, '10,.2f')"
   ]
  },
  {
   "cell_type": "code",
   "execution_count": 26,
   "metadata": {},
   "outputs": [],
   "source": [
    "millon=1e6"
   ]
  },
  {
   "cell_type": "code",
   "execution_count": 27,
   "metadata": {},
   "outputs": [
    {
     "data": {
      "text/plain": [
       "'1,000,000'"
      ]
     },
     "execution_count": 27,
     "metadata": {},
     "output_type": "execute_result"
    }
   ],
   "source": [
    "format(millon, \",.0f\")"
   ]
  },
  {
   "cell_type": "code",
   "execution_count": 28,
   "metadata": {},
   "outputs": [
    {
     "data": {
      "text/plain": [
       "'1_000_000'"
      ]
     },
     "execution_count": 28,
     "metadata": {},
     "output_type": "execute_result"
    }
   ],
   "source": [
    "format(millon, \"_.0f\")"
   ]
  },
  {
   "cell_type": "code",
   "execution_count": 29,
   "metadata": {},
   "outputs": [],
   "source": [
    "millon2 = 2_000_000"
   ]
  },
  {
   "cell_type": "code",
   "execution_count": 30,
   "metadata": {},
   "outputs": [
    {
     "data": {
      "text/plain": [
       "2000000"
      ]
     },
     "execution_count": 30,
     "metadata": {},
     "output_type": "execute_result"
    }
   ],
   "source": [
    "millon2"
   ]
  },
  {
   "cell_type": "markdown",
   "metadata": {},
   "source": [
    "Si desea utilizar la notación exponencial, cambie la f por una e o E, según el\n",
    "caso que desee utilizar para el especificador exponencial.   \n",
    "Por ejemplo:"
   ]
  },
  {
   "cell_type": "code",
   "execution_count": 31,
   "metadata": {},
   "outputs": [
    {
     "data": {
      "text/plain": [
       "'1.234568e+03'"
      ]
     },
     "execution_count": 31,
     "metadata": {},
     "output_type": "execute_result"
    }
   ],
   "source": [
    "format(x, 'e')"
   ]
  },
  {
   "cell_type": "code",
   "execution_count": 32,
   "metadata": {},
   "outputs": [
    {
     "data": {
      "text/plain": [
       "'1.23E+03'"
      ]
     },
     "execution_count": 32,
     "metadata": {},
     "output_type": "execute_result"
    }
   ],
   "source": [
    "format(x, '0.2E')"
   ]
  },
  {
   "cell_type": "markdown",
   "metadata": {},
   "source": [
    "La forma general del ancho y la precisión en ambos casos es '[<> ^]? alineacion [,]? (.digitos)?' donde el ancho y los dígitos son números enteros y? significa partes opcionales. De la misma manera los formato de texto también se utilizan en el método de str.format ().   \n",
    "Por ejemplo:"
   ]
  },
  {
   "cell_type": "code",
   "execution_count": 35,
   "metadata": {},
   "outputs": [
    {
     "name": "stdout",
     "output_type": "stream",
     "text": [
      "El resultado es :'1,234.57'\n"
     ]
    }
   ],
   "source": [
    "print(\"El resultado es :'{:0,.2f}'\".format(x))"
   ]
  },
  {
   "cell_type": "markdown",
   "metadata": {},
   "source": [
    "El formateo  de valores con un separador de miles no tiene en cuenta la configuración regional. Si necesitas tomar  en cuenta, puede investigar las funciones en el módulo de configuración regional.   \n",
    "También puedes intercambiar caracteres separadores utilizando el método de cadenas translate ().   \n",
    "Por ejemplo:"
   ]
  },
  {
   "cell_type": "code",
   "execution_count": 36,
   "metadata": {},
   "outputs": [
    {
     "data": {
      "text/plain": [
       "'1.234,56789'"
      ]
     },
     "execution_count": 36,
     "metadata": {},
     "output_type": "execute_result"
    }
   ],
   "source": [
    "swap_separators = { ord('.'):',', ord(','):'.' }\n",
    "format(x, ',').translate(swap_separators)"
   ]
  },
  {
   "cell_type": "code",
   "execution_count": 37,
   "metadata": {},
   "outputs": [
    {
     "data": {
      "text/plain": [
       "'EmiliAno'"
      ]
     },
     "execution_count": 37,
     "metadata": {},
     "output_type": "execute_result"
    }
   ],
   "source": [
    "swap_separators = { ord('a'):'A', ord('e'):'E' }\n",
    "\"emiliano\".translate(swap_separators)"
   ]
  },
  {
   "cell_type": "markdown",
   "metadata": {},
   "source": [
    "# Trabajar con Enteros binario, octal y hexadecimal \n",
    "\n",
    "3.4\n",
    "\n",
    "- Problema\n",
    "        \n",
    "        Necesita convertir o generar números enteros representados por binario, octal o hexadecimal dígitos.  \n",
    "        \n",
    "        \n",
    "- Solución\n",
    "        \n",
    "        Para convertir un número entero en una cadena de texto binaria, octal o hexadecimal, use bin (), funciones oct () o hex (), respectivamente:  \n",
    "        \n",
    "Por exemplo:"
   ]
  },
  {
   "cell_type": "code",
   "execution_count": 38,
   "metadata": {},
   "outputs": [],
   "source": [
    "x = 1234"
   ]
  },
  {
   "cell_type": "code",
   "execution_count": 39,
   "metadata": {},
   "outputs": [
    {
     "data": {
      "text/plain": [
       "'0b10011010010'"
      ]
     },
     "execution_count": 39,
     "metadata": {},
     "output_type": "execute_result"
    }
   ],
   "source": [
    "bin(x)"
   ]
  },
  {
   "cell_type": "code",
   "execution_count": 40,
   "metadata": {},
   "outputs": [
    {
     "data": {
      "text/plain": [
       "'0o2322'"
      ]
     },
     "execution_count": 40,
     "metadata": {},
     "output_type": "execute_result"
    }
   ],
   "source": [
    "oct(x)"
   ]
  },
  {
   "cell_type": "code",
   "execution_count": 41,
   "metadata": {},
   "outputs": [
    {
     "data": {
      "text/plain": [
       "'0x4d2'"
      ]
     },
     "execution_count": 41,
     "metadata": {},
     "output_type": "execute_result"
    }
   ],
   "source": [
    "hex(x)"
   ]
  },
  {
   "cell_type": "code",
   "execution_count": 42,
   "metadata": {},
   "outputs": [
    {
     "data": {
      "text/plain": [
       "'10011010010'"
      ]
     },
     "execution_count": 42,
     "metadata": {},
     "output_type": "execute_result"
    }
   ],
   "source": [
    "format(x, 'b')"
   ]
  },
  {
   "cell_type": "code",
   "execution_count": 43,
   "metadata": {},
   "outputs": [
    {
     "data": {
      "text/plain": [
       "'2322'"
      ]
     },
     "execution_count": 43,
     "metadata": {},
     "output_type": "execute_result"
    }
   ],
   "source": [
    "format(x, 'o')"
   ]
  },
  {
   "cell_type": "code",
   "execution_count": 44,
   "metadata": {},
   "outputs": [
    {
     "data": {
      "text/plain": [
       "'4d2'"
      ]
     },
     "execution_count": 44,
     "metadata": {},
     "output_type": "execute_result"
    }
   ],
   "source": [
    "format(x, 'x')"
   ]
  },
  {
   "cell_type": "code",
   "execution_count": 45,
   "metadata": {},
   "outputs": [
    {
     "data": {
      "text/plain": [
       "'4D2'"
      ]
     },
     "execution_count": 45,
     "metadata": {},
     "output_type": "execute_result"
    }
   ],
   "source": [
    "format(x, 'X')"
   ]
  },
  {
   "cell_type": "code",
   "execution_count": 46,
   "metadata": {},
   "outputs": [
    {
     "data": {
      "text/plain": [
       "1234"
      ]
     },
     "execution_count": 46,
     "metadata": {},
     "output_type": "execute_result"
    }
   ],
   "source": [
    ">>> int('4d2', 16)"
   ]
  },
  {
   "cell_type": "code",
   "execution_count": 47,
   "metadata": {},
   "outputs": [
    {
     "data": {
      "text/plain": [
       "1234"
      ]
     },
     "execution_count": 47,
     "metadata": {},
     "output_type": "execute_result"
    }
   ],
   "source": [
    ">>> int('10011010010', 2)"
   ]
  },
  {
   "cell_type": "markdown",
   "metadata": {},
   "source": [
    "# Empaquetado y desempaquetado de números enteros grandes a partir de bytes\n",
    "\n",
    "3.5\n",
    "\n",
    "- Problema\n",
    "        \n",
    "        Tiene una cadena de bytes y necesita descomprimirla en un valor entero. Alternativamente, necesita convertir un entero grande de nuevo en una cadena de bytes.\n",
    "  \n",
    "\n",
    "- Solución\n",
    "        \n",
    "        Suponga que su programa necesita trabajar con una cadena de bytes de 16 elementos que contiene 128 valor entero de bit.   \n",
    "\n",
    "Por ejemplo:"
   ]
  },
  {
   "cell_type": "code",
   "execution_count": 48,
   "metadata": {},
   "outputs": [],
   "source": [
    "data = b'\\x00\\x124V\\x00x\\x90\\xab\\x00\\xcd\\xef\\x01\\x00#\\x004'"
   ]
  },
  {
   "cell_type": "code",
   "execution_count": 49,
   "metadata": {},
   "outputs": [
    {
     "data": {
      "text/plain": [
       "16"
      ]
     },
     "execution_count": 49,
     "metadata": {},
     "output_type": "execute_result"
    }
   ],
   "source": [
    "len(data)"
   ]
  },
  {
   "cell_type": "code",
   "execution_count": 50,
   "metadata": {},
   "outputs": [
    {
     "data": {
      "text/plain": [
       "69120565665751139577663547927094891008"
      ]
     },
     "execution_count": 50,
     "metadata": {},
     "output_type": "execute_result"
    }
   ],
   "source": [
    "int.from_bytes(data, 'little')"
   ]
  },
  {
   "cell_type": "code",
   "execution_count": 51,
   "metadata": {},
   "outputs": [
    {
     "data": {
      "text/plain": [
       "94522842520747284487117727783387188"
      ]
     },
     "execution_count": 51,
     "metadata": {},
     "output_type": "execute_result"
    }
   ],
   "source": [
    "int.from_bytes(data, 'big')"
   ]
  },
  {
   "cell_type": "markdown",
   "metadata": {},
   "source": [
    "Para convertir un valor entero grande nuevamente en una cadena de bytes, use el método int.to_bytes (), especificando el número de bytes y el orden de los bytes.   \n",
    "Por ejemplo:"
   ]
  },
  {
   "cell_type": "code",
   "execution_count": 52,
   "metadata": {},
   "outputs": [],
   "source": [
    "x = 94522842520747284487117727783387188"
   ]
  },
  {
   "cell_type": "code",
   "execution_count": 53,
   "metadata": {},
   "outputs": [
    {
     "data": {
      "text/plain": [
       "b'\\x00\\x124V\\x00x\\x90\\xab\\x00\\xcd\\xef\\x01\\x00#\\x004'"
      ]
     },
     "execution_count": 53,
     "metadata": {},
     "output_type": "execute_result"
    }
   ],
   "source": [
    "x.to_bytes(16, 'big')"
   ]
  },
  {
   "cell_type": "code",
   "execution_count": 54,
   "metadata": {},
   "outputs": [],
   "source": [
    "x_16_l = x.to_bytes(16,\"little\")"
   ]
  },
  {
   "cell_type": "code",
   "execution_count": 55,
   "metadata": {},
   "outputs": [
    {
     "data": {
      "text/plain": [
       "16"
      ]
     },
     "execution_count": 55,
     "metadata": {},
     "output_type": "execute_result"
    }
   ],
   "source": [
    "len(x_16_l)"
   ]
  },
  {
   "cell_type": "code",
   "execution_count": 56,
   "metadata": {},
   "outputs": [
    {
     "data": {
      "text/plain": [
       "b'4\\x00#\\x00\\x01\\xef\\xcd\\x00\\xab\\x90x\\x00V4\\x12\\x00'"
      ]
     },
     "execution_count": 56,
     "metadata": {},
     "output_type": "execute_result"
    }
   ],
   "source": [
    "x_16_l"
   ]
  },
  {
   "cell_type": "markdown",
   "metadata": {},
   "source": [
    "La conversión de valores enteros grandes hacia y desde cadenas de bytes no es una operación común.\n",
    "Sin embargo, a veces surge en ciertos dominios de aplicación, como la criptografía o\n",
    "redes. Por ejemplo, las direcciones de red IPv6 se representan como números enteros de 128 bits.  \n",
    "Si está escribiendo código que necesita extraer dichos valores de un registro de datos, puede enfrentar este problema.\n",
    "Como alternativa a esta receta, es posible que desee descomprimir valores utilizando el módulo struct, como se describe en la receta 6.11. Esto funciona, pero el tamaño de los enteros que se pueden desempaquetado con struct es limitado. Por lo tanto, necesitaría descomprimir múltiples valores y combínarlos para crear el valor final.   \n",
    "Por ejemplo:\n",
    "\n",
    "```python\n",
    ">>> data\n",
    "b'\\x00\\x124V\\x00x\\x90\\xab\\x00\\xcd\\xef\\x01\\x00#\\x004'\n",
    ">>> import struct\n",
    ">>> hi, lo = struct.unpack('>QQ', data)\n",
    ">>> (hi << 64) + lo\n",
    "94522842520747284487117727783387188\n",
    ">>>\n",
    "```\n",
    "\n",
    "La especificación del orden de bytes (pequeños o grandes) solo indica si los bytes que\n",
    "componen el valor entero se enumeran de menor a mayor importancia o al revés\n",
    "alrededor. Esto es fácil de ver usando un valor hexadecimal cuidadosamente elaborado:\n",
    "```python\n",
    ">>> x = 0x01020304\n",
    ">>> x.to_bytes(4, 'big')\n",
    "b'\\x01\\x02\\x03\\x04'\n",
    ">>> x.to_bytes(4, 'little')\n",
    "b'\\x04\\x03\\x02\\x01'\n",
    "```\n",
    "\n",
    "Si intenta empaquetar un número entero en una cadena de bytes, pero no encaja, obtendrá un error. usted puede usar el método int.bit_length () para determinar cuántos bits se requieren para almacenar un valor si es necesario:\n",
    "\n",
    "```python\n",
    ">>> x = 523 ** 23\n",
    ">>> x\n",
    "335381300113661875107536852714019056160355655333978849017944067\n",
    ">>> x.to_bytes(16, 'little')\n",
    "Traceback (most recent call last):\n",
    "File \"<stdin>\", line 1, in <module>\n",
    "OverflowError: int too big to convert\n",
    ">>> x.bit_length()\n",
    "208\n",
    ">>> nbytes, rem = divmod(x.bit_length(), 8)\n",
    ">>> if rem:\n",
    "...     nbytes += 1\n",
    "...\n",
    ">>>\n",
    ">>> x.to_bytes(nbytes, 'little')\n",
    "b'\\x03X\\xf1\\x82iT\\x96\\xac\\xc7c\\x16\\xf3\\xb9\\xcf...\\xd0'\n",
    ">>>\n",
    "```"
   ]
  },
  {
   "cell_type": "code",
   "execution_count": null,
   "metadata": {},
   "outputs": [],
   "source": []
  }
 ],
 "metadata": {
  "kernelspec": {
   "display_name": "Py310",
   "language": "python",
   "name": "py310"
  },
  "language_info": {
   "codemirror_mode": {
    "name": "ipython",
    "version": 3
   },
   "file_extension": ".py",
   "mimetype": "text/x-python",
   "name": "python",
   "nbconvert_exporter": "python",
   "pygments_lexer": "ipython3",
   "version": "3.10.9"
  }
 },
 "nbformat": 4,
 "nbformat_minor": 4
}
